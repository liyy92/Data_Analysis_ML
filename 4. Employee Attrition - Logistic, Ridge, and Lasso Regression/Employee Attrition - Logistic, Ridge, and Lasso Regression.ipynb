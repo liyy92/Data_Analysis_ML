{
 "cells": [
  {
   "cell_type": "markdown",
   "metadata": {
    "colab_type": "text",
    "id": "lm9o1EBHg0et"
   },
   "source": [
    "# Employee Attrition - Logistic, Ridge, and Lasso Regression\n",
    "\n",
    "## Author: Yuanying Li\n",
    "\n"
   ]
  },
  {
   "cell_type": "markdown",
   "metadata": {
    "colab_type": "text",
    "id": "AaOnf9Si3Elu"
   },
   "source": [
    "### Part 1 - Use logistic regression to predict when people are going to leave a company \n",
    "### Part 2 - Use logistic regression to predict when customers are going to transact \n",
    "### Part 3 - Use regularization to predict salaries for a sports player\n"
   ]
  },
  {
   "cell_type": "markdown",
   "metadata": {
    "colab_type": "text",
    "id": "mhZf8HaCgzCh"
   },
   "source": [
    "#Import necessary packages#"
   ]
  },
  {
   "cell_type": "code",
   "execution_count": null,
   "metadata": {
    "colab": {},
    "colab_type": "code",
    "id": "3ONh8fEvhyHB"
   },
   "outputs": [],
   "source": [
    "import numpy as np\n",
    "import random\n",
    "import pandas as pd\n",
    "import os\n",
    "import seaborn as sns\n",
    "import statsmodels.api as sm\n",
    "from sklearn import datasets\n",
    "from sklearn.feature_selection import RFE\n",
    "from sklearn.linear_model import LogisticRegression\n",
    "from sklearn.linear_model import LassoCV, LassoLarsCV, LassoLarsIC\n",
    "from sklearn.model_selection import train_test_split, cross_val_score\n",
    "from sklearn.linear_model import LinearRegression\n",
    "from sklearn.metrics import mean_squared_error\n",
    "from sklearn import linear_model\n",
    "from matplotlib import pyplot as plt\n",
    "from matplotlib.ticker import PercentFormatter\n",
    "from pylab import rcParams\n",
    "from sklearn.linear_model import Ridge\n",
    "from sklearn.linear_model import Lasso\n",
    "from sklearn import preprocessing\n",
    "import seaborn as sbn\n",
    "import sklearn\n",
    "from sklearn import metrics\n",
    "from sklearn.preprocessing import StandardScaler\n",
    "from sklearn.pipeline import Pipeline\n",
    "from sklearn.model_selection import GridSearchCV\n",
    "from sklearn.linear_model import RidgeCV\n",
    "from sklearn.metrics import r2_score\n",
    "from sklearn.preprocessing import LabelEncoder \n",
    "from sklearn.linear_model import ElasticNet\n",
    "import matplotlib.pyplot as plt\n",
    "\n",
    "\n",
    "\n",
    "\n",
    "rcParams['figure.figsize'] = (23, 8)\n",
    "sns.set_style('whitegrid')\n",
    "plt.style.use('fivethirtyeight')"
   ]
  },
  {
   "cell_type": "markdown",
   "metadata": {
    "colab_type": "text",
    "id": "3xd4HeExKNr7"
   },
   "source": [
    "#Part 1 - Use logistic regression to predict when people are going to leave a company \n",
    "## 1.1 Data Acquisition & Rudimentary Analysis#\n",
    "\n"
   ]
  },
  {
   "cell_type": "code",
   "execution_count": null,
   "metadata": {
    "colab": {
     "base_uri": "https://localhost:8080/",
     "height": 35
    },
    "colab_type": "code",
    "executionInfo": {
     "elapsed": 2167,
     "status": "ok",
     "timestamp": 1588575482435,
     "user": {
      "displayName": "Yuanying Li",
      "photoUrl": "https://lh3.googleusercontent.com/a-/AOh14GibBabKQRHnLEhm4cv-RCGnSCKt3qup_f0552az=s64",
      "userId": "04747149797881926306"
     },
     "user_tz": 420
    },
    "id": "lZC6pPpAqauk",
    "outputId": "8d949883-821f-46e4-ae3e-a492735a9045"
   },
   "outputs": [
    {
     "name": "stdout",
     "output_type": "stream",
     "text": [
      "Shape of dataframe is: (11249, 10)\n"
     ]
    }
   ],
   "source": [
    "#Read data from Google Sheet\n",
    "df=pd.read_csv('https://docs.google.com/spreadsheets/d/e/2PACX-1vRBAjmMRXtstH8lFW_38qS6T5uN04b5sSCSLVz_wJl1V9YLnXcgHBs2-vxkmQixxTkQZC2fYxI9vVTb/pub?output=csv')\n",
    "print(\"Shape of dataframe is: {}\".format(df.shape))"
   ]
  },
  {
   "cell_type": "code",
   "execution_count": null,
   "metadata": {
    "colab": {
     "base_uri": "https://localhost:8080/",
     "height": 200
    },
    "colab_type": "code",
    "executionInfo": {
     "elapsed": 2160,
     "status": "ok",
     "timestamp": 1588575482437,
     "user": {
      "displayName": "Yuanying Li",
      "photoUrl": "https://lh3.googleusercontent.com/a-/AOh14GibBabKQRHnLEhm4cv-RCGnSCKt3qup_f0552az=s64",
      "userId": "04747149797881926306"
     },
     "user_tz": 420
    },
    "id": "qax2wuNtL5zV",
    "outputId": "29694ef5-db8b-4ba2-ca51-2d6350933d0a"
   },
   "outputs": [
    {
     "data": {
      "text/html": [
       "<div>\n",
       "<style scoped>\n",
       "    .dataframe tbody tr th:only-of-type {\n",
       "        vertical-align: middle;\n",
       "    }\n",
       "\n",
       "    .dataframe tbody tr th {\n",
       "        vertical-align: top;\n",
       "    }\n",
       "\n",
       "    .dataframe thead th {\n",
       "        text-align: right;\n",
       "    }\n",
       "</style>\n",
       "<table border=\"1\" class=\"dataframe\">\n",
       "  <thead>\n",
       "    <tr style=\"text-align: right;\">\n",
       "      <th></th>\n",
       "      <th>employee_satisfaction</th>\n",
       "      <th>last_performance_rating</th>\n",
       "      <th>workload</th>\n",
       "      <th>avg_montly_hours</th>\n",
       "      <th>tenure_years</th>\n",
       "      <th>ergo_issues</th>\n",
       "      <th>attrit</th>\n",
       "      <th>promo_in_last_5_years</th>\n",
       "      <th>dept</th>\n",
       "      <th>salary</th>\n",
       "    </tr>\n",
       "  </thead>\n",
       "  <tbody>\n",
       "    <tr>\n",
       "      <th>0</th>\n",
       "      <td>0.82</td>\n",
       "      <td>0.97</td>\n",
       "      <td>3</td>\n",
       "      <td>244</td>\n",
       "      <td>5</td>\n",
       "      <td>0</td>\n",
       "      <td>0</td>\n",
       "      <td>0</td>\n",
       "      <td>SALES</td>\n",
       "      <td>MEDIUM</td>\n",
       "    </tr>\n",
       "    <tr>\n",
       "      <th>1</th>\n",
       "      <td>0.75</td>\n",
       "      <td>0.81</td>\n",
       "      <td>2</td>\n",
       "      <td>247</td>\n",
       "      <td>4</td>\n",
       "      <td>0</td>\n",
       "      <td>0</td>\n",
       "      <td>0</td>\n",
       "      <td>HR</td>\n",
       "      <td>SMALL</td>\n",
       "    </tr>\n",
       "    <tr>\n",
       "      <th>2</th>\n",
       "      <td>0.54</td>\n",
       "      <td>0.81</td>\n",
       "      <td>4</td>\n",
       "      <td>257</td>\n",
       "      <td>2</td>\n",
       "      <td>0</td>\n",
       "      <td>0</td>\n",
       "      <td>0</td>\n",
       "      <td>ADMIN</td>\n",
       "      <td>SMALL</td>\n",
       "    </tr>\n",
       "    <tr>\n",
       "      <th>3</th>\n",
       "      <td>0.60</td>\n",
       "      <td>0.65</td>\n",
       "      <td>4</td>\n",
       "      <td>160</td>\n",
       "      <td>2</td>\n",
       "      <td>0</td>\n",
       "      <td>0</td>\n",
       "      <td>0</td>\n",
       "      <td>IS</td>\n",
       "      <td>SMALL</td>\n",
       "    </tr>\n",
       "    <tr>\n",
       "      <th>4</th>\n",
       "      <td>0.85</td>\n",
       "      <td>0.92</td>\n",
       "      <td>4</td>\n",
       "      <td>151</td>\n",
       "      <td>3</td>\n",
       "      <td>1</td>\n",
       "      <td>0</td>\n",
       "      <td>0</td>\n",
       "      <td>IS</td>\n",
       "      <td>MEDIUM</td>\n",
       "    </tr>\n",
       "  </tbody>\n",
       "</table>\n",
       "</div>"
      ],
      "text/plain": [
       "   employee_satisfaction  last_performance_rating  ...   dept  salary\n",
       "0                   0.82                     0.97  ...  SALES  MEDIUM\n",
       "1                   0.75                     0.81  ...     HR   SMALL\n",
       "2                   0.54                     0.81  ...  ADMIN   SMALL\n",
       "3                   0.60                     0.65  ...     IS   SMALL\n",
       "4                   0.85                     0.92  ...     IS  MEDIUM\n",
       "\n",
       "[5 rows x 10 columns]"
      ]
     },
     "execution_count": 74,
     "metadata": {
      "tags": []
     },
     "output_type": "execute_result"
    }
   ],
   "source": [
    "df.head()"
   ]
  },
  {
   "cell_type": "code",
   "execution_count": null,
   "metadata": {
    "colab": {
     "base_uri": "https://localhost:8080/",
     "height": 319
    },
    "colab_type": "code",
    "executionInfo": {
     "elapsed": 2153,
     "status": "ok",
     "timestamp": 1588575482438,
     "user": {
      "displayName": "Yuanying Li",
      "photoUrl": "https://lh3.googleusercontent.com/a-/AOh14GibBabKQRHnLEhm4cv-RCGnSCKt3qup_f0552az=s64",
      "userId": "04747149797881926306"
     },
     "user_tz": 420
    },
    "id": "vTB4EgZZMTxl",
    "outputId": "645850a6-13d8-482c-de42-3103f12f11f2"
   },
   "outputs": [
    {
     "name": "stdout",
     "output_type": "stream",
     "text": [
      "<class 'pandas.core.frame.DataFrame'>\n",
      "RangeIndex: 11249 entries, 0 to 11248\n",
      "Data columns (total 10 columns):\n",
      " #   Column                   Non-Null Count  Dtype  \n",
      "---  ------                   --------------  -----  \n",
      " 0   employee_satisfaction    11249 non-null  float64\n",
      " 1   last_performance_rating  11249 non-null  float64\n",
      " 2   workload                 11249 non-null  int64  \n",
      " 3   avg_montly_hours         11249 non-null  int64  \n",
      " 4   tenure_years             11249 non-null  int64  \n",
      " 5   ergo_issues              11249 non-null  int64  \n",
      " 6   attrit                   11249 non-null  int64  \n",
      " 7   promo_in_last_5_years    11249 non-null  int64  \n",
      " 8   dept                     11249 non-null  object \n",
      " 9   salary                   11249 non-null  object \n",
      "dtypes: float64(2), int64(6), object(2)\n",
      "memory usage: 879.0+ KB\n"
     ]
    }
   ],
   "source": [
    "# Columns datatypes and missign values\n",
    "df.info()"
   ]
  },
  {
   "cell_type": "markdown",
   "metadata": {
    "colab_type": "text",
    "id": "S27XO0txMnzZ"
   },
   "source": [
    "### **observation**\n",
    "1.The data provided has no missing values.we do not have to do any imputation\n",
    "\n",
    "2.The dataset contains several numerical and categorical columns providing various information on employee's personal and employment details, so we need to preprocessing data at first. For example, here are two categorical variables in this dataset: 'dept' and 'salary'. Labels are changed to numeric so that these variables can be used while fitting the model.\n",
    "\n",
    "\n",
    "\n"
   ]
  },
  {
   "cell_type": "code",
   "execution_count": null,
   "metadata": {
    "colab": {
     "base_uri": "https://localhost:8080/",
     "height": 291
    },
    "colab_type": "code",
    "executionInfo": {
     "elapsed": 2147,
     "status": "ok",
     "timestamp": 1588575482439,
     "user": {
      "displayName": "Yuanying Li",
      "photoUrl": "https://lh3.googleusercontent.com/a-/AOh14GibBabKQRHnLEhm4cv-RCGnSCKt3qup_f0552az=s64",
      "userId": "04747149797881926306"
     },
     "user_tz": 420
    },
    "id": "kVIUDEcUQHvP",
    "outputId": "6a74319b-d3c0-49a4-b896-ece3f4f283c4"
   },
   "outputs": [
    {
     "data": {
      "text/html": [
       "<div>\n",
       "<style scoped>\n",
       "    .dataframe tbody tr th:only-of-type {\n",
       "        vertical-align: middle;\n",
       "    }\n",
       "\n",
       "    .dataframe tbody tr th {\n",
       "        vertical-align: top;\n",
       "    }\n",
       "\n",
       "    .dataframe thead th {\n",
       "        text-align: right;\n",
       "    }\n",
       "</style>\n",
       "<table border=\"1\" class=\"dataframe\">\n",
       "  <thead>\n",
       "    <tr style=\"text-align: right;\">\n",
       "      <th></th>\n",
       "      <th>employee_satisfaction</th>\n",
       "      <th>last_performance_rating</th>\n",
       "      <th>workload</th>\n",
       "      <th>avg_montly_hours</th>\n",
       "      <th>tenure_years</th>\n",
       "      <th>ergo_issues</th>\n",
       "      <th>attrit</th>\n",
       "      <th>promo_in_last_5_years</th>\n",
       "    </tr>\n",
       "  </thead>\n",
       "  <tbody>\n",
       "    <tr>\n",
       "      <th>count</th>\n",
       "      <td>11249.000000</td>\n",
       "      <td>11249.000000</td>\n",
       "      <td>11249.000000</td>\n",
       "      <td>11249.000000</td>\n",
       "      <td>11249.000000</td>\n",
       "      <td>11249.000000</td>\n",
       "      <td>11249.000000</td>\n",
       "      <td>11249.000000</td>\n",
       "    </tr>\n",
       "    <tr>\n",
       "      <th>mean</th>\n",
       "      <td>0.612957</td>\n",
       "      <td>0.716225</td>\n",
       "      <td>3.799716</td>\n",
       "      <td>201.176727</td>\n",
       "      <td>3.499600</td>\n",
       "      <td>0.144991</td>\n",
       "      <td>0.239577</td>\n",
       "      <td>0.021869</td>\n",
       "    </tr>\n",
       "    <tr>\n",
       "      <th>std</th>\n",
       "      <td>0.248235</td>\n",
       "      <td>0.171378</td>\n",
       "      <td>1.232190</td>\n",
       "      <td>50.058105</td>\n",
       "      <td>1.469892</td>\n",
       "      <td>0.352107</td>\n",
       "      <td>0.426844</td>\n",
       "      <td>0.146261</td>\n",
       "    </tr>\n",
       "    <tr>\n",
       "      <th>min</th>\n",
       "      <td>0.090000</td>\n",
       "      <td>0.360000</td>\n",
       "      <td>2.000000</td>\n",
       "      <td>96.000000</td>\n",
       "      <td>2.000000</td>\n",
       "      <td>0.000000</td>\n",
       "      <td>0.000000</td>\n",
       "      <td>0.000000</td>\n",
       "    </tr>\n",
       "    <tr>\n",
       "      <th>25%</th>\n",
       "      <td>0.440000</td>\n",
       "      <td>0.560000</td>\n",
       "      <td>3.000000</td>\n",
       "      <td>156.000000</td>\n",
       "      <td>3.000000</td>\n",
       "      <td>0.000000</td>\n",
       "      <td>0.000000</td>\n",
       "      <td>0.000000</td>\n",
       "    </tr>\n",
       "    <tr>\n",
       "      <th>50%</th>\n",
       "      <td>0.640000</td>\n",
       "      <td>0.720000</td>\n",
       "      <td>4.000000</td>\n",
       "      <td>201.000000</td>\n",
       "      <td>3.000000</td>\n",
       "      <td>0.000000</td>\n",
       "      <td>0.000000</td>\n",
       "      <td>0.000000</td>\n",
       "    </tr>\n",
       "    <tr>\n",
       "      <th>75%</th>\n",
       "      <td>0.820000</td>\n",
       "      <td>0.870000</td>\n",
       "      <td>5.000000</td>\n",
       "      <td>245.000000</td>\n",
       "      <td>4.000000</td>\n",
       "      <td>0.000000</td>\n",
       "      <td>0.000000</td>\n",
       "      <td>0.000000</td>\n",
       "    </tr>\n",
       "    <tr>\n",
       "      <th>max</th>\n",
       "      <td>1.000000</td>\n",
       "      <td>1.000000</td>\n",
       "      <td>7.000000</td>\n",
       "      <td>310.000000</td>\n",
       "      <td>10.000000</td>\n",
       "      <td>1.000000</td>\n",
       "      <td>1.000000</td>\n",
       "      <td>1.000000</td>\n",
       "    </tr>\n",
       "  </tbody>\n",
       "</table>\n",
       "</div>"
      ],
      "text/plain": [
       "       employee_satisfaction  ...  promo_in_last_5_years\n",
       "count           11249.000000  ...           11249.000000\n",
       "mean                0.612957  ...               0.021869\n",
       "std                 0.248235  ...               0.146261\n",
       "min                 0.090000  ...               0.000000\n",
       "25%                 0.440000  ...               0.000000\n",
       "50%                 0.640000  ...               0.000000\n",
       "75%                 0.820000  ...               0.000000\n",
       "max                 1.000000  ...               1.000000\n",
       "\n",
       "[8 rows x 8 columns]"
      ]
     },
     "execution_count": 76,
     "metadata": {
      "tags": []
     },
     "output_type": "execute_result"
    }
   ],
   "source": [
    "df.describe()"
   ]
  },
  {
   "cell_type": "code",
   "execution_count": null,
   "metadata": {
    "colab": {
     "base_uri": "https://localhost:8080/",
     "height": 1000
    },
    "colab_type": "code",
    "executionInfo": {
     "elapsed": 4775,
     "status": "ok",
     "timestamp": 1588575485076,
     "user": {
      "displayName": "Yuanying Li",
      "photoUrl": "https://lh3.googleusercontent.com/a-/AOh14GibBabKQRHnLEhm4cv-RCGnSCKt3qup_f0552az=s64",
      "userId": "04747149797881926306"
     },
     "user_tz": 420
    },
    "id": "kENSzHp0QcA3",
    "outputId": "15866579-f27c-454e-a15d-e12123626404"
   },
   "outputs": [
    {
     "data": {
      "image/png": "[encoded data removed]",
      "text/plain": [
       "<Figure size 1440x1440 with 9 Axes>"
      ]
     },
     "metadata": {
      "tags": []
     },
     "output_type": "display_data"
    }
   ],
   "source": [
    "df.hist(figsize=(20,20))\n",
    "plt.show()"
   ]
  },
  {
   "cell_type": "markdown",
   "metadata": {
    "colab_type": "text",
    "id": "2KZrVDEATFiD"
   },
   "source": [
    "A few observations can be made based on the information and histograms for numerical features. There are few people are promoted in last 5 years."
   ]
  },
  {
   "cell_type": "markdown",
   "metadata": {
    "colab_type": "text",
    "id": "-ztr6vr-3myo"
   },
   "source": [
    "## 1.2 Feature distribution by target attribute"
   ]
  },
  {
   "cell_type": "code",
   "execution_count": null,
   "metadata": {
    "colab": {
     "base_uri": "https://localhost:8080/",
     "height": 550
    },
    "colab_type": "code",
    "executionInfo": {
     "elapsed": 4981,
     "status": "ok",
     "timestamp": 1588575485288,
     "user": {
      "displayName": "Yuanying Li",
      "photoUrl": "https://lh3.googleusercontent.com/a-/AOh14GibBabKQRHnLEhm4cv-RCGnSCKt3qup_f0552az=s64",
      "userId": "04747149797881926306"
     },
     "user_tz": 420
    },
    "id": "n_xagRplaaeA",
    "outputId": "994be4d0-8ed6-4a00-9670-a5e0dcc8392c"
   },
   "outputs": [
    {
     "data": {
      "image/png": "[encoded data removed]",
      "text/plain": [
       "<Figure size 1656x576 with 1 Axes>"
      ]
     },
     "metadata": {
      "tags": []
     },
     "output_type": "display_data"
    },
    {
     "data": {
      "text/plain": [
       "<Figure size 72x72 with 0 Axes>"
      ]
     },
     "metadata": {
      "tags": []
     },
     "output_type": "display_data"
    }
   ],
   "source": [
    "#Observe the relation between the number of attrition and the workload\n",
    "pd.crosstab(df.workload, df.attrit).plot(kind='bar')\n",
    "fig= plt.figure(figsize=(1,1))\n",
    "plt.show()"
   ]
  },
  {
   "cell_type": "code",
   "execution_count": null,
   "metadata": {
    "colab": {
     "base_uri": "https://localhost:8080/",
     "height": 816
    },
    "colab_type": "code",
    "executionInfo": {
     "elapsed": 5198,
     "status": "ok",
     "timestamp": 1588575485513,
     "user": {
      "displayName": "Yuanying Li",
      "photoUrl": "https://lh3.googleusercontent.com/a-/AOh14GibBabKQRHnLEhm4cv-RCGnSCKt3qup_f0552az=s64",
      "userId": "04747149797881926306"
     },
     "user_tz": 420
    },
    "id": "TfZw5A_fa0Q7",
    "outputId": "7da837a3-0fc9-47b6-d73e-d653c1712a25"
   },
   "outputs": [
    {
     "name": "stdout",
     "output_type": "stream",
     "text": [
      "attrit       0     1\n",
      "workload            \n",
      "2          632  1169\n",
      "3         2973    58\n",
      "4         2983   318\n",
      "5         1580   465\n",
      "6          386   492\n",
      "7            0   193\n",
      "workload\n",
      "2    1801\n",
      "3    3031\n",
      "4    3301\n",
      "5    2045\n",
      "6     878\n",
      "7     193\n",
      "dtype: int64\n"
     ]
    },
    {
     "data": {
      "image/png": "[encoded data removed]",
      "text/plain": [
       "<Figure size 1656x576 with 1 Axes>"
      ]
     },
     "metadata": {
      "tags": []
     },
     "output_type": "display_data"
    }
   ],
   "source": [
    "q = pd.crosstab(df.workload, df.attrit)\n",
    "print(q)\n",
    "print(q.sum(1))\n",
    "q.div(q.sum(1), axis = 0).plot(kind='bar', stacked = True)\n",
    "plt.show()"
   ]
  },
  {
   "cell_type": "code",
   "execution_count": null,
   "metadata": {
    "colab": {
     "base_uri": "https://localhost:8080/",
     "height": 947
    },
    "colab_type": "code",
    "executionInfo": {
     "elapsed": 5783,
     "status": "ok",
     "timestamp": 1588575486104,
     "user": {
      "displayName": "Yuanying Li",
      "photoUrl": "https://lh3.googleusercontent.com/a-/AOh14GibBabKQRHnLEhm4cv-RCGnSCKt3qup_f0552az=s64",
      "userId": "04747149797881926306"
     },
     "user_tz": 420
    },
    "id": "bFWkm-Pskbbb",
    "outputId": "428885c5-9394-472e-e26f-70309c7150c4"
   },
   "outputs": [
    {
     "data": {
      "image/png": "[encoded data removed]",
      "text/plain": [
       "<Figure size 1656x576 with 1 Axes>"
      ]
     },
     "metadata": {
      "tags": []
     },
     "output_type": "display_data"
    },
    {
     "name": "stdout",
     "output_type": "stream",
     "text": [
      "<bound method Series.mean of 0        0.82\n",
      "1        0.75\n",
      "2        0.54\n",
      "3        0.60\n",
      "4        0.85\n",
      "         ... \n",
      "11243    0.54\n",
      "11244    0.94\n",
      "11246    0.67\n",
      "11247    0.98\n",
      "11248    0.75\n",
      "Name: employee_satisfaction, Length: 8554, dtype: float64>\n",
      "<bound method Series.mean of 7        0.42\n",
      "8        0.09\n",
      "11       0.54\n",
      "17       0.10\n",
      "18       0.44\n",
      "         ... \n",
      "11214    0.11\n",
      "11220    0.11\n",
      "11226    0.11\n",
      "11239    0.39\n",
      "11245    0.73\n",
      "Name: employee_satisfaction, Length: 2695, dtype: float64>\n"
     ]
    }
   ],
   "source": [
    "df[df.attrit==0].employee_satisfaction.hist()\n",
    "df[df.attrit==1].employee_satisfaction.hist(facecolor='coral')\n",
    "plt.show()\n",
    "print(df[df.attrit==0].employee_satisfaction.mean)\n",
    "print(df[df.attrit==1].employee_satisfaction.mean)"
   ]
  },
  {
   "cell_type": "markdown",
   "metadata": {
    "colab_type": "text",
    "id": "OvvUBJaa-O3D"
   },
   "source": [
    "## **Findings:**\n",
    "\n",
    "\n",
    "*   I assume that the people who have higher workload will influence the attrition. However, according to the analysis, it doesn't mean the bigger workload, the more people will leave the company. Attrition are focus on the people are the level 2, 5 to 6 of workload.\n",
    "*   Mean of employee satisfaction who stayed is 82% and employees who left is 42%. This is not so surprising finding as we expect more satisfied employees to stay with the company and less satisfied employees to quit.\n"
   ]
  },
  {
   "cell_type": "markdown",
   "metadata": {
    "colab_type": "text",
    "id": "3bJuc9NsA3Ln"
   },
   "source": [
    "## 1.3 Prepocessing and Exploratory Data Analysis "
   ]
  },
  {
   "cell_type": "code",
   "execution_count": null,
   "metadata": {
    "colab": {
     "base_uri": "https://localhost:8080/",
     "height": 52
    },
    "colab_type": "code",
    "executionInfo": {
     "elapsed": 5776,
     "status": "ok",
     "timestamp": 1588575486105,
     "user": {
      "displayName": "Yuanying Li",
      "photoUrl": "https://lh3.googleusercontent.com/a-/AOh14GibBabKQRHnLEhm4cv-RCGnSCKt3qup_f0552az=s64",
      "userId": "04747149797881926306"
     },
     "user_tz": 420
    },
    "id": "GJl5NUAInzen",
    "outputId": "c02e8b36-8a10-4e25-f1dd-8c60b215c044"
   },
   "outputs": [
    {
     "data": {
      "text/plain": [
       "array(['SALES', 'HR', 'ADMIN', 'IS', 'TECH', 'PM', 'FIN', 'EXEC', 'MKT',\n",
       "       'RTD'], dtype=object)"
      ]
     },
     "execution_count": 81,
     "metadata": {
      "tags": []
     },
     "output_type": "execute_result"
    }
   ],
   "source": [
    "# Get unique departments\n",
    "df['dept'].unique()"
   ]
  },
  {
   "cell_type": "code",
   "execution_count": null,
   "metadata": {
    "colab": {
     "base_uri": "https://localhost:8080/",
     "height": 35
    },
    "colab_type": "code",
    "executionInfo": {
     "elapsed": 5770,
     "status": "ok",
     "timestamp": 1588575486106,
     "user": {
      "displayName": "Yuanying Li",
      "photoUrl": "https://lh3.googleusercontent.com/a-/AOh14GibBabKQRHnLEhm4cv-RCGnSCKt3qup_f0552az=s64",
      "userId": "04747149797881926306"
     },
     "user_tz": 420
    },
    "id": "5u3Bq2LGrdz_",
    "outputId": "877a3ccd-31a9-4bb0-ce0f-a7a6a125b632"
   },
   "outputs": [
    {
     "data": {
      "text/plain": [
       "array(['MEDIUM', 'SMALL', 'LARGE'], dtype=object)"
      ]
     },
     "execution_count": 82,
     "metadata": {
      "tags": []
     },
     "output_type": "execute_result"
    }
   ],
   "source": [
    "# Get unique salaries\n",
    "df['salary'].unique()"
   ]
  },
  {
   "cell_type": "code",
   "execution_count": null,
   "metadata": {
    "colab": {},
    "colab_type": "code",
    "id": "hAOZwG2prjEp"
   },
   "outputs": [],
   "source": [
    "# Transform the salary categorical to numeric so that it can be fit into model\n",
    "le_salary = preprocessing.LabelEncoder()\n",
    "df['salary'] = le_salary.fit_transform(df['salary'])"
   ]
  },
  {
   "cell_type": "code",
   "execution_count": null,
   "metadata": {
    "colab": {
     "base_uri": "https://localhost:8080/",
     "height": 35
    },
    "colab_type": "code",
    "executionInfo": {
     "elapsed": 5761,
     "status": "ok",
     "timestamp": 1588575486107,
     "user": {
      "displayName": "Yuanying Li",
      "photoUrl": "https://lh3.googleusercontent.com/a-/AOh14GibBabKQRHnLEhm4cv-RCGnSCKt3qup_f0552az=s64",
      "userId": "04747149797881926306"
     },
     "user_tz": 420
    },
    "id": "YpUl-BP2sfAY",
    "outputId": "1f7ed376-874c-4551-8c49-c422b22c060c"
   },
   "outputs": [
    {
     "data": {
      "text/plain": [
       "array([1, 2, 0])"
      ]
     },
     "execution_count": 84,
     "metadata": {
      "tags": []
     },
     "output_type": "execute_result"
    }
   ],
   "source": [
    "# Get unique salary\n",
    "df['salary'].unique()"
   ]
  },
  {
   "cell_type": "code",
   "execution_count": null,
   "metadata": {
    "colab": {},
    "colab_type": "code",
    "id": "GmY5DEP_sieI"
   },
   "outputs": [],
   "source": [
    "# Transform the department categorical to numeric so that it can be fit into model\n",
    "le_dept = preprocessing.LabelEncoder()\n",
    "df['dept'] = le_dept.fit_transform(df['dept'])"
   ]
  },
  {
   "cell_type": "code",
   "execution_count": null,
   "metadata": {
    "colab": {
     "base_uri": "https://localhost:8080/",
     "height": 35
    },
    "colab_type": "code",
    "executionInfo": {
     "elapsed": 5752,
     "status": "ok",
     "timestamp": 1588575486108,
     "user": {
      "displayName": "Yuanying Li",
      "photoUrl": "https://lh3.googleusercontent.com/a-/AOh14GibBabKQRHnLEhm4cv-RCGnSCKt3qup_f0552az=s64",
      "userId": "04747149797881926306"
     },
     "user_tz": 420
    },
    "id": "v9jm21wmssY8",
    "outputId": "36880d10-cedc-4758-fa2a-e1fecf03e906"
   },
   "outputs": [
    {
     "data": {
      "text/plain": [
       "array([8, 3, 0, 4, 9, 6, 2, 1, 5, 7])"
      ]
     },
     "execution_count": 86,
     "metadata": {
      "tags": []
     },
     "output_type": "execute_result"
    }
   ],
   "source": [
    "# Get unique department\n",
    "df['dept'].unique()"
   ]
  },
  {
   "cell_type": "code",
   "execution_count": null,
   "metadata": {
    "colab": {
     "base_uri": "https://localhost:8080/",
     "height": 291
    },
    "colab_type": "code",
    "executionInfo": {
     "elapsed": 5744,
     "status": "ok",
     "timestamp": 1588575486108,
     "user": {
      "displayName": "Yuanying Li",
      "photoUrl": "https://lh3.googleusercontent.com/a-/AOh14GibBabKQRHnLEhm4cv-RCGnSCKt3qup_f0552az=s64",
      "userId": "04747149797881926306"
     },
     "user_tz": 420
    },
    "id": "DFWGaGMmsy78",
    "outputId": "2a478913-ef7d-4121-a7ac-8bed0b940e9c"
   },
   "outputs": [
    {
     "data": {
      "text/html": [
       "<div>\n",
       "<style scoped>\n",
       "    .dataframe tbody tr th:only-of-type {\n",
       "        vertical-align: middle;\n",
       "    }\n",
       "\n",
       "    .dataframe tbody tr th {\n",
       "        vertical-align: top;\n",
       "    }\n",
       "\n",
       "    .dataframe thead th {\n",
       "        text-align: right;\n",
       "    }\n",
       "</style>\n",
       "<table border=\"1\" class=\"dataframe\">\n",
       "  <thead>\n",
       "    <tr style=\"text-align: right;\">\n",
       "      <th></th>\n",
       "      <th>employee_satisfaction</th>\n",
       "      <th>last_performance_rating</th>\n",
       "      <th>workload</th>\n",
       "      <th>avg_montly_hours</th>\n",
       "      <th>tenure_years</th>\n",
       "      <th>ergo_issues</th>\n",
       "      <th>attrit</th>\n",
       "      <th>promo_in_last_5_years</th>\n",
       "      <th>dept</th>\n",
       "      <th>salary</th>\n",
       "    </tr>\n",
       "  </thead>\n",
       "  <tbody>\n",
       "    <tr>\n",
       "      <th>count</th>\n",
       "      <td>11249.000000</td>\n",
       "      <td>11249.000000</td>\n",
       "      <td>11249.000000</td>\n",
       "      <td>11249.000000</td>\n",
       "      <td>11249.000000</td>\n",
       "      <td>11249.000000</td>\n",
       "      <td>11249.000000</td>\n",
       "      <td>11249.000000</td>\n",
       "      <td>11249.000000</td>\n",
       "      <td>11249.000000</td>\n",
       "    </tr>\n",
       "    <tr>\n",
       "      <th>mean</th>\n",
       "      <td>0.612957</td>\n",
       "      <td>0.716225</td>\n",
       "      <td>3.799716</td>\n",
       "      <td>201.176727</td>\n",
       "      <td>3.499600</td>\n",
       "      <td>0.144991</td>\n",
       "      <td>0.239577</td>\n",
       "      <td>0.021869</td>\n",
       "      <td>5.476309</td>\n",
       "      <td>1.398791</td>\n",
       "    </tr>\n",
       "    <tr>\n",
       "      <th>std</th>\n",
       "      <td>0.248235</td>\n",
       "      <td>0.171378</td>\n",
       "      <td>1.232190</td>\n",
       "      <td>50.058105</td>\n",
       "      <td>1.469892</td>\n",
       "      <td>0.352107</td>\n",
       "      <td>0.426844</td>\n",
       "      <td>0.146261</td>\n",
       "      <td>3.254824</td>\n",
       "      <td>0.640545</td>\n",
       "    </tr>\n",
       "    <tr>\n",
       "      <th>min</th>\n",
       "      <td>0.090000</td>\n",
       "      <td>0.360000</td>\n",
       "      <td>2.000000</td>\n",
       "      <td>96.000000</td>\n",
       "      <td>2.000000</td>\n",
       "      <td>0.000000</td>\n",
       "      <td>0.000000</td>\n",
       "      <td>0.000000</td>\n",
       "      <td>0.000000</td>\n",
       "      <td>0.000000</td>\n",
       "    </tr>\n",
       "    <tr>\n",
       "      <th>25%</th>\n",
       "      <td>0.440000</td>\n",
       "      <td>0.560000</td>\n",
       "      <td>3.000000</td>\n",
       "      <td>156.000000</td>\n",
       "      <td>3.000000</td>\n",
       "      <td>0.000000</td>\n",
       "      <td>0.000000</td>\n",
       "      <td>0.000000</td>\n",
       "      <td>3.000000</td>\n",
       "      <td>1.000000</td>\n",
       "    </tr>\n",
       "    <tr>\n",
       "      <th>50%</th>\n",
       "      <td>0.640000</td>\n",
       "      <td>0.720000</td>\n",
       "      <td>4.000000</td>\n",
       "      <td>201.000000</td>\n",
       "      <td>3.000000</td>\n",
       "      <td>0.000000</td>\n",
       "      <td>0.000000</td>\n",
       "      <td>0.000000</td>\n",
       "      <td>7.000000</td>\n",
       "      <td>1.000000</td>\n",
       "    </tr>\n",
       "    <tr>\n",
       "      <th>75%</th>\n",
       "      <td>0.820000</td>\n",
       "      <td>0.870000</td>\n",
       "      <td>5.000000</td>\n",
       "      <td>245.000000</td>\n",
       "      <td>4.000000</td>\n",
       "      <td>0.000000</td>\n",
       "      <td>0.000000</td>\n",
       "      <td>0.000000</td>\n",
       "      <td>8.000000</td>\n",
       "      <td>2.000000</td>\n",
       "    </tr>\n",
       "    <tr>\n",
       "      <th>max</th>\n",
       "      <td>1.000000</td>\n",
       "      <td>1.000000</td>\n",
       "      <td>7.000000</td>\n",
       "      <td>310.000000</td>\n",
       "      <td>10.000000</td>\n",
       "      <td>1.000000</td>\n",
       "      <td>1.000000</td>\n",
       "      <td>1.000000</td>\n",
       "      <td>9.000000</td>\n",
       "      <td>2.000000</td>\n",
       "    </tr>\n",
       "  </tbody>\n",
       "</table>\n",
       "</div>"
      ],
      "text/plain": [
       "       employee_satisfaction  ...        salary\n",
       "count           11249.000000  ...  11249.000000\n",
       "mean                0.612957  ...      1.398791\n",
       "std                 0.248235  ...      0.640545\n",
       "min                 0.090000  ...      0.000000\n",
       "25%                 0.440000  ...      1.000000\n",
       "50%                 0.640000  ...      1.000000\n",
       "75%                 0.820000  ...      2.000000\n",
       "max                 1.000000  ...      2.000000\n",
       "\n",
       "[8 rows x 10 columns]"
      ]
     },
     "execution_count": 87,
     "metadata": {
      "tags": []
     },
     "output_type": "execute_result"
    }
   ],
   "source": [
    "df.describe()"
   ]
  },
  {
   "cell_type": "code",
   "execution_count": null,
   "metadata": {
    "colab": {
     "base_uri": "https://localhost:8080/",
     "height": 139
    },
    "colab_type": "code",
    "executionInfo": {
     "elapsed": 5738,
     "status": "ok",
     "timestamp": 1588575486109,
     "user": {
      "displayName": "Yuanying Li",
      "photoUrl": "https://lh3.googleusercontent.com/a-/AOh14GibBabKQRHnLEhm4cv-RCGnSCKt3qup_f0552az=s64",
      "userId": "04747149797881926306"
     },
     "user_tz": 420
    },
    "id": "cEohpWzIs_Hi",
    "outputId": "e43aebd3-0e64-4c4b-fed0-08e7768edf43"
   },
   "outputs": [
    {
     "data": {
      "text/html": [
       "<div>\n",
       "<style scoped>\n",
       "    .dataframe tbody tr th:only-of-type {\n",
       "        vertical-align: middle;\n",
       "    }\n",
       "\n",
       "    .dataframe tbody tr th {\n",
       "        vertical-align: top;\n",
       "    }\n",
       "\n",
       "    .dataframe thead th {\n",
       "        text-align: right;\n",
       "    }\n",
       "</style>\n",
       "<table border=\"1\" class=\"dataframe\">\n",
       "  <thead>\n",
       "    <tr style=\"text-align: right;\">\n",
       "      <th></th>\n",
       "      <th>employee_satisfaction</th>\n",
       "      <th>last_performance_rating</th>\n",
       "      <th>workload</th>\n",
       "      <th>avg_montly_hours</th>\n",
       "      <th>tenure_years</th>\n",
       "      <th>ergo_issues</th>\n",
       "      <th>promo_in_last_5_years</th>\n",
       "      <th>dept</th>\n",
       "      <th>salary</th>\n",
       "    </tr>\n",
       "    <tr>\n",
       "      <th>attrit</th>\n",
       "      <th></th>\n",
       "      <th></th>\n",
       "      <th></th>\n",
       "      <th></th>\n",
       "      <th></th>\n",
       "      <th></th>\n",
       "      <th></th>\n",
       "      <th></th>\n",
       "      <th></th>\n",
       "    </tr>\n",
       "  </thead>\n",
       "  <tbody>\n",
       "    <tr>\n",
       "      <th>0</th>\n",
       "      <td>0.667108</td>\n",
       "      <td>0.715087</td>\n",
       "      <td>3.779635</td>\n",
       "      <td>198.999766</td>\n",
       "      <td>3.379238</td>\n",
       "      <td>0.175473</td>\n",
       "      <td>0.027473</td>\n",
       "      <td>5.447276</td>\n",
       "      <td>1.340659</td>\n",
       "    </tr>\n",
       "    <tr>\n",
       "      <th>1</th>\n",
       "      <td>0.441080</td>\n",
       "      <td>0.719837</td>\n",
       "      <td>3.863451</td>\n",
       "      <td>208.086456</td>\n",
       "      <td>3.881633</td>\n",
       "      <td>0.048237</td>\n",
       "      <td>0.004082</td>\n",
       "      <td>5.568460</td>\n",
       "      <td>1.583302</td>\n",
       "    </tr>\n",
       "  </tbody>\n",
       "</table>\n",
       "</div>"
      ],
      "text/plain": [
       "        employee_satisfaction  last_performance_rating  ...      dept    salary\n",
       "attrit                                                  ...                    \n",
       "0                    0.667108                 0.715087  ...  5.447276  1.340659\n",
       "1                    0.441080                 0.719837  ...  5.568460  1.583302\n",
       "\n",
       "[2 rows x 9 columns]"
      ]
     },
     "execution_count": 88,
     "metadata": {
      "tags": []
     },
     "output_type": "execute_result"
    }
   ],
   "source": [
    "# Group by attrition and find the mean\n",
    "df.groupby('attrit').mean()"
   ]
  },
  {
   "cell_type": "code",
   "execution_count": null,
   "metadata": {
    "colab": {
     "base_uri": "https://localhost:8080/",
     "height": 139
    },
    "colab_type": "code",
    "executionInfo": {
     "elapsed": 5730,
     "status": "ok",
     "timestamp": 1588575486109,
     "user": {
      "displayName": "Yuanying Li",
      "photoUrl": "https://lh3.googleusercontent.com/a-/AOh14GibBabKQRHnLEhm4cv-RCGnSCKt3qup_f0552az=s64",
      "userId": "04747149797881926306"
     },
     "user_tz": 420
    },
    "id": "l-vIEh49tFnw",
    "outputId": "fff02774-611b-4df3-a24e-2a302c802d60"
   },
   "outputs": [
    {
     "data": {
      "text/html": [
       "<div>\n",
       "<style scoped>\n",
       "    .dataframe tbody tr th:only-of-type {\n",
       "        vertical-align: middle;\n",
       "    }\n",
       "\n",
       "    .dataframe tbody tr th {\n",
       "        vertical-align: top;\n",
       "    }\n",
       "\n",
       "    .dataframe thead th {\n",
       "        text-align: right;\n",
       "    }\n",
       "</style>\n",
       "<table border=\"1\" class=\"dataframe\">\n",
       "  <thead>\n",
       "    <tr style=\"text-align: right;\">\n",
       "      <th></th>\n",
       "      <th>employee_satisfaction</th>\n",
       "      <th>last_performance_rating</th>\n",
       "      <th>workload</th>\n",
       "      <th>avg_montly_hours</th>\n",
       "      <th>tenure_years</th>\n",
       "      <th>ergo_issues</th>\n",
       "      <th>promo_in_last_5_years</th>\n",
       "      <th>dept</th>\n",
       "      <th>salary</th>\n",
       "    </tr>\n",
       "    <tr>\n",
       "      <th>attrit</th>\n",
       "      <th></th>\n",
       "      <th></th>\n",
       "      <th></th>\n",
       "      <th></th>\n",
       "      <th></th>\n",
       "      <th></th>\n",
       "      <th></th>\n",
       "      <th></th>\n",
       "      <th></th>\n",
       "    </tr>\n",
       "  </thead>\n",
       "  <tbody>\n",
       "    <tr>\n",
       "      <th>0</th>\n",
       "      <td>8554</td>\n",
       "      <td>8554</td>\n",
       "      <td>8554</td>\n",
       "      <td>8554</td>\n",
       "      <td>8554</td>\n",
       "      <td>8554</td>\n",
       "      <td>8554</td>\n",
       "      <td>8554</td>\n",
       "      <td>8554</td>\n",
       "    </tr>\n",
       "    <tr>\n",
       "      <th>1</th>\n",
       "      <td>2695</td>\n",
       "      <td>2695</td>\n",
       "      <td>2695</td>\n",
       "      <td>2695</td>\n",
       "      <td>2695</td>\n",
       "      <td>2695</td>\n",
       "      <td>2695</td>\n",
       "      <td>2695</td>\n",
       "      <td>2695</td>\n",
       "    </tr>\n",
       "  </tbody>\n",
       "</table>\n",
       "</div>"
      ],
      "text/plain": [
       "        employee_satisfaction  last_performance_rating  ...  dept  salary\n",
       "attrit                                                  ...              \n",
       "0                        8554                     8554  ...  8554    8554\n",
       "1                        2695                     2695  ...  2695    2695\n",
       "\n",
       "[2 rows x 9 columns]"
      ]
     },
     "execution_count": 89,
     "metadata": {
      "tags": []
     },
     "output_type": "execute_result"
    }
   ],
   "source": [
    "# Group by attrition and get the count\n",
    "df.groupby('attrit').count()"
   ]
  },
  {
   "cell_type": "markdown",
   "metadata": {
    "colab_type": "text",
    "id": "OxikmG-ttLbr"
   },
   "source": [
    "## **Summary of data based on above table:**\n",
    "\n",
    "*   About 11,249 employee observations and 10 features\n",
    "*   Mean satisfaction of employees who stayed is 0.66%\n",
    "*   The turnover rate is 31.5%. This is a surprisingly high number. According to  survey, the maximum voluntary turnover rate within any industry is about 20%.\n",
    "\n",
    "\n",
    "\n"
   ]
  },
  {
   "cell_type": "code",
   "execution_count": null,
   "metadata": {
    "colab": {
     "base_uri": "https://localhost:8080/",
     "height": 352
    },
    "colab_type": "code",
    "executionInfo": {
     "elapsed": 5724,
     "status": "ok",
     "timestamp": 1588575486110,
     "user": {
      "displayName": "Yuanying Li",
      "photoUrl": "https://lh3.googleusercontent.com/a-/AOh14GibBabKQRHnLEhm4cv-RCGnSCKt3qup_f0552az=s64",
      "userId": "04747149797881926306"
     },
     "user_tz": 420
    },
    "id": "6caPfYQqvutb",
    "outputId": "5fdf29b9-bebd-4d76-f7fc-753415d7c927"
   },
   "outputs": [
    {
     "data": {
      "text/html": [
       "<div>\n",
       "<style scoped>\n",
       "    .dataframe tbody tr th:only-of-type {\n",
       "        vertical-align: middle;\n",
       "    }\n",
       "\n",
       "    .dataframe tbody tr th {\n",
       "        vertical-align: top;\n",
       "    }\n",
       "\n",
       "    .dataframe thead th {\n",
       "        text-align: right;\n",
       "    }\n",
       "</style>\n",
       "<table border=\"1\" class=\"dataframe\">\n",
       "  <thead>\n",
       "    <tr style=\"text-align: right;\">\n",
       "      <th></th>\n",
       "      <th>employee_satisfaction</th>\n",
       "      <th>last_performance_rating</th>\n",
       "      <th>workload</th>\n",
       "      <th>avg_montly_hours</th>\n",
       "      <th>tenure_years</th>\n",
       "      <th>ergo_issues</th>\n",
       "      <th>attrit</th>\n",
       "      <th>promo_in_last_5_years</th>\n",
       "      <th>dept</th>\n",
       "      <th>salary</th>\n",
       "    </tr>\n",
       "  </thead>\n",
       "  <tbody>\n",
       "    <tr>\n",
       "      <th>employee_satisfaction</th>\n",
       "      <td>1.000000</td>\n",
       "      <td>0.102478</td>\n",
       "      <td>-0.145495</td>\n",
       "      <td>-0.019836</td>\n",
       "      <td>-0.096433</td>\n",
       "      <td>0.053876</td>\n",
       "      <td>-0.388659</td>\n",
       "      <td>0.021922</td>\n",
       "      <td>-0.003919</td>\n",
       "      <td>-0.054159</td>\n",
       "    </tr>\n",
       "    <tr>\n",
       "      <th>last_performance_rating</th>\n",
       "      <td>0.102478</td>\n",
       "      <td>1.000000</td>\n",
       "      <td>0.350931</td>\n",
       "      <td>0.345102</td>\n",
       "      <td>0.136279</td>\n",
       "      <td>-0.013131</td>\n",
       "      <td>0.011831</td>\n",
       "      <td>-0.000678</td>\n",
       "      <td>-0.017260</td>\n",
       "      <td>0.010850</td>\n",
       "    </tr>\n",
       "    <tr>\n",
       "      <th>workload</th>\n",
       "      <td>-0.145495</td>\n",
       "      <td>0.350931</td>\n",
       "      <td>1.000000</td>\n",
       "      <td>0.414586</td>\n",
       "      <td>0.196424</td>\n",
       "      <td>0.000341</td>\n",
       "      <td>0.029035</td>\n",
       "      <td>-0.006773</td>\n",
       "      <td>0.000601</td>\n",
       "      <td>0.003433</td>\n",
       "    </tr>\n",
       "    <tr>\n",
       "      <th>avg_montly_hours</th>\n",
       "      <td>-0.019836</td>\n",
       "      <td>0.345102</td>\n",
       "      <td>0.414586</td>\n",
       "      <td>1.000000</td>\n",
       "      <td>0.125143</td>\n",
       "      <td>-0.009111</td>\n",
       "      <td>0.077482</td>\n",
       "      <td>-0.006211</td>\n",
       "      <td>0.010709</td>\n",
       "      <td>0.010418</td>\n",
       "    </tr>\n",
       "    <tr>\n",
       "      <th>tenure_years</th>\n",
       "      <td>-0.096433</td>\n",
       "      <td>0.136279</td>\n",
       "      <td>0.196424</td>\n",
       "      <td>0.125143</td>\n",
       "      <td>1.000000</td>\n",
       "      <td>0.003290</td>\n",
       "      <td>0.145891</td>\n",
       "      <td>0.076958</td>\n",
       "      <td>-0.025400</td>\n",
       "      <td>-0.053842</td>\n",
       "    </tr>\n",
       "    <tr>\n",
       "      <th>ergo_issues</th>\n",
       "      <td>0.053876</td>\n",
       "      <td>-0.013131</td>\n",
       "      <td>0.000341</td>\n",
       "      <td>-0.009111</td>\n",
       "      <td>0.003290</td>\n",
       "      <td>1.000000</td>\n",
       "      <td>-0.154243</td>\n",
       "      <td>0.036826</td>\n",
       "      <td>-0.005885</td>\n",
       "      <td>-0.014359</td>\n",
       "    </tr>\n",
       "    <tr>\n",
       "      <th>attrit</th>\n",
       "      <td>-0.388659</td>\n",
       "      <td>0.011831</td>\n",
       "      <td>0.029035</td>\n",
       "      <td>0.077482</td>\n",
       "      <td>0.145891</td>\n",
       "      <td>-0.154243</td>\n",
       "      <td>1.000000</td>\n",
       "      <td>-0.068263</td>\n",
       "      <td>0.015892</td>\n",
       "      <td>0.161692</td>\n",
       "    </tr>\n",
       "    <tr>\n",
       "      <th>promo_in_last_5_years</th>\n",
       "      <td>0.021922</td>\n",
       "      <td>-0.000678</td>\n",
       "      <td>-0.006773</td>\n",
       "      <td>-0.006211</td>\n",
       "      <td>0.076958</td>\n",
       "      <td>0.036826</td>\n",
       "      <td>-0.068263</td>\n",
       "      <td>1.000000</td>\n",
       "      <td>-0.017400</td>\n",
       "      <td>-0.100687</td>\n",
       "    </tr>\n",
       "    <tr>\n",
       "      <th>dept</th>\n",
       "      <td>-0.003919</td>\n",
       "      <td>-0.017260</td>\n",
       "      <td>0.000601</td>\n",
       "      <td>0.010709</td>\n",
       "      <td>-0.025400</td>\n",
       "      <td>-0.005885</td>\n",
       "      <td>0.015892</td>\n",
       "      <td>-0.017400</td>\n",
       "      <td>1.000000</td>\n",
       "      <td>0.048241</td>\n",
       "    </tr>\n",
       "    <tr>\n",
       "      <th>salary</th>\n",
       "      <td>-0.054159</td>\n",
       "      <td>0.010850</td>\n",
       "      <td>0.003433</td>\n",
       "      <td>0.010418</td>\n",
       "      <td>-0.053842</td>\n",
       "      <td>-0.014359</td>\n",
       "      <td>0.161692</td>\n",
       "      <td>-0.100687</td>\n",
       "      <td>0.048241</td>\n",
       "      <td>1.000000</td>\n",
       "    </tr>\n",
       "  </tbody>\n",
       "</table>\n",
       "</div>"
      ],
      "text/plain": [
       "                         employee_satisfaction  ...    salary\n",
       "employee_satisfaction                 1.000000  ... -0.054159\n",
       "last_performance_rating               0.102478  ...  0.010850\n",
       "workload                             -0.145495  ...  0.003433\n",
       "avg_montly_hours                     -0.019836  ...  0.010418\n",
       "tenure_years                         -0.096433  ... -0.053842\n",
       "ergo_issues                           0.053876  ... -0.014359\n",
       "attrit                               -0.388659  ...  0.161692\n",
       "promo_in_last_5_years                 0.021922  ... -0.100687\n",
       "dept                                 -0.003919  ...  0.048241\n",
       "salary                               -0.054159  ...  1.000000\n",
       "\n",
       "[10 rows x 10 columns]"
      ]
     },
     "execution_count": 90,
     "metadata": {
      "tags": []
     },
     "output_type": "execute_result"
    }
   ],
   "source": [
    "#Correlation Matrix\n",
    "df.corr()"
   ]
  },
  {
   "cell_type": "code",
   "execution_count": null,
   "metadata": {
    "colab": {
     "base_uri": "https://localhost:8080/",
     "height": 695
    },
    "colab_type": "code",
    "executionInfo": {
     "elapsed": 6268,
     "status": "ok",
     "timestamp": 1588575486661,
     "user": {
      "displayName": "Yuanying Li",
      "photoUrl": "https://lh3.googleusercontent.com/a-/AOh14GibBabKQRHnLEhm4cv-RCGnSCKt3qup_f0552az=s64",
      "userId": "04747149797881926306"
     },
     "user_tz": 420
    },
    "id": "cYck2Ub0v1k6",
    "outputId": "c634d506-7ea1-4c4f-bd98-3bed4ede18da"
   },
   "outputs": [
    {
     "data": {
      "text/plain": [
       "<matplotlib.axes._subplots.AxesSubplot at 0x7f6c1c3cab38>"
      ]
     },
     "execution_count": 91,
     "metadata": {
      "tags": []
     },
     "output_type": "execute_result"
    },
    {
     "data": {
      "image/png": "[encoded data removed]",
      "text/plain": [
       "<Figure size 1656x576 with 2 Axes>"
      ]
     },
     "metadata": {
      "tags": []
     },
     "output_type": "display_data"
    }
   ],
   "source": [
    "# Create heatmap from correlation matrix\n",
    "corr = df.corr()\n",
    "corr = (corr)\n",
    "sbn.heatmap(corr, \n",
    "            xticklabels=corr.columns.values, \n",
    "            yticklabels=corr.columns.values)"
   ]
  },
  {
   "cell_type": "markdown",
   "metadata": {
    "colab_type": "text",
    "id": "UM6lrwBdwEY5"
   },
   "source": [
    "## Positively Correlated Features:\n",
    "\n",
    "*   last_performance_rating vs workload ：0.350931\n",
    "*   last_performance_rating vs avg_montly_hours ：0.345102\n",
    "*   workload vs\tavg_montly_hours ：0.414586\t\n",
    "*   workload vs last_performance_rating ：0.350931\t\n",
    "*   avg_montly_hours vs last_performance_rating : 0.345102\t\n",
    "*   avg_montly_hours vs workload : 0.414586\n",
    "\n",
    "\n",
    "\n",
    "Negatively Correlated Feature:\n",
    "*   employee_satisfaction vs attrition: -0.388659\n",
    "\n",
    "\n",
    "## Findings from correlation analysis\n",
    "\n",
    "*   Most positively correlated feature with employee attrition is tenure years at the company(correlation coefficient: 0.145). This is somewhat expected in professional sector. After a couple of years in a company, employees want to explore new oppurtunities and challenges which may lead them to quit.\n",
    "*   Most negatively correlated feature with employee attrition is satisfaction level(correlation coefficient: -0.38) and work accidents(correlation coefficient: -0.15). We have already discussed that satisfaction level is inversely correlated to attrition. One possible reason can be that work accident may lead to long paid leaves and employee may want to stay with the same company for related compensation and benefits.\n",
    "\n",
    "\n",
    "\n",
    "\n",
    "\n",
    "\n"
   ]
  },
  {
   "cell_type": "code",
   "execution_count": null,
   "metadata": {
    "colab": {
     "base_uri": "https://localhost:8080/",
     "height": 575
    },
    "colab_type": "code",
    "executionInfo": {
     "elapsed": 7044,
     "status": "ok",
     "timestamp": 1588575487444,
     "user": {
      "displayName": "Yuanying Li",
      "photoUrl": "https://lh3.googleusercontent.com/a-/AOh14GibBabKQRHnLEhm4cv-RCGnSCKt3qup_f0552az=s64",
      "userId": "04747149797881926306"
     },
     "user_tz": 420
    },
    "id": "dAfdpZLYzNeY",
    "outputId": "1f747dc9-d46a-432a-f1ed-32cd3029ce0d"
   },
   "outputs": [
    {
     "data": {
      "text/plain": [
       "Text(0.5, 1.0, 'Satisfaction Level of Employees')"
      ]
     },
     "execution_count": 92,
     "metadata": {
      "tags": []
     },
     "output_type": "execute_result"
    },
    {
     "data": {
      "image/png": "[encoded data removed]",
      "text/plain": [
       "<Figure size 1656x576 with 1 Axes>"
      ]
     },
     "metadata": {
      "tags": []
     },
     "output_type": "display_data"
    }
   ],
   "source": [
    "# Plot satisfation level of employees\n",
    "ax=sbn.kdeplot(df.loc[(df.attrit==0),'employee_satisfaction'],label=\"Stayed\")\n",
    "ax=sbn.kdeplot(df.loc[(df.attrit==1),'employee_satisfaction'],label=\"Left\")\n",
    "ax.set(xlabel='employee_satisfaction',ylabel=\"Frequency\")\n",
    "plt.title(\"Satisfaction Level of Employees\",fontsize=18)"
   ]
  },
  {
   "cell_type": "code",
   "execution_count": null,
   "metadata": {
    "colab": {
     "base_uri": "https://localhost:8080/",
     "height": 575
    },
    "colab_type": "code",
    "executionInfo": {
     "elapsed": 7286,
     "status": "ok",
     "timestamp": 1588575487694,
     "user": {
      "displayName": "Yuanying Li",
      "photoUrl": "https://lh3.googleusercontent.com/a-/AOh14GibBabKQRHnLEhm4cv-RCGnSCKt3qup_f0552az=s64",
      "userId": "04747149797881926306"
     },
     "user_tz": 420
    },
    "id": "FJnOxTfJz1tN",
    "outputId": "f28d64ce-9aad-44b8-96ad-6bd0efcd683f"
   },
   "outputs": [
    {
     "data": {
      "text/plain": [
       "Text(0.5, 1.0, 'Promotion in last 5 years vs Attrition')"
      ]
     },
     "execution_count": 93,
     "metadata": {
      "tags": []
     },
     "output_type": "execute_result"
    },
    {
     "data": {
      "image/png": "[encoded data removed]",
      "text/plain": [
       "<Figure size 1656x576 with 1 Axes>"
      ]
     },
     "metadata": {
      "tags": []
     },
     "output_type": "display_data"
    }
   ],
   "source": [
    "# Plot attrition vs promotion\n",
    "sbn.barplot(df.attrit, df.promo_in_last_5_years)\n",
    "plt.title(\"Promotion in last 5 years vs Attrition\",fontsize=18)"
   ]
  },
  {
   "cell_type": "code",
   "execution_count": null,
   "metadata": {
    "colab": {
     "base_uri": "https://localhost:8080/",
     "height": 575
    },
    "colab_type": "code",
    "executionInfo": {
     "elapsed": 7600,
     "status": "ok",
     "timestamp": 1588575488015,
     "user": {
      "displayName": "Yuanying Li",
      "photoUrl": "https://lh3.googleusercontent.com/a-/AOh14GibBabKQRHnLEhm4cv-RCGnSCKt3qup_f0552az=s64",
      "userId": "04747149797881926306"
     },
     "user_tz": 420
    },
    "id": "6dvR2vnR2Pyd",
    "outputId": "3afe7847-2e96-4f8a-8165-6cd3c0d89a71"
   },
   "outputs": [
    {
     "data": {
      "text/plain": [
       "Text(0.5, 1.0, 'Tenure_years in company vs Attrition')"
      ]
     },
     "execution_count": 94,
     "metadata": {
      "tags": []
     },
     "output_type": "execute_result"
    },
    {
     "data": {
      "image/png": "[encoded data removed]",
      "text/plain": [
       "<Figure size 1656x576 with 1 Axes>"
      ]
     },
     "metadata": {
      "tags": []
     },
     "output_type": "display_data"
    }
   ],
   "source": [
    "# plot attrition vs tenure years in the company\n",
    "sbn.barplot(df.attrit, df.tenure_years)\n",
    "plt.title(\"Tenure_years in company vs Attrition\",fontsize=18)"
   ]
  },
  {
   "cell_type": "markdown",
   "metadata": {
    "colab_type": "text",
    "id": "UyXK-02z3Ed1"
   },
   "source": [
    "## 1.4 Use logistic regression to training the model"
   ]
  },
  {
   "cell_type": "code",
   "execution_count": null,
   "metadata": {
    "colab": {},
    "colab_type": "code",
    "id": "Y9-Yqw5D4y9J"
   },
   "outputs": [],
   "source": [
    "# Assign values\n",
    "X = df.drop('attrit', axis=1) \n",
    "Y = df.attrit"
   ]
  },
  {
   "cell_type": "code",
   "execution_count": null,
   "metadata": {
    "colab": {},
    "colab_type": "code",
    "id": "CpuHim165dX8"
   },
   "outputs": [],
   "source": [
    "# Train the model\n",
    "X_train, X_test, y_train, y_test = sklearn.model_selection.train_test_split(X, Y, test_size=0.3, random_state=0)"
   ]
  },
  {
   "cell_type": "code",
   "execution_count": null,
   "metadata": {
    "colab": {},
    "colab_type": "code",
    "id": "KkFQ5uBj7v-T"
   },
   "outputs": [],
   "source": [
    "# Apply logistic regression,Initialize Logistic Regressor \n",
    "model = LogisticRegression(max_iter=1200000, penalty = 'l1', solver = 'liblinear')\n",
    "\n",
    "#Fit the model\n",
    "fit = model.fit(X_train, y_train.values)"
   ]
  },
  {
   "cell_type": "code",
   "execution_count": null,
   "metadata": {
    "colab": {},
    "colab_type": "code",
    "id": "9T785G0oAeMH"
   },
   "outputs": [],
   "source": [
    "# get features and weights\n",
    "coeff = []\n",
    "coeff = np.array(fit.coef_)\n",
    "features = np.array(X.columns.values)\n",
    "weights = np.vstack((features, coeff))"
   ]
  },
  {
   "cell_type": "code",
   "execution_count": null,
   "metadata": {
    "colab": {
     "base_uri": "https://localhost:8080/",
     "height": 141
    },
    "colab_type": "code",
    "executionInfo": {
     "elapsed": 7881,
     "status": "ok",
     "timestamp": 1588575488313,
     "user": {
      "displayName": "Yuanying Li",
      "photoUrl": "https://lh3.googleusercontent.com/a-/AOh14GibBabKQRHnLEhm4cv-RCGnSCKt3qup_f0552az=s64",
      "userId": "04747149797881926306"
     },
     "user_tz": 420
    },
    "id": "fC1ryhvkBCZB",
    "outputId": "9ebede98-91a2-4ba9-c6ba-5fcfdb8395df"
   },
   "outputs": [
    {
     "data": {
      "text/plain": [
       "array([['employee_satisfaction', 'last_performance_rating', 'workload',\n",
       "        'avg_montly_hours', 'tenure_years', 'ergo_issues',\n",
       "        'promo_in_last_5_years', 'dept', 'salary'],\n",
       "       [-4.163422752506747, 0.7868886372482763, -0.3055275306827899,\n",
       "        0.004302815662115413, 0.28073691352348557, -1.546208617352404,\n",
       "        -1.567928950697831, 0.01478014576867495, 0.7629504759996144]],\n",
       "      dtype=object)"
      ]
     },
     "execution_count": 99,
     "metadata": {
      "tags": []
     },
     "output_type": "execute_result"
    }
   ],
   "source": [
    "# print weights of each feature\n",
    "weights"
   ]
  },
  {
   "cell_type": "code",
   "execution_count": null,
   "metadata": {
    "colab": {
     "base_uri": "https://localhost:8080/",
     "height": 35
    },
    "colab_type": "code",
    "executionInfo": {
     "elapsed": 7876,
     "status": "ok",
     "timestamp": 1588575488315,
     "user": {
      "displayName": "Yuanying Li",
      "photoUrl": "https://lh3.googleusercontent.com/a-/AOh14GibBabKQRHnLEhm4cv-RCGnSCKt3qup_f0552az=s64",
      "userId": "04747149797881926306"
     },
     "user_tz": 420
    },
    "id": "c0kEb3aGBHFE",
    "outputId": "8edf0e74-21b6-4d50-a87c-3dfb7610c34b"
   },
   "outputs": [
    {
     "data": {
      "text/plain": [
       "0.7742222222222223"
      ]
     },
     "execution_count": 100,
     "metadata": {
      "tags": []
     },
     "output_type": "execute_result"
    }
   ],
   "source": [
    "# 77.45% accuracy achieved\n",
    "model.score(X_test,y_test)"
   ]
  },
  {
   "cell_type": "code",
   "execution_count": null,
   "metadata": {
    "colab": {
     "base_uri": "https://localhost:8080/",
     "height": 35
    },
    "colab_type": "code",
    "executionInfo": {
     "elapsed": 7869,
     "status": "ok",
     "timestamp": 1588575488316,
     "user": {
      "displayName": "Yuanying Li",
      "photoUrl": "https://lh3.googleusercontent.com/a-/AOh14GibBabKQRHnLEhm4cv-RCGnSCKt3qup_f0552az=s64",
      "userId": "04747149797881926306"
     },
     "user_tz": 420
    },
    "id": "DCLSF5JAV1r_",
    "outputId": "846df7e2-9e33-4257-f275-86d36244fa89"
   },
   "outputs": [
    {
     "data": {
      "text/plain": [
       "array([0, 0, 0, ..., 0, 0, 1])"
      ]
     },
     "execution_count": 101,
     "metadata": {
      "tags": []
     },
     "output_type": "execute_result"
    }
   ],
   "source": [
    "#Get predictions for the test set.\n",
    "#Each value corresponds to a attrition outcome of 0 (no) or 1 (yes)\n",
    "model.predict(X_test)"
   ]
  },
  {
   "cell_type": "code",
   "execution_count": null,
   "metadata": {
    "colab": {
     "base_uri": "https://localhost:8080/",
     "height": 141
    },
    "colab_type": "code",
    "executionInfo": {
     "elapsed": 7863,
     "status": "ok",
     "timestamp": 1588575488317,
     "user": {
      "displayName": "Yuanying Li",
      "photoUrl": "https://lh3.googleusercontent.com/a-/AOh14GibBabKQRHnLEhm4cv-RCGnSCKt3qup_f0552az=s64",
      "userId": "04747149797881926306"
     },
     "user_tz": 420
    },
    "id": "RBnn_71iBLrN",
    "outputId": "4fc20b2f-7e07-4c1f-842e-d9ea30d19866"
   },
   "outputs": [
    {
     "data": {
      "text/plain": [
       "array([[0.96069196, 0.03930804],\n",
       "       [0.55874375, 0.44125625],\n",
       "       [0.92006644, 0.07993356],\n",
       "       ...,\n",
       "       [0.59824952, 0.40175048],\n",
       "       [0.82210927, 0.17789073],\n",
       "       [0.27303296, 0.72696704]])"
      ]
     },
     "execution_count": 102,
     "metadata": {
      "tags": []
     },
     "output_type": "execute_result"
    }
   ],
   "source": [
    "# Find predicted probability from the fitted model\n",
    "predict_proba = model.predict_proba(X_test)\n",
    "predict_proba"
   ]
  },
  {
   "cell_type": "code",
   "execution_count": null,
   "metadata": {
    "colab": {
     "base_uri": "https://localhost:8080/",
     "height": 52
    },
    "colab_type": "code",
    "executionInfo": {
     "elapsed": 7856,
     "status": "ok",
     "timestamp": 1588575488318,
     "user": {
      "displayName": "Yuanying Li",
      "photoUrl": "https://lh3.googleusercontent.com/a-/AOh14GibBabKQRHnLEhm4cv-RCGnSCKt3qup_f0552az=s64",
      "userId": "04747149797881926306"
     },
     "user_tz": 420
    },
    "id": "mNyMMjgBkzAF",
    "outputId": "4ade736b-34c7-465f-c64d-f53b3d7766d8"
   },
   "outputs": [
    {
     "data": {
      "text/plain": [
       "array([[2331,  194],\n",
       "       [ 568,  282]])"
      ]
     },
     "execution_count": 103,
     "metadata": {
      "tags": []
     },
     "output_type": "execute_result"
    }
   ],
   "source": [
    "pred = model.predict(X_test)\n",
    "metrics.confusion_matrix(y_test, pred)"
   ]
  },
  {
   "cell_type": "code",
   "execution_count": null,
   "metadata": {
    "colab": {
     "base_uri": "https://localhost:8080/",
     "height": 195
    },
    "colab_type": "code",
    "executionInfo": {
     "elapsed": 10447,
     "status": "ok",
     "timestamp": 1588575490917,
     "user": {
      "displayName": "Yuanying Li",
      "photoUrl": "https://lh3.googleusercontent.com/a-/AOh14GibBabKQRHnLEhm4cv-RCGnSCKt3qup_f0552az=s64",
      "userId": "04747149797881926306"
     },
     "user_tz": 420
    },
    "id": "tGgvPg1Lkg5V",
    "outputId": "486f9831-666b-4f46-ef6b-6c27ece9abc2"
   },
   "outputs": [
    {
     "name": "stdout",
     "output_type": "stream",
     "text": [
      "              precision    recall  f1-score   support\n",
      "\n",
      "           0       0.80      0.92      0.86      2525\n",
      "           1       0.59      0.33      0.43       850\n",
      "\n",
      "    accuracy                           0.77      3375\n",
      "   macro avg       0.70      0.63      0.64      3375\n",
      "weighted avg       0.75      0.77      0.75      3375\n",
      "\n",
      "[0.79422222 0.78977778 0.78533333 0.79066667 0.78301467]\n"
     ]
    }
   ],
   "source": [
    "#sklearn.metrics.classification_report(y_true, y_pred)\n",
    "print(metrics.classification_report(y_test, pred))\n",
    "print(cross_val_score(LogisticRegression(max_iter=1200000), X, Y, scoring='accuracy'))"
   ]
  },
  {
   "cell_type": "markdown",
   "metadata": {
    "colab_type": "text",
    "id": "diW6T6OBggpp"
   },
   "source": [
    "## 1.4 Generate 5 sample predictions for input values\n"
   ]
  },
  {
   "cell_type": "code",
   "execution_count": null,
   "metadata": {
    "colab": {},
    "colab_type": "code",
    "id": "zTEXAYWbGvSF"
   },
   "outputs": [],
   "source": [
    "d = {'employee_satisfaction':[0.95,0.7,0.67,0.98,0.77],'last_performance_rating':[0.81,0.81,0.65,0.92,0.65],'workload':[4,4,3,2,5],'avg_montly_hours':[151,124,289,210,192],'tenure_years':[5,4,2,2,3],'ergo_issues':[0,0,0,1,0],'promo_in_last_5_years':[0,0,0,0,1],'dept':[8,3,0,4,9],'salary':[1,2,0,0,1]}"
   ]
  },
  {
   "cell_type": "code",
   "execution_count": null,
   "metadata": {
    "colab": {
     "base_uri": "https://localhost:8080/",
     "height": 200
    },
    "colab_type": "code",
    "executionInfo": {
     "elapsed": 10437,
     "status": "ok",
     "timestamp": 1588575490919,
     "user": {
      "displayName": "Yuanying Li",
      "photoUrl": "https://lh3.googleusercontent.com/a-/AOh14GibBabKQRHnLEhm4cv-RCGnSCKt3qup_f0552az=s64",
      "userId": "04747149797881926306"
     },
     "user_tz": 420
    },
    "id": "2XyNf9DjC54b",
    "outputId": "67d095f0-c89b-4b07-e7fe-3fb6ca6d0f7d"
   },
   "outputs": [
    {
     "data": {
      "text/html": [
       "<div>\n",
       "<style scoped>\n",
       "    .dataframe tbody tr th:only-of-type {\n",
       "        vertical-align: middle;\n",
       "    }\n",
       "\n",
       "    .dataframe tbody tr th {\n",
       "        vertical-align: top;\n",
       "    }\n",
       "\n",
       "    .dataframe thead th {\n",
       "        text-align: right;\n",
       "    }\n",
       "</style>\n",
       "<table border=\"1\" class=\"dataframe\">\n",
       "  <thead>\n",
       "    <tr style=\"text-align: right;\">\n",
       "      <th></th>\n",
       "      <th>employee_satisfaction</th>\n",
       "      <th>last_performance_rating</th>\n",
       "      <th>workload</th>\n",
       "      <th>avg_montly_hours</th>\n",
       "      <th>tenure_years</th>\n",
       "      <th>ergo_issues</th>\n",
       "      <th>promo_in_last_5_years</th>\n",
       "      <th>dept</th>\n",
       "      <th>salary</th>\n",
       "      <th>Prediction</th>\n",
       "    </tr>\n",
       "  </thead>\n",
       "  <tbody>\n",
       "    <tr>\n",
       "      <th>0</th>\n",
       "      <td>0.95</td>\n",
       "      <td>0.81</td>\n",
       "      <td>4</td>\n",
       "      <td>151</td>\n",
       "      <td>5</td>\n",
       "      <td>0</td>\n",
       "      <td>0</td>\n",
       "      <td>8</td>\n",
       "      <td>1</td>\n",
       "      <td>0</td>\n",
       "    </tr>\n",
       "    <tr>\n",
       "      <th>1</th>\n",
       "      <td>0.70</td>\n",
       "      <td>0.81</td>\n",
       "      <td>4</td>\n",
       "      <td>124</td>\n",
       "      <td>4</td>\n",
       "      <td>0</td>\n",
       "      <td>0</td>\n",
       "      <td>3</td>\n",
       "      <td>2</td>\n",
       "      <td>0</td>\n",
       "    </tr>\n",
       "    <tr>\n",
       "      <th>2</th>\n",
       "      <td>0.67</td>\n",
       "      <td>0.65</td>\n",
       "      <td>3</td>\n",
       "      <td>289</td>\n",
       "      <td>2</td>\n",
       "      <td>0</td>\n",
       "      <td>0</td>\n",
       "      <td>0</td>\n",
       "      <td>0</td>\n",
       "      <td>0</td>\n",
       "    </tr>\n",
       "    <tr>\n",
       "      <th>3</th>\n",
       "      <td>0.98</td>\n",
       "      <td>0.92</td>\n",
       "      <td>2</td>\n",
       "      <td>210</td>\n",
       "      <td>2</td>\n",
       "      <td>1</td>\n",
       "      <td>0</td>\n",
       "      <td>4</td>\n",
       "      <td>0</td>\n",
       "      <td>0</td>\n",
       "    </tr>\n",
       "    <tr>\n",
       "      <th>4</th>\n",
       "      <td>0.77</td>\n",
       "      <td>0.65</td>\n",
       "      <td>5</td>\n",
       "      <td>192</td>\n",
       "      <td>3</td>\n",
       "      <td>0</td>\n",
       "      <td>1</td>\n",
       "      <td>9</td>\n",
       "      <td>1</td>\n",
       "      <td>0</td>\n",
       "    </tr>\n",
       "  </tbody>\n",
       "</table>\n",
       "</div>"
      ],
      "text/plain": [
       "   employee_satisfaction  last_performance_rating  ...  salary  Prediction\n",
       "0                   0.95                     0.81  ...       1           0\n",
       "1                   0.70                     0.81  ...       2           0\n",
       "2                   0.67                     0.65  ...       0           0\n",
       "3                   0.98                     0.92  ...       0           0\n",
       "4                   0.77                     0.65  ...       1           0\n",
       "\n",
       "[5 rows x 10 columns]"
      ]
     },
     "execution_count": 106,
     "metadata": {
      "tags": []
     },
     "output_type": "execute_result"
    }
   ],
   "source": [
    "arbitrary_values = pd.DataFrame(data = d)\n",
    "arbitrary_values.join(pd.DataFrame(model.predict(arbitrary_values), columns = {'Prediction'}).set_index([pd.Index(arbitrary_values.index)]))"
   ]
  },
  {
   "cell_type": "markdown",
   "metadata": {
    "colab_type": "text",
    "id": "9i1RyjjqQEvk"
   },
   "source": [
    "## **Findings from logistics regression model :**\n",
    "\n",
    "\n",
    "*   Employee_satisfaction is the most important factor which makes employees stay (regression coefficient is highest: -4.11). Employee_satisfaction has come up in all our findings above and this is definitely the most important factor to determine attrition.\n",
    "\n",
    "*   Employees had ergo issues are more likely to stay (regression coefficient is high: -1.52). Maybe it is because if a person has a ergo issues, the company will pay some pay insurance to protect employees, as a result, the employees are willing to stay at the company.\n",
    "\n",
    "*   Employees promoted in last 5 years are more likely to stay (regression coefficient is high: -1.34). This definitely makes sense that if an employee has not been promoted for 5 years, the employees career has plateaued out for some reason. Employer should make efforts to find the root cause of this stagnation.\n",
    "\n",
    "\n",
    "\n",
    "\n"
   ]
  },
  {
   "cell_type": "markdown",
   "metadata": {
    "colab_type": "text",
    "id": "51sUXTs6Boh-"
   },
   "source": [
    "## **Summary:**\n",
    "\n",
    "\n",
    "1.   Using the above probability values, employees with >90% probability are highly likely to leave. Inline with the findings, employer should take steps to provide enrichment and support to help the employee stay are highly likely to leave. Inline with the findings, employer should take steps to provide enrichment and support to help the employee stay.\n",
    "\n",
    "2.   Given the findings from statistical analysis and regression model, we can draw the four major implications.\n",
    " \n",
    "\n",
    "*   If at any point the employees satisfaction takes a hit of >30% the employee is at a risk of leaving. This is a crucial datapoint for an employer to intervene.\n",
    "*   Money is not the only thing which employees value.\n",
    "*   If an employee has not been promoted in last 5 years, employer should dig deeper to find the root cause. There can be various reasons for an employee to be not promoted such as employee is in the wrong role, wrong team or does not have conducive team environment.\n"
   ]
  },
  {
   "cell_type": "markdown",
   "metadata": {
    "colab_type": "text",
    "id": "aSYt4opCg23I"
   },
   "source": [
    "##Part 2 - Use logistic regression to predict when customers are going to transact.\n",
    "\n",
    "### 2.1 Data Acquisition & Rudimentary Analysis#"
   ]
  },
  {
   "cell_type": "code",
   "execution_count": null,
   "metadata": {
    "colab": {
     "base_uri": "https://localhost:8080/",
     "height": 35
    },
    "colab_type": "code",
    "executionInfo": {
     "elapsed": 11133,
     "status": "ok",
     "timestamp": 1588575491622,
     "user": {
      "displayName": "Yuanying Li",
      "photoUrl": "https://lh3.googleusercontent.com/a-/AOh14GibBabKQRHnLEhm4cv-RCGnSCKt3qup_f0552az=s64",
      "userId": "04747149797881926306"
     },
     "user_tz": 420
    },
    "id": "lyz0PDIuiKyu",
    "outputId": "a06ee96e-0088-4eae-dd7a-0aec80e3d422"
   },
   "outputs": [
    {
     "name": "stdout",
     "output_type": "stream",
     "text": [
      "Shape of dataframe is: (505, 16)\n"
     ]
    }
   ],
   "source": [
    "#Read data from Google Sheet\n",
    "disney_df=pd.read_csv('https://docs.google.com/spreadsheets/d/e/2PACX-1vQGojnTJ4xLYiAmWEHuwYhT79kHsumvuHFColzRN0yptVI5GRB7scHUgL_Kk77JtF6JNbO9mhKHcBk-/pub?output=csv')\n",
    "print(\"Shape of dataframe is: {}\".format(disney_df.shape))"
   ]
  },
  {
   "cell_type": "code",
   "execution_count": null,
   "metadata": {
    "colab": {
     "base_uri": "https://localhost:8080/",
     "height": 220
    },
    "colab_type": "code",
    "executionInfo": {
     "elapsed": 11126,
     "status": "ok",
     "timestamp": 1588575491623,
     "user": {
      "displayName": "Yuanying Li",
      "photoUrl": "https://lh3.googleusercontent.com/a-/AOh14GibBabKQRHnLEhm4cv-RCGnSCKt3qup_f0552az=s64",
      "userId": "04747149797881926306"
     },
     "user_tz": 420
    },
    "id": "X-gkxTItyKmd",
    "outputId": "6118fbea-2e1c-449b-bfd2-b344b6993ec3"
   },
   "outputs": [
    {
     "data": {
      "text/html": [
       "<div>\n",
       "<style scoped>\n",
       "    .dataframe tbody tr th:only-of-type {\n",
       "        vertical-align: middle;\n",
       "    }\n",
       "\n",
       "    .dataframe tbody tr th {\n",
       "        vertical-align: top;\n",
       "    }\n",
       "\n",
       "    .dataframe thead th {\n",
       "        text-align: right;\n",
       "    }\n",
       "</style>\n",
       "<table border=\"1\" class=\"dataframe\">\n",
       "  <thead>\n",
       "    <tr style=\"text-align: right;\">\n",
       "      <th></th>\n",
       "      <th>row</th>\n",
       "      <th>transaction</th>\n",
       "      <th>salary_usd</th>\n",
       "      <th>is_male</th>\n",
       "      <th>is_married</th>\n",
       "      <th>is_college</th>\n",
       "      <th>is_professional</th>\n",
       "      <th>is_senior</th>\n",
       "      <th>is_employed</th>\n",
       "      <th>is_single_income</th>\n",
       "      <th>children_present</th>\n",
       "      <th>is_renter</th>\n",
       "      <th>lives_in_house</th>\n",
       "      <th>is_english_primary_language</th>\n",
       "      <th>previously_disney_customer</th>\n",
       "      <th>previous_streaming_service_customer</th>\n",
       "    </tr>\n",
       "  </thead>\n",
       "  <tbody>\n",
       "    <tr>\n",
       "      <th>0</th>\n",
       "      <td>672</td>\n",
       "      <td>1</td>\n",
       "      <td>84000</td>\n",
       "      <td>0</td>\n",
       "      <td>1</td>\n",
       "      <td>0</td>\n",
       "      <td>1</td>\n",
       "      <td>0</td>\n",
       "      <td>0</td>\n",
       "      <td>0</td>\n",
       "      <td>1</td>\n",
       "      <td>0</td>\n",
       "      <td>1</td>\n",
       "      <td>1</td>\n",
       "      <td>0</td>\n",
       "      <td>0</td>\n",
       "    </tr>\n",
       "    <tr>\n",
       "      <th>1</th>\n",
       "      <td>671</td>\n",
       "      <td>1</td>\n",
       "      <td>124000</td>\n",
       "      <td>0</td>\n",
       "      <td>1</td>\n",
       "      <td>0</td>\n",
       "      <td>1</td>\n",
       "      <td>0</td>\n",
       "      <td>0</td>\n",
       "      <td>1</td>\n",
       "      <td>0</td>\n",
       "      <td>0</td>\n",
       "      <td>1</td>\n",
       "      <td>1</td>\n",
       "      <td>0</td>\n",
       "      <td>0</td>\n",
       "    </tr>\n",
       "    <tr>\n",
       "      <th>2</th>\n",
       "      <td>669</td>\n",
       "      <td>0</td>\n",
       "      <td>45000</td>\n",
       "      <td>0</td>\n",
       "      <td>0</td>\n",
       "      <td>0</td>\n",
       "      <td>0</td>\n",
       "      <td>0</td>\n",
       "      <td>0</td>\n",
       "      <td>1</td>\n",
       "      <td>1</td>\n",
       "      <td>0</td>\n",
       "      <td>1</td>\n",
       "      <td>1</td>\n",
       "      <td>0</td>\n",
       "      <td>0</td>\n",
       "    </tr>\n",
       "    <tr>\n",
       "      <th>3</th>\n",
       "      <td>668</td>\n",
       "      <td>0</td>\n",
       "      <td>35000</td>\n",
       "      <td>1</td>\n",
       "      <td>1</td>\n",
       "      <td>0</td>\n",
       "      <td>0</td>\n",
       "      <td>0</td>\n",
       "      <td>0</td>\n",
       "      <td>1</td>\n",
       "      <td>0</td>\n",
       "      <td>1</td>\n",
       "      <td>0</td>\n",
       "      <td>1</td>\n",
       "      <td>0</td>\n",
       "      <td>0</td>\n",
       "    </tr>\n",
       "    <tr>\n",
       "      <th>4</th>\n",
       "      <td>667</td>\n",
       "      <td>1</td>\n",
       "      <td>124000</td>\n",
       "      <td>0</td>\n",
       "      <td>1</td>\n",
       "      <td>1</td>\n",
       "      <td>0</td>\n",
       "      <td>1</td>\n",
       "      <td>0</td>\n",
       "      <td>1</td>\n",
       "      <td>0</td>\n",
       "      <td>0</td>\n",
       "      <td>1</td>\n",
       "      <td>1</td>\n",
       "      <td>0</td>\n",
       "      <td>0</td>\n",
       "    </tr>\n",
       "  </tbody>\n",
       "</table>\n",
       "</div>"
      ],
      "text/plain": [
       "   row  ...  previous_streaming_service_customer\n",
       "0  672  ...                                    0\n",
       "1  671  ...                                    0\n",
       "2  669  ...                                    0\n",
       "3  668  ...                                    0\n",
       "4  667  ...                                    0\n",
       "\n",
       "[5 rows x 16 columns]"
      ]
     },
     "execution_count": 108,
     "metadata": {
      "tags": []
     },
     "output_type": "execute_result"
    }
   ],
   "source": [
    "disney_df.head()"
   ]
  },
  {
   "cell_type": "code",
   "execution_count": null,
   "metadata": {
    "colab": {
     "base_uri": "https://localhost:8080/",
     "height": 426
    },
    "colab_type": "code",
    "executionInfo": {
     "elapsed": 11119,
     "status": "ok",
     "timestamp": 1588575491624,
     "user": {
      "displayName": "Yuanying Li",
      "photoUrl": "https://lh3.googleusercontent.com/a-/AOh14GibBabKQRHnLEhm4cv-RCGnSCKt3qup_f0552az=s64",
      "userId": "04747149797881926306"
     },
     "user_tz": 420
    },
    "id": "2MX0rK1qTX9I",
    "outputId": "c9d68683-49d8-4d9a-fc66-116653ee8125"
   },
   "outputs": [
    {
     "name": "stdout",
     "output_type": "stream",
     "text": [
      "<class 'pandas.core.frame.DataFrame'>\n",
      "RangeIndex: 505 entries, 0 to 504\n",
      "Data columns (total 16 columns):\n",
      " #   Column                               Non-Null Count  Dtype\n",
      "---  ------                               --------------  -----\n",
      " 0   row                                  505 non-null    int64\n",
      " 1   transaction                          505 non-null    int64\n",
      " 2   salary_usd                           505 non-null    int64\n",
      " 3   is_male                              505 non-null    int64\n",
      " 4   is_married                           505 non-null    int64\n",
      " 5   is_college                           505 non-null    int64\n",
      " 6   is_professional                      505 non-null    int64\n",
      " 7   is_senior                            505 non-null    int64\n",
      " 8   is_employed                          505 non-null    int64\n",
      " 9   is_single_income                     505 non-null    int64\n",
      " 10  children_present                     505 non-null    int64\n",
      " 11  is_renter                            505 non-null    int64\n",
      " 12  lives_in_house                       505 non-null    int64\n",
      " 13  is_english_primary_language          505 non-null    int64\n",
      " 14  previously_disney_customer           505 non-null    int64\n",
      " 15  previous_streaming_service_customer  505 non-null    int64\n",
      "dtypes: int64(16)\n",
      "memory usage: 63.2 KB\n"
     ]
    }
   ],
   "source": [
    "disney_df.info()"
   ]
  },
  {
   "cell_type": "code",
   "execution_count": null,
   "metadata": {
    "colab": {
     "base_uri": "https://localhost:8080/",
     "height": 1000
    },
    "colab_type": "code",
    "executionInfo": {
     "elapsed": 14812,
     "status": "ok",
     "timestamp": 1588575495324,
     "user": {
      "displayName": "Yuanying Li",
      "photoUrl": "https://lh3.googleusercontent.com/a-/AOh14GibBabKQRHnLEhm4cv-RCGnSCKt3qup_f0552az=s64",
      "userId": "04747149797881926306"
     },
     "user_tz": 420
    },
    "id": "0w5CAzlFy_Kj",
    "outputId": "eeb095ce-5952-4985-f940-4c2dcb2557d2"
   },
   "outputs": [
    {
     "data": {
      "image/png": "[encoded data removed]",
      "text/plain": [
       "<Figure size 1440x1440 with 16 Axes>"
      ]
     },
     "metadata": {
      "tags": []
     },
     "output_type": "display_data"
    }
   ],
   "source": [
    "disney_df.hist(figsize=(20,20))\n",
    "plt.show()"
   ]
  },
  {
   "cell_type": "code",
   "execution_count": null,
   "metadata": {
    "colab": {
     "base_uri": "https://localhost:8080/",
     "height": 70
    },
    "colab_type": "code",
    "executionInfo": {
     "elapsed": 14806,
     "status": "ok",
     "timestamp": 1588575495325,
     "user": {
      "displayName": "Yuanying Li",
      "photoUrl": "https://lh3.googleusercontent.com/a-/AOh14GibBabKQRHnLEhm4cv-RCGnSCKt3qup_f0552az=s64",
      "userId": "04747149797881926306"
     },
     "user_tz": 420
    },
    "id": "JcXeayjR0BtW",
    "outputId": "3bf44cec-2265-4c3a-d4bb-31515f94a677"
   },
   "outputs": [
    {
     "data": {
      "text/plain": [
       "0    411\n",
       "1     94\n",
       "Name: transaction, dtype: int64"
      ]
     },
     "execution_count": 111,
     "metadata": {
      "tags": []
     },
     "output_type": "execute_result"
    }
   ],
   "source": [
    "disney_df['transaction'].value_counts()"
   ]
  },
  {
   "cell_type": "code",
   "execution_count": null,
   "metadata": {
    "colab": {
     "base_uri": "https://localhost:8080/",
     "height": 555
    },
    "colab_type": "code",
    "executionInfo": {
     "elapsed": 15259,
     "status": "ok",
     "timestamp": 1588575495785,
     "user": {
      "displayName": "Yuanying Li",
      "photoUrl": "https://lh3.googleusercontent.com/a-/AOh14GibBabKQRHnLEhm4cv-RCGnSCKt3qup_f0552az=s64",
      "userId": "04747149797881926306"
     },
     "user_tz": 420
    },
    "id": "JKyVAxYl0Oha",
    "outputId": "b6037b63-a608-4a9d-c889-944e57579913"
   },
   "outputs": [
    {
     "data": {
      "image/png": "[encoded data removed]",
      "text/plain": [
       "<Figure size 1656x576 with 1 Axes>"
      ]
     },
     "metadata": {
      "tags": []
     },
     "output_type": "display_data"
    },
    {
     "data": {
      "text/plain": [
       "<Figure size 1656x576 with 0 Axes>"
      ]
     },
     "metadata": {
      "tags": []
     },
     "output_type": "display_data"
    }
   ],
   "source": [
    "sns.countplot(x='transaction',data=disney_df, palette='hls')\n",
    "plt.show()\n",
    "plt.savefig('count_plot')"
   ]
  },
  {
   "cell_type": "code",
   "execution_count": null,
   "metadata": {
    "colab": {
     "base_uri": "https://localhost:8080/",
     "height": 1000
    },
    "colab_type": "code",
    "executionInfo": {
     "elapsed": 15951,
     "status": "ok",
     "timestamp": 1588575496485,
     "user": {
      "displayName": "Yuanying Li",
      "photoUrl": "https://lh3.googleusercontent.com/a-/AOh14GibBabKQRHnLEhm4cv-RCGnSCKt3qup_f0552az=s64",
      "userId": "04747149797881926306"
     },
     "user_tz": 420
    },
    "id": "jxumyBpOMb-S",
    "outputId": "93d85538-f63a-434b-f286-038a6c2c8658"
   },
   "outputs": [
    {
     "data": {
      "text/html": [
       "<div>\n",
       "<style scoped>\n",
       "    .dataframe tbody tr th:only-of-type {\n",
       "        vertical-align: middle;\n",
       "    }\n",
       "\n",
       "    .dataframe tbody tr th {\n",
       "        vertical-align: top;\n",
       "    }\n",
       "\n",
       "    .dataframe thead th {\n",
       "        text-align: right;\n",
       "    }\n",
       "</style>\n",
       "<table border=\"1\" class=\"dataframe\">\n",
       "  <thead>\n",
       "    <tr style=\"text-align: right;\">\n",
       "      <th>row</th>\n",
       "      <th>1</th>\n",
       "      <th>2</th>\n",
       "      <th>3</th>\n",
       "      <th>4</th>\n",
       "      <th>5</th>\n",
       "      <th>6</th>\n",
       "      <th>8</th>\n",
       "      <th>9</th>\n",
       "      <th>10</th>\n",
       "      <th>11</th>\n",
       "      <th>12</th>\n",
       "      <th>13</th>\n",
       "      <th>15</th>\n",
       "      <th>16</th>\n",
       "      <th>18</th>\n",
       "      <th>20</th>\n",
       "      <th>21</th>\n",
       "      <th>22</th>\n",
       "      <th>23</th>\n",
       "      <th>24</th>\n",
       "      <th>25</th>\n",
       "      <th>26</th>\n",
       "      <th>27</th>\n",
       "      <th>28</th>\n",
       "      <th>29</th>\n",
       "      <th>30</th>\n",
       "      <th>32</th>\n",
       "      <th>33</th>\n",
       "      <th>34</th>\n",
       "      <th>38</th>\n",
       "      <th>40</th>\n",
       "      <th>42</th>\n",
       "      <th>43</th>\n",
       "      <th>44</th>\n",
       "      <th>45</th>\n",
       "      <th>46</th>\n",
       "      <th>47</th>\n",
       "      <th>50</th>\n",
       "      <th>51</th>\n",
       "      <th>52</th>\n",
       "      <th>...</th>\n",
       "      <th>623</th>\n",
       "      <th>624</th>\n",
       "      <th>625</th>\n",
       "      <th>627</th>\n",
       "      <th>628</th>\n",
       "      <th>629</th>\n",
       "      <th>630</th>\n",
       "      <th>631</th>\n",
       "      <th>632</th>\n",
       "      <th>633</th>\n",
       "      <th>634</th>\n",
       "      <th>636</th>\n",
       "      <th>637</th>\n",
       "      <th>638</th>\n",
       "      <th>639</th>\n",
       "      <th>640</th>\n",
       "      <th>641</th>\n",
       "      <th>642</th>\n",
       "      <th>643</th>\n",
       "      <th>646</th>\n",
       "      <th>647</th>\n",
       "      <th>648</th>\n",
       "      <th>649</th>\n",
       "      <th>650</th>\n",
       "      <th>652</th>\n",
       "      <th>653</th>\n",
       "      <th>655</th>\n",
       "      <th>656</th>\n",
       "      <th>657</th>\n",
       "      <th>658</th>\n",
       "      <th>659</th>\n",
       "      <th>660</th>\n",
       "      <th>662</th>\n",
       "      <th>665</th>\n",
       "      <th>666</th>\n",
       "      <th>667</th>\n",
       "      <th>668</th>\n",
       "      <th>669</th>\n",
       "      <th>671</th>\n",
       "      <th>672</th>\n",
       "    </tr>\n",
       "    <tr>\n",
       "      <th>transaction</th>\n",
       "      <th></th>\n",
       "      <th></th>\n",
       "      <th></th>\n",
       "      <th></th>\n",
       "      <th></th>\n",
       "      <th></th>\n",
       "      <th></th>\n",
       "      <th></th>\n",
       "      <th></th>\n",
       "      <th></th>\n",
       "      <th></th>\n",
       "      <th></th>\n",
       "      <th></th>\n",
       "      <th></th>\n",
       "      <th></th>\n",
       "      <th></th>\n",
       "      <th></th>\n",
       "      <th></th>\n",
       "      <th></th>\n",
       "      <th></th>\n",
       "      <th></th>\n",
       "      <th></th>\n",
       "      <th></th>\n",
       "      <th></th>\n",
       "      <th></th>\n",
       "      <th></th>\n",
       "      <th></th>\n",
       "      <th></th>\n",
       "      <th></th>\n",
       "      <th></th>\n",
       "      <th></th>\n",
       "      <th></th>\n",
       "      <th></th>\n",
       "      <th></th>\n",
       "      <th></th>\n",
       "      <th></th>\n",
       "      <th></th>\n",
       "      <th></th>\n",
       "      <th></th>\n",
       "      <th></th>\n",
       "      <th></th>\n",
       "      <th></th>\n",
       "      <th></th>\n",
       "      <th></th>\n",
       "      <th></th>\n",
       "      <th></th>\n",
       "      <th></th>\n",
       "      <th></th>\n",
       "      <th></th>\n",
       "      <th></th>\n",
       "      <th></th>\n",
       "      <th></th>\n",
       "      <th></th>\n",
       "      <th></th>\n",
       "      <th></th>\n",
       "      <th></th>\n",
       "      <th></th>\n",
       "      <th></th>\n",
       "      <th></th>\n",
       "      <th></th>\n",
       "      <th></th>\n",
       "      <th></th>\n",
       "      <th></th>\n",
       "      <th></th>\n",
       "      <th></th>\n",
       "      <th></th>\n",
       "      <th></th>\n",
       "      <th></th>\n",
       "      <th></th>\n",
       "      <th></th>\n",
       "      <th></th>\n",
       "      <th></th>\n",
       "      <th></th>\n",
       "      <th></th>\n",
       "      <th></th>\n",
       "      <th></th>\n",
       "      <th></th>\n",
       "      <th></th>\n",
       "      <th></th>\n",
       "      <th></th>\n",
       "      <th></th>\n",
       "    </tr>\n",
       "  </thead>\n",
       "  <tbody>\n",
       "    <tr>\n",
       "      <th>0</th>\n",
       "      <td>0.002433</td>\n",
       "      <td>0.000000</td>\n",
       "      <td>0.002433</td>\n",
       "      <td>0.000000</td>\n",
       "      <td>0.002433</td>\n",
       "      <td>0.002433</td>\n",
       "      <td>0.002433</td>\n",
       "      <td>0.002433</td>\n",
       "      <td>0.002433</td>\n",
       "      <td>0.000000</td>\n",
       "      <td>0.002433</td>\n",
       "      <td>0.002433</td>\n",
       "      <td>0.002433</td>\n",
       "      <td>0.002433</td>\n",
       "      <td>0.000000</td>\n",
       "      <td>0.002433</td>\n",
       "      <td>0.002433</td>\n",
       "      <td>0.002433</td>\n",
       "      <td>0.002433</td>\n",
       "      <td>0.000000</td>\n",
       "      <td>0.002433</td>\n",
       "      <td>0.000000</td>\n",
       "      <td>0.002433</td>\n",
       "      <td>0.002433</td>\n",
       "      <td>0.002433</td>\n",
       "      <td>0.002433</td>\n",
       "      <td>0.002433</td>\n",
       "      <td>0.000000</td>\n",
       "      <td>0.002433</td>\n",
       "      <td>0.002433</td>\n",
       "      <td>0.002433</td>\n",
       "      <td>0.002433</td>\n",
       "      <td>0.002433</td>\n",
       "      <td>0.002433</td>\n",
       "      <td>0.002433</td>\n",
       "      <td>0.000000</td>\n",
       "      <td>0.002433</td>\n",
       "      <td>0.002433</td>\n",
       "      <td>0.002433</td>\n",
       "      <td>0.002433</td>\n",
       "      <td>...</td>\n",
       "      <td>0.002433</td>\n",
       "      <td>0.002433</td>\n",
       "      <td>0.000000</td>\n",
       "      <td>0.002433</td>\n",
       "      <td>0.002433</td>\n",
       "      <td>0.002433</td>\n",
       "      <td>0.002433</td>\n",
       "      <td>0.002433</td>\n",
       "      <td>0.002433</td>\n",
       "      <td>0.002433</td>\n",
       "      <td>0.002433</td>\n",
       "      <td>0.002433</td>\n",
       "      <td>0.002433</td>\n",
       "      <td>0.002433</td>\n",
       "      <td>0.000000</td>\n",
       "      <td>0.002433</td>\n",
       "      <td>0.002433</td>\n",
       "      <td>0.000000</td>\n",
       "      <td>0.000000</td>\n",
       "      <td>0.002433</td>\n",
       "      <td>0.002433</td>\n",
       "      <td>0.002433</td>\n",
       "      <td>0.000000</td>\n",
       "      <td>0.002433</td>\n",
       "      <td>0.002433</td>\n",
       "      <td>0.002433</td>\n",
       "      <td>0.000000</td>\n",
       "      <td>0.002433</td>\n",
       "      <td>0.002433</td>\n",
       "      <td>0.002433</td>\n",
       "      <td>0.000000</td>\n",
       "      <td>0.002433</td>\n",
       "      <td>0.002433</td>\n",
       "      <td>0.002433</td>\n",
       "      <td>0.002433</td>\n",
       "      <td>0.000000</td>\n",
       "      <td>0.002433</td>\n",
       "      <td>0.002433</td>\n",
       "      <td>0.000000</td>\n",
       "      <td>0.000000</td>\n",
       "    </tr>\n",
       "    <tr>\n",
       "      <th>1</th>\n",
       "      <td>0.000000</td>\n",
       "      <td>0.010638</td>\n",
       "      <td>0.000000</td>\n",
       "      <td>0.010638</td>\n",
       "      <td>0.000000</td>\n",
       "      <td>0.000000</td>\n",
       "      <td>0.000000</td>\n",
       "      <td>0.000000</td>\n",
       "      <td>0.000000</td>\n",
       "      <td>0.010638</td>\n",
       "      <td>0.000000</td>\n",
       "      <td>0.000000</td>\n",
       "      <td>0.000000</td>\n",
       "      <td>0.000000</td>\n",
       "      <td>0.010638</td>\n",
       "      <td>0.000000</td>\n",
       "      <td>0.000000</td>\n",
       "      <td>0.000000</td>\n",
       "      <td>0.000000</td>\n",
       "      <td>0.010638</td>\n",
       "      <td>0.000000</td>\n",
       "      <td>0.010638</td>\n",
       "      <td>0.000000</td>\n",
       "      <td>0.000000</td>\n",
       "      <td>0.000000</td>\n",
       "      <td>0.000000</td>\n",
       "      <td>0.000000</td>\n",
       "      <td>0.010638</td>\n",
       "      <td>0.000000</td>\n",
       "      <td>0.000000</td>\n",
       "      <td>0.000000</td>\n",
       "      <td>0.000000</td>\n",
       "      <td>0.000000</td>\n",
       "      <td>0.000000</td>\n",
       "      <td>0.000000</td>\n",
       "      <td>0.010638</td>\n",
       "      <td>0.000000</td>\n",
       "      <td>0.000000</td>\n",
       "      <td>0.000000</td>\n",
       "      <td>0.000000</td>\n",
       "      <td>...</td>\n",
       "      <td>0.000000</td>\n",
       "      <td>0.000000</td>\n",
       "      <td>0.010638</td>\n",
       "      <td>0.000000</td>\n",
       "      <td>0.000000</td>\n",
       "      <td>0.000000</td>\n",
       "      <td>0.000000</td>\n",
       "      <td>0.000000</td>\n",
       "      <td>0.000000</td>\n",
       "      <td>0.000000</td>\n",
       "      <td>0.000000</td>\n",
       "      <td>0.000000</td>\n",
       "      <td>0.000000</td>\n",
       "      <td>0.000000</td>\n",
       "      <td>0.010638</td>\n",
       "      <td>0.000000</td>\n",
       "      <td>0.000000</td>\n",
       "      <td>0.010638</td>\n",
       "      <td>0.010638</td>\n",
       "      <td>0.000000</td>\n",
       "      <td>0.000000</td>\n",
       "      <td>0.000000</td>\n",
       "      <td>0.010638</td>\n",
       "      <td>0.000000</td>\n",
       "      <td>0.000000</td>\n",
       "      <td>0.000000</td>\n",
       "      <td>0.010638</td>\n",
       "      <td>0.000000</td>\n",
       "      <td>0.000000</td>\n",
       "      <td>0.000000</td>\n",
       "      <td>0.010638</td>\n",
       "      <td>0.000000</td>\n",
       "      <td>0.000000</td>\n",
       "      <td>0.000000</td>\n",
       "      <td>0.000000</td>\n",
       "      <td>0.010638</td>\n",
       "      <td>0.000000</td>\n",
       "      <td>0.000000</td>\n",
       "      <td>0.010638</td>\n",
       "      <td>0.010638</td>\n",
       "    </tr>\n",
       "  </tbody>\n",
       "</table>\n",
       "<p>2 rows × 505 columns</p>\n",
       "</div>"
      ],
      "text/plain": [
       "row               1         2         3    ...       669       671       672\n",
       "transaction                                ...                              \n",
       "0            0.002433  0.000000  0.002433  ...  0.002433  0.000000  0.000000\n",
       "1            0.000000  0.010638  0.000000  ...  0.000000  0.010638  0.010638\n",
       "\n",
       "[2 rows x 505 columns]"
      ]
     },
     "metadata": {
      "tags": []
     },
     "output_type": "display_data"
    },
    {
     "data": {
      "text/html": [
       "<div>\n",
       "<style scoped>\n",
       "    .dataframe tbody tr th:only-of-type {\n",
       "        vertical-align: middle;\n",
       "    }\n",
       "\n",
       "    .dataframe tbody tr th {\n",
       "        vertical-align: top;\n",
       "    }\n",
       "\n",
       "    .dataframe thead th {\n",
       "        text-align: right;\n",
       "    }\n",
       "</style>\n",
       "<table border=\"1\" class=\"dataframe\">\n",
       "  <thead>\n",
       "    <tr style=\"text-align: right;\">\n",
       "      <th>transaction</th>\n",
       "      <th>0</th>\n",
       "      <th>1</th>\n",
       "    </tr>\n",
       "    <tr>\n",
       "      <th>transaction</th>\n",
       "      <th></th>\n",
       "      <th></th>\n",
       "    </tr>\n",
       "  </thead>\n",
       "  <tbody>\n",
       "    <tr>\n",
       "      <th>0</th>\n",
       "      <td>1.0</td>\n",
       "      <td>0.0</td>\n",
       "    </tr>\n",
       "    <tr>\n",
       "      <th>1</th>\n",
       "      <td>0.0</td>\n",
       "      <td>1.0</td>\n",
       "    </tr>\n",
       "  </tbody>\n",
       "</table>\n",
       "</div>"
      ],
      "text/plain": [
       "transaction    0    1\n",
       "transaction          \n",
       "0            1.0  0.0\n",
       "1            0.0  1.0"
      ]
     },
     "metadata": {
      "tags": []
     },
     "output_type": "display_data"
    },
    {
     "data": {
      "text/html": [
       "<div>\n",
       "<style scoped>\n",
       "    .dataframe tbody tr th:only-of-type {\n",
       "        vertical-align: middle;\n",
       "    }\n",
       "\n",
       "    .dataframe tbody tr th {\n",
       "        vertical-align: top;\n",
       "    }\n",
       "\n",
       "    .dataframe thead th {\n",
       "        text-align: right;\n",
       "    }\n",
       "</style>\n",
       "<table border=\"1\" class=\"dataframe\">\n",
       "  <thead>\n",
       "    <tr style=\"text-align: right;\">\n",
       "      <th>salary_usd</th>\n",
       "      <th>0</th>\n",
       "      <th>2000</th>\n",
       "      <th>3000</th>\n",
       "      <th>5000</th>\n",
       "      <th>7000</th>\n",
       "      <th>8000</th>\n",
       "      <th>10000</th>\n",
       "      <th>12000</th>\n",
       "      <th>13000</th>\n",
       "      <th>15000</th>\n",
       "      <th>17000</th>\n",
       "      <th>18000</th>\n",
       "      <th>20000</th>\n",
       "      <th>21000</th>\n",
       "      <th>23000</th>\n",
       "      <th>25000</th>\n",
       "      <th>26000</th>\n",
       "      <th>28000</th>\n",
       "      <th>30000</th>\n",
       "      <th>31000</th>\n",
       "      <th>33000</th>\n",
       "      <th>35000</th>\n",
       "      <th>36000</th>\n",
       "      <th>38000</th>\n",
       "      <th>40000</th>\n",
       "      <th>41000</th>\n",
       "      <th>43000</th>\n",
       "      <th>45000</th>\n",
       "      <th>46000</th>\n",
       "      <th>48000</th>\n",
       "      <th>50000</th>\n",
       "      <th>51000</th>\n",
       "      <th>53000</th>\n",
       "      <th>55000</th>\n",
       "      <th>56000</th>\n",
       "      <th>58000</th>\n",
       "      <th>60000</th>\n",
       "      <th>61000</th>\n",
       "      <th>63000</th>\n",
       "      <th>64000</th>\n",
       "      <th>66000</th>\n",
       "      <th>68000</th>\n",
       "      <th>69000</th>\n",
       "      <th>71000</th>\n",
       "      <th>73000</th>\n",
       "      <th>74000</th>\n",
       "      <th>76000</th>\n",
       "      <th>78000</th>\n",
       "      <th>79000</th>\n",
       "      <th>81000</th>\n",
       "      <th>83000</th>\n",
       "      <th>84000</th>\n",
       "      <th>86000</th>\n",
       "      <th>88000</th>\n",
       "      <th>89000</th>\n",
       "      <th>91000</th>\n",
       "      <th>94000</th>\n",
       "      <th>96000</th>\n",
       "      <th>98000</th>\n",
       "      <th>99000</th>\n",
       "      <th>101000</th>\n",
       "      <th>102000</th>\n",
       "      <th>106000</th>\n",
       "      <th>107000</th>\n",
       "      <th>109000</th>\n",
       "      <th>111000</th>\n",
       "      <th>112000</th>\n",
       "      <th>114000</th>\n",
       "      <th>116000</th>\n",
       "      <th>119000</th>\n",
       "      <th>121000</th>\n",
       "      <th>124000</th>\n",
       "    </tr>\n",
       "    <tr>\n",
       "      <th>transaction</th>\n",
       "      <th></th>\n",
       "      <th></th>\n",
       "      <th></th>\n",
       "      <th></th>\n",
       "      <th></th>\n",
       "      <th></th>\n",
       "      <th></th>\n",
       "      <th></th>\n",
       "      <th></th>\n",
       "      <th></th>\n",
       "      <th></th>\n",
       "      <th></th>\n",
       "      <th></th>\n",
       "      <th></th>\n",
       "      <th></th>\n",
       "      <th></th>\n",
       "      <th></th>\n",
       "      <th></th>\n",
       "      <th></th>\n",
       "      <th></th>\n",
       "      <th></th>\n",
       "      <th></th>\n",
       "      <th></th>\n",
       "      <th></th>\n",
       "      <th></th>\n",
       "      <th></th>\n",
       "      <th></th>\n",
       "      <th></th>\n",
       "      <th></th>\n",
       "      <th></th>\n",
       "      <th></th>\n",
       "      <th></th>\n",
       "      <th></th>\n",
       "      <th></th>\n",
       "      <th></th>\n",
       "      <th></th>\n",
       "      <th></th>\n",
       "      <th></th>\n",
       "      <th></th>\n",
       "      <th></th>\n",
       "      <th></th>\n",
       "      <th></th>\n",
       "      <th></th>\n",
       "      <th></th>\n",
       "      <th></th>\n",
       "      <th></th>\n",
       "      <th></th>\n",
       "      <th></th>\n",
       "      <th></th>\n",
       "      <th></th>\n",
       "      <th></th>\n",
       "      <th></th>\n",
       "      <th></th>\n",
       "      <th></th>\n",
       "      <th></th>\n",
       "      <th></th>\n",
       "      <th></th>\n",
       "      <th></th>\n",
       "      <th></th>\n",
       "      <th></th>\n",
       "      <th></th>\n",
       "      <th></th>\n",
       "      <th></th>\n",
       "      <th></th>\n",
       "      <th></th>\n",
       "      <th></th>\n",
       "      <th></th>\n",
       "      <th></th>\n",
       "      <th></th>\n",
       "      <th></th>\n",
       "      <th></th>\n",
       "      <th></th>\n",
       "    </tr>\n",
       "  </thead>\n",
       "  <tbody>\n",
       "    <tr>\n",
       "      <th>0</th>\n",
       "      <td>0.014599</td>\n",
       "      <td>0.019465</td>\n",
       "      <td>0.036496</td>\n",
       "      <td>0.014599</td>\n",
       "      <td>0.029197</td>\n",
       "      <td>0.009732</td>\n",
       "      <td>0.021898</td>\n",
       "      <td>0.021898</td>\n",
       "      <td>0.029197</td>\n",
       "      <td>0.021898</td>\n",
       "      <td>0.029197</td>\n",
       "      <td>0.012165</td>\n",
       "      <td>0.021898</td>\n",
       "      <td>0.009732</td>\n",
       "      <td>0.014599</td>\n",
       "      <td>0.024331</td>\n",
       "      <td>0.004866</td>\n",
       "      <td>0.012165</td>\n",
       "      <td>0.017032</td>\n",
       "      <td>0.017032</td>\n",
       "      <td>0.014599</td>\n",
       "      <td>0.017032</td>\n",
       "      <td>0.021898</td>\n",
       "      <td>0.029197</td>\n",
       "      <td>0.026764</td>\n",
       "      <td>0.014599</td>\n",
       "      <td>0.019465</td>\n",
       "      <td>0.026764</td>\n",
       "      <td>0.017032</td>\n",
       "      <td>0.002433</td>\n",
       "      <td>0.019465</td>\n",
       "      <td>0.004866</td>\n",
       "      <td>0.012165</td>\n",
       "      <td>0.026764</td>\n",
       "      <td>0.012165</td>\n",
       "      <td>0.012165</td>\n",
       "      <td>0.009732</td>\n",
       "      <td>0.009732</td>\n",
       "      <td>0.019465</td>\n",
       "      <td>0.024331</td>\n",
       "      <td>0.017032</td>\n",
       "      <td>0.012165</td>\n",
       "      <td>0.014599</td>\n",
       "      <td>0.009732</td>\n",
       "      <td>0.014599</td>\n",
       "      <td>0.007299</td>\n",
       "      <td>0.017032</td>\n",
       "      <td>0.004866</td>\n",
       "      <td>0.019465</td>\n",
       "      <td>0.038929</td>\n",
       "      <td>0.014599</td>\n",
       "      <td>0.000000</td>\n",
       "      <td>0.007299</td>\n",
       "      <td>0.004866</td>\n",
       "      <td>0.014599</td>\n",
       "      <td>0.007299</td>\n",
       "      <td>0.002433</td>\n",
       "      <td>0.007299</td>\n",
       "      <td>0.002433</td>\n",
       "      <td>0.007299</td>\n",
       "      <td>0.009732</td>\n",
       "      <td>0.004866</td>\n",
       "      <td>0.000000</td>\n",
       "      <td>0.002433</td>\n",
       "      <td>0.000000</td>\n",
       "      <td>0.002433</td>\n",
       "      <td>0.002433</td>\n",
       "      <td>0.002433</td>\n",
       "      <td>0.007299</td>\n",
       "      <td>0.002433</td>\n",
       "      <td>0.000000</td>\n",
       "      <td>0.019465</td>\n",
       "    </tr>\n",
       "    <tr>\n",
       "      <th>1</th>\n",
       "      <td>0.000000</td>\n",
       "      <td>0.000000</td>\n",
       "      <td>0.000000</td>\n",
       "      <td>0.000000</td>\n",
       "      <td>0.000000</td>\n",
       "      <td>0.000000</td>\n",
       "      <td>0.000000</td>\n",
       "      <td>0.000000</td>\n",
       "      <td>0.000000</td>\n",
       "      <td>0.000000</td>\n",
       "      <td>0.000000</td>\n",
       "      <td>0.000000</td>\n",
       "      <td>0.000000</td>\n",
       "      <td>0.000000</td>\n",
       "      <td>0.000000</td>\n",
       "      <td>0.000000</td>\n",
       "      <td>0.000000</td>\n",
       "      <td>0.000000</td>\n",
       "      <td>0.000000</td>\n",
       "      <td>0.000000</td>\n",
       "      <td>0.000000</td>\n",
       "      <td>0.000000</td>\n",
       "      <td>0.000000</td>\n",
       "      <td>0.000000</td>\n",
       "      <td>0.000000</td>\n",
       "      <td>0.000000</td>\n",
       "      <td>0.000000</td>\n",
       "      <td>0.000000</td>\n",
       "      <td>0.000000</td>\n",
       "      <td>0.000000</td>\n",
       "      <td>0.000000</td>\n",
       "      <td>0.000000</td>\n",
       "      <td>0.000000</td>\n",
       "      <td>0.000000</td>\n",
       "      <td>0.000000</td>\n",
       "      <td>0.010638</td>\n",
       "      <td>0.000000</td>\n",
       "      <td>0.000000</td>\n",
       "      <td>0.000000</td>\n",
       "      <td>0.000000</td>\n",
       "      <td>0.000000</td>\n",
       "      <td>0.000000</td>\n",
       "      <td>0.010638</td>\n",
       "      <td>0.000000</td>\n",
       "      <td>0.000000</td>\n",
       "      <td>0.010638</td>\n",
       "      <td>0.000000</td>\n",
       "      <td>0.010638</td>\n",
       "      <td>0.021277</td>\n",
       "      <td>0.031915</td>\n",
       "      <td>0.000000</td>\n",
       "      <td>0.010638</td>\n",
       "      <td>0.000000</td>\n",
       "      <td>0.000000</td>\n",
       "      <td>0.000000</td>\n",
       "      <td>0.010638</td>\n",
       "      <td>0.010638</td>\n",
       "      <td>0.021277</td>\n",
       "      <td>0.031915</td>\n",
       "      <td>0.010638</td>\n",
       "      <td>0.042553</td>\n",
       "      <td>0.000000</td>\n",
       "      <td>0.021277</td>\n",
       "      <td>0.010638</td>\n",
       "      <td>0.010638</td>\n",
       "      <td>0.031915</td>\n",
       "      <td>0.000000</td>\n",
       "      <td>0.063830</td>\n",
       "      <td>0.053191</td>\n",
       "      <td>0.010638</td>\n",
       "      <td>0.010638</td>\n",
       "      <td>0.553191</td>\n",
       "    </tr>\n",
       "  </tbody>\n",
       "</table>\n",
       "</div>"
      ],
      "text/plain": [
       "salary_usd     0         2000      3000    ...    119000    121000    124000\n",
       "transaction                                ...                              \n",
       "0            0.014599  0.019465  0.036496  ...  0.002433  0.000000  0.019465\n",
       "1            0.000000  0.000000  0.000000  ...  0.010638  0.010638  0.553191\n",
       "\n",
       "[2 rows x 72 columns]"
      ]
     },
     "metadata": {
      "tags": []
     },
     "output_type": "display_data"
    },
    {
     "data": {
      "text/html": [
       "<div>\n",
       "<style scoped>\n",
       "    .dataframe tbody tr th:only-of-type {\n",
       "        vertical-align: middle;\n",
       "    }\n",
       "\n",
       "    .dataframe tbody tr th {\n",
       "        vertical-align: top;\n",
       "    }\n",
       "\n",
       "    .dataframe thead th {\n",
       "        text-align: right;\n",
       "    }\n",
       "</style>\n",
       "<table border=\"1\" class=\"dataframe\">\n",
       "  <thead>\n",
       "    <tr style=\"text-align: right;\">\n",
       "      <th>is_male</th>\n",
       "      <th>0</th>\n",
       "      <th>1</th>\n",
       "    </tr>\n",
       "    <tr>\n",
       "      <th>transaction</th>\n",
       "      <th></th>\n",
       "      <th></th>\n",
       "    </tr>\n",
       "  </thead>\n",
       "  <tbody>\n",
       "    <tr>\n",
       "      <th>0</th>\n",
       "      <td>0.535280</td>\n",
       "      <td>0.464720</td>\n",
       "    </tr>\n",
       "    <tr>\n",
       "      <th>1</th>\n",
       "      <td>0.648936</td>\n",
       "      <td>0.351064</td>\n",
       "    </tr>\n",
       "  </tbody>\n",
       "</table>\n",
       "</div>"
      ],
      "text/plain": [
       "is_male             0         1\n",
       "transaction                    \n",
       "0            0.535280  0.464720\n",
       "1            0.648936  0.351064"
      ]
     },
     "metadata": {
      "tags": []
     },
     "output_type": "display_data"
    },
    {
     "data": {
      "text/html": [
       "<div>\n",
       "<style scoped>\n",
       "    .dataframe tbody tr th:only-of-type {\n",
       "        vertical-align: middle;\n",
       "    }\n",
       "\n",
       "    .dataframe tbody tr th {\n",
       "        vertical-align: top;\n",
       "    }\n",
       "\n",
       "    .dataframe thead th {\n",
       "        text-align: right;\n",
       "    }\n",
       "</style>\n",
       "<table border=\"1\" class=\"dataframe\">\n",
       "  <thead>\n",
       "    <tr style=\"text-align: right;\">\n",
       "      <th>is_married</th>\n",
       "      <th>0</th>\n",
       "      <th>1</th>\n",
       "    </tr>\n",
       "    <tr>\n",
       "      <th>transaction</th>\n",
       "      <th></th>\n",
       "      <th></th>\n",
       "    </tr>\n",
       "  </thead>\n",
       "  <tbody>\n",
       "    <tr>\n",
       "      <th>0</th>\n",
       "      <td>0.725061</td>\n",
       "      <td>0.274939</td>\n",
       "    </tr>\n",
       "    <tr>\n",
       "      <th>1</th>\n",
       "      <td>0.234043</td>\n",
       "      <td>0.765957</td>\n",
       "    </tr>\n",
       "  </tbody>\n",
       "</table>\n",
       "</div>"
      ],
      "text/plain": [
       "is_married          0         1\n",
       "transaction                    \n",
       "0            0.725061  0.274939\n",
       "1            0.234043  0.765957"
      ]
     },
     "metadata": {
      "tags": []
     },
     "output_type": "display_data"
    },
    {
     "data": {
      "text/html": [
       "<div>\n",
       "<style scoped>\n",
       "    .dataframe tbody tr th:only-of-type {\n",
       "        vertical-align: middle;\n",
       "    }\n",
       "\n",
       "    .dataframe tbody tr th {\n",
       "        vertical-align: top;\n",
       "    }\n",
       "\n",
       "    .dataframe thead th {\n",
       "        text-align: right;\n",
       "    }\n",
       "</style>\n",
       "<table border=\"1\" class=\"dataframe\">\n",
       "  <thead>\n",
       "    <tr style=\"text-align: right;\">\n",
       "      <th>is_college</th>\n",
       "      <th>0</th>\n",
       "      <th>1</th>\n",
       "    </tr>\n",
       "    <tr>\n",
       "      <th>transaction</th>\n",
       "      <th></th>\n",
       "      <th></th>\n",
       "    </tr>\n",
       "  </thead>\n",
       "  <tbody>\n",
       "    <tr>\n",
       "      <th>0</th>\n",
       "      <td>0.742092</td>\n",
       "      <td>0.257908</td>\n",
       "    </tr>\n",
       "    <tr>\n",
       "      <th>1</th>\n",
       "      <td>0.468085</td>\n",
       "      <td>0.531915</td>\n",
       "    </tr>\n",
       "  </tbody>\n",
       "</table>\n",
       "</div>"
      ],
      "text/plain": [
       "is_college          0         1\n",
       "transaction                    \n",
       "0            0.742092  0.257908\n",
       "1            0.468085  0.531915"
      ]
     },
     "metadata": {
      "tags": []
     },
     "output_type": "display_data"
    },
    {
     "data": {
      "text/html": [
       "<div>\n",
       "<style scoped>\n",
       "    .dataframe tbody tr th:only-of-type {\n",
       "        vertical-align: middle;\n",
       "    }\n",
       "\n",
       "    .dataframe tbody tr th {\n",
       "        vertical-align: top;\n",
       "    }\n",
       "\n",
       "    .dataframe thead th {\n",
       "        text-align: right;\n",
       "    }\n",
       "</style>\n",
       "<table border=\"1\" class=\"dataframe\">\n",
       "  <thead>\n",
       "    <tr style=\"text-align: right;\">\n",
       "      <th>is_professional</th>\n",
       "      <th>0</th>\n",
       "      <th>1</th>\n",
       "    </tr>\n",
       "    <tr>\n",
       "      <th>transaction</th>\n",
       "      <th></th>\n",
       "      <th></th>\n",
       "    </tr>\n",
       "  </thead>\n",
       "  <tbody>\n",
       "    <tr>\n",
       "      <th>0</th>\n",
       "      <td>0.705596</td>\n",
       "      <td>0.294404</td>\n",
       "    </tr>\n",
       "    <tr>\n",
       "      <th>1</th>\n",
       "      <td>0.393617</td>\n",
       "      <td>0.606383</td>\n",
       "    </tr>\n",
       "  </tbody>\n",
       "</table>\n",
       "</div>"
      ],
      "text/plain": [
       "is_professional         0         1\n",
       "transaction                        \n",
       "0                0.705596  0.294404\n",
       "1                0.393617  0.606383"
      ]
     },
     "metadata": {
      "tags": []
     },
     "output_type": "display_data"
    },
    {
     "data": {
      "text/html": [
       "<div>\n",
       "<style scoped>\n",
       "    .dataframe tbody tr th:only-of-type {\n",
       "        vertical-align: middle;\n",
       "    }\n",
       "\n",
       "    .dataframe tbody tr th {\n",
       "        vertical-align: top;\n",
       "    }\n",
       "\n",
       "    .dataframe thead th {\n",
       "        text-align: right;\n",
       "    }\n",
       "</style>\n",
       "<table border=\"1\" class=\"dataframe\">\n",
       "  <thead>\n",
       "    <tr style=\"text-align: right;\">\n",
       "      <th>is_senior</th>\n",
       "      <th>0</th>\n",
       "      <th>1</th>\n",
       "    </tr>\n",
       "    <tr>\n",
       "      <th>transaction</th>\n",
       "      <th></th>\n",
       "      <th></th>\n",
       "    </tr>\n",
       "  </thead>\n",
       "  <tbody>\n",
       "    <tr>\n",
       "      <th>0</th>\n",
       "      <td>0.931873</td>\n",
       "      <td>0.068127</td>\n",
       "    </tr>\n",
       "    <tr>\n",
       "      <th>1</th>\n",
       "      <td>0.957447</td>\n",
       "      <td>0.042553</td>\n",
       "    </tr>\n",
       "  </tbody>\n",
       "</table>\n",
       "</div>"
      ],
      "text/plain": [
       "is_senior           0         1\n",
       "transaction                    \n",
       "0            0.931873  0.068127\n",
       "1            0.957447  0.042553"
      ]
     },
     "metadata": {
      "tags": []
     },
     "output_type": "display_data"
    },
    {
     "data": {
      "text/html": [
       "<div>\n",
       "<style scoped>\n",
       "    .dataframe tbody tr th:only-of-type {\n",
       "        vertical-align: middle;\n",
       "    }\n",
       "\n",
       "    .dataframe tbody tr th {\n",
       "        vertical-align: top;\n",
       "    }\n",
       "\n",
       "    .dataframe thead th {\n",
       "        text-align: right;\n",
       "    }\n",
       "</style>\n",
       "<table border=\"1\" class=\"dataframe\">\n",
       "  <thead>\n",
       "    <tr style=\"text-align: right;\">\n",
       "      <th>is_employed</th>\n",
       "      <th>0</th>\n",
       "      <th>1</th>\n",
       "    </tr>\n",
       "    <tr>\n",
       "      <th>transaction</th>\n",
       "      <th></th>\n",
       "      <th></th>\n",
       "    </tr>\n",
       "  </thead>\n",
       "  <tbody>\n",
       "    <tr>\n",
       "      <th>0</th>\n",
       "      <td>0.963504</td>\n",
       "      <td>0.036496</td>\n",
       "    </tr>\n",
       "    <tr>\n",
       "      <th>1</th>\n",
       "      <td>1.000000</td>\n",
       "      <td>0.000000</td>\n",
       "    </tr>\n",
       "  </tbody>\n",
       "</table>\n",
       "</div>"
      ],
      "text/plain": [
       "is_employed         0         1\n",
       "transaction                    \n",
       "0            0.963504  0.036496\n",
       "1            1.000000  0.000000"
      ]
     },
     "metadata": {
      "tags": []
     },
     "output_type": "display_data"
    },
    {
     "data": {
      "text/html": [
       "<div>\n",
       "<style scoped>\n",
       "    .dataframe tbody tr th:only-of-type {\n",
       "        vertical-align: middle;\n",
       "    }\n",
       "\n",
       "    .dataframe tbody tr th {\n",
       "        vertical-align: top;\n",
       "    }\n",
       "\n",
       "    .dataframe thead th {\n",
       "        text-align: right;\n",
       "    }\n",
       "</style>\n",
       "<table border=\"1\" class=\"dataframe\">\n",
       "  <thead>\n",
       "    <tr style=\"text-align: right;\">\n",
       "      <th>is_single_income</th>\n",
       "      <th>0</th>\n",
       "      <th>1</th>\n",
       "    </tr>\n",
       "    <tr>\n",
       "      <th>transaction</th>\n",
       "      <th></th>\n",
       "      <th></th>\n",
       "    </tr>\n",
       "  </thead>\n",
       "  <tbody>\n",
       "    <tr>\n",
       "      <th>0</th>\n",
       "      <td>0.170316</td>\n",
       "      <td>0.829684</td>\n",
       "    </tr>\n",
       "    <tr>\n",
       "      <th>1</th>\n",
       "      <td>0.531915</td>\n",
       "      <td>0.468085</td>\n",
       "    </tr>\n",
       "  </tbody>\n",
       "</table>\n",
       "</div>"
      ],
      "text/plain": [
       "is_single_income         0         1\n",
       "transaction                         \n",
       "0                 0.170316  0.829684\n",
       "1                 0.531915  0.468085"
      ]
     },
     "metadata": {
      "tags": []
     },
     "output_type": "display_data"
    },
    {
     "data": {
      "text/html": [
       "<div>\n",
       "<style scoped>\n",
       "    .dataframe tbody tr th:only-of-type {\n",
       "        vertical-align: middle;\n",
       "    }\n",
       "\n",
       "    .dataframe tbody tr th {\n",
       "        vertical-align: top;\n",
       "    }\n",
       "\n",
       "    .dataframe thead th {\n",
       "        text-align: right;\n",
       "    }\n",
       "</style>\n",
       "<table border=\"1\" class=\"dataframe\">\n",
       "  <thead>\n",
       "    <tr style=\"text-align: right;\">\n",
       "      <th>children_present</th>\n",
       "      <th>0</th>\n",
       "      <th>1</th>\n",
       "    </tr>\n",
       "    <tr>\n",
       "      <th>transaction</th>\n",
       "      <th></th>\n",
       "      <th></th>\n",
       "    </tr>\n",
       "  </thead>\n",
       "  <tbody>\n",
       "    <tr>\n",
       "      <th>0</th>\n",
       "      <td>0.63747</td>\n",
       "      <td>0.36253</td>\n",
       "    </tr>\n",
       "    <tr>\n",
       "      <th>1</th>\n",
       "      <td>0.62766</td>\n",
       "      <td>0.37234</td>\n",
       "    </tr>\n",
       "  </tbody>\n",
       "</table>\n",
       "</div>"
      ],
      "text/plain": [
       "children_present        0        1\n",
       "transaction                       \n",
       "0                 0.63747  0.36253\n",
       "1                 0.62766  0.37234"
      ]
     },
     "metadata": {
      "tags": []
     },
     "output_type": "display_data"
    },
    {
     "data": {
      "text/html": [
       "<div>\n",
       "<style scoped>\n",
       "    .dataframe tbody tr th:only-of-type {\n",
       "        vertical-align: middle;\n",
       "    }\n",
       "\n",
       "    .dataframe tbody tr th {\n",
       "        vertical-align: top;\n",
       "    }\n",
       "\n",
       "    .dataframe thead th {\n",
       "        text-align: right;\n",
       "    }\n",
       "</style>\n",
       "<table border=\"1\" class=\"dataframe\">\n",
       "  <thead>\n",
       "    <tr style=\"text-align: right;\">\n",
       "      <th>is_renter</th>\n",
       "      <th>0</th>\n",
       "      <th>1</th>\n",
       "    </tr>\n",
       "    <tr>\n",
       "      <th>transaction</th>\n",
       "      <th></th>\n",
       "      <th></th>\n",
       "    </tr>\n",
       "  </thead>\n",
       "  <tbody>\n",
       "    <tr>\n",
       "      <th>0</th>\n",
       "      <td>0.304136</td>\n",
       "      <td>0.695864</td>\n",
       "    </tr>\n",
       "    <tr>\n",
       "      <th>1</th>\n",
       "      <td>0.787234</td>\n",
       "      <td>0.212766</td>\n",
       "    </tr>\n",
       "  </tbody>\n",
       "</table>\n",
       "</div>"
      ],
      "text/plain": [
       "is_renter           0         1\n",
       "transaction                    \n",
       "0            0.304136  0.695864\n",
       "1            0.787234  0.212766"
      ]
     },
     "metadata": {
      "tags": []
     },
     "output_type": "display_data"
    },
    {
     "data": {
      "text/html": [
       "<div>\n",
       "<style scoped>\n",
       "    .dataframe tbody tr th:only-of-type {\n",
       "        vertical-align: middle;\n",
       "    }\n",
       "\n",
       "    .dataframe tbody tr th {\n",
       "        vertical-align: top;\n",
       "    }\n",
       "\n",
       "    .dataframe thead th {\n",
       "        text-align: right;\n",
       "    }\n",
       "</style>\n",
       "<table border=\"1\" class=\"dataframe\">\n",
       "  <thead>\n",
       "    <tr style=\"text-align: right;\">\n",
       "      <th>lives_in_house</th>\n",
       "      <th>0</th>\n",
       "      <th>1</th>\n",
       "    </tr>\n",
       "    <tr>\n",
       "      <th>transaction</th>\n",
       "      <th></th>\n",
       "      <th></th>\n",
       "    </tr>\n",
       "  </thead>\n",
       "  <tbody>\n",
       "    <tr>\n",
       "      <th>0</th>\n",
       "      <td>0.374696</td>\n",
       "      <td>0.625304</td>\n",
       "    </tr>\n",
       "    <tr>\n",
       "      <th>1</th>\n",
       "      <td>0.117021</td>\n",
       "      <td>0.882979</td>\n",
       "    </tr>\n",
       "  </tbody>\n",
       "</table>\n",
       "</div>"
      ],
      "text/plain": [
       "lives_in_house         0         1\n",
       "transaction                       \n",
       "0               0.374696  0.625304\n",
       "1               0.117021  0.882979"
      ]
     },
     "metadata": {
      "tags": []
     },
     "output_type": "display_data"
    },
    {
     "data": {
      "text/html": [
       "<div>\n",
       "<style scoped>\n",
       "    .dataframe tbody tr th:only-of-type {\n",
       "        vertical-align: middle;\n",
       "    }\n",
       "\n",
       "    .dataframe tbody tr th {\n",
       "        vertical-align: top;\n",
       "    }\n",
       "\n",
       "    .dataframe thead th {\n",
       "        text-align: right;\n",
       "    }\n",
       "</style>\n",
       "<table border=\"1\" class=\"dataframe\">\n",
       "  <thead>\n",
       "    <tr style=\"text-align: right;\">\n",
       "      <th>is_english_primary_language</th>\n",
       "      <th>0</th>\n",
       "      <th>1</th>\n",
       "    </tr>\n",
       "    <tr>\n",
       "      <th>transaction</th>\n",
       "      <th></th>\n",
       "      <th></th>\n",
       "    </tr>\n",
       "  </thead>\n",
       "  <tbody>\n",
       "    <tr>\n",
       "      <th>0</th>\n",
       "      <td>0.116788</td>\n",
       "      <td>0.883212</td>\n",
       "    </tr>\n",
       "    <tr>\n",
       "      <th>1</th>\n",
       "      <td>0.021277</td>\n",
       "      <td>0.978723</td>\n",
       "    </tr>\n",
       "  </tbody>\n",
       "</table>\n",
       "</div>"
      ],
      "text/plain": [
       "is_english_primary_language         0         1\n",
       "transaction                                    \n",
       "0                            0.116788  0.883212\n",
       "1                            0.021277  0.978723"
      ]
     },
     "metadata": {
      "tags": []
     },
     "output_type": "display_data"
    },
    {
     "data": {
      "text/html": [
       "<div>\n",
       "<style scoped>\n",
       "    .dataframe tbody tr th:only-of-type {\n",
       "        vertical-align: middle;\n",
       "    }\n",
       "\n",
       "    .dataframe tbody tr th {\n",
       "        vertical-align: top;\n",
       "    }\n",
       "\n",
       "    .dataframe thead th {\n",
       "        text-align: right;\n",
       "    }\n",
       "</style>\n",
       "<table border=\"1\" class=\"dataframe\">\n",
       "  <thead>\n",
       "    <tr style=\"text-align: right;\">\n",
       "      <th>previously_disney_customer</th>\n",
       "      <th>0</th>\n",
       "      <th>1</th>\n",
       "    </tr>\n",
       "    <tr>\n",
       "      <th>transaction</th>\n",
       "      <th></th>\n",
       "      <th></th>\n",
       "    </tr>\n",
       "  </thead>\n",
       "  <tbody>\n",
       "    <tr>\n",
       "      <th>0</th>\n",
       "      <td>0.944039</td>\n",
       "      <td>0.055961</td>\n",
       "    </tr>\n",
       "    <tr>\n",
       "      <th>1</th>\n",
       "      <td>0.840426</td>\n",
       "      <td>0.159574</td>\n",
       "    </tr>\n",
       "  </tbody>\n",
       "</table>\n",
       "</div>"
      ],
      "text/plain": [
       "previously_disney_customer         0         1\n",
       "transaction                                   \n",
       "0                           0.944039  0.055961\n",
       "1                           0.840426  0.159574"
      ]
     },
     "metadata": {
      "tags": []
     },
     "output_type": "display_data"
    },
    {
     "data": {
      "text/html": [
       "<div>\n",
       "<style scoped>\n",
       "    .dataframe tbody tr th:only-of-type {\n",
       "        vertical-align: middle;\n",
       "    }\n",
       "\n",
       "    .dataframe tbody tr th {\n",
       "        vertical-align: top;\n",
       "    }\n",
       "\n",
       "    .dataframe thead th {\n",
       "        text-align: right;\n",
       "    }\n",
       "</style>\n",
       "<table border=\"1\" class=\"dataframe\">\n",
       "  <thead>\n",
       "    <tr style=\"text-align: right;\">\n",
       "      <th>previous_streaming_service_customer</th>\n",
       "      <th>0</th>\n",
       "      <th>1</th>\n",
       "    </tr>\n",
       "    <tr>\n",
       "      <th>transaction</th>\n",
       "      <th></th>\n",
       "      <th></th>\n",
       "    </tr>\n",
       "  </thead>\n",
       "  <tbody>\n",
       "    <tr>\n",
       "      <th>0</th>\n",
       "      <td>0.931873</td>\n",
       "      <td>0.068127</td>\n",
       "    </tr>\n",
       "    <tr>\n",
       "      <th>1</th>\n",
       "      <td>0.872340</td>\n",
       "      <td>0.127660</td>\n",
       "    </tr>\n",
       "  </tbody>\n",
       "</table>\n",
       "</div>"
      ],
      "text/plain": [
       "previous_streaming_service_customer         0         1\n",
       "transaction                                            \n",
       "0                                    0.931873  0.068127\n",
       "1                                    0.872340  0.127660"
      ]
     },
     "metadata": {
      "tags": []
     },
     "output_type": "display_data"
    }
   ],
   "source": [
    "#find the probabolity of transaction in each feature\n",
    "select_features = disney_df.columns\n",
    "for i in select_features:\n",
    "  contingency_table = pd.crosstab(disney_df.transaction, disney_df[i])\n",
    "  a = contingency_table.div(contingency_table.sum(1), axis = 0)\n",
    "  display(a)"
   ]
  },
  {
   "cell_type": "code",
   "execution_count": null,
   "metadata": {
    "colab": {
     "base_uri": "https://localhost:8080/",
     "height": 159
    },
    "colab_type": "code",
    "executionInfo": {
     "elapsed": 15946,
     "status": "ok",
     "timestamp": 1588575496486,
     "user": {
      "displayName": "Yuanying Li",
      "photoUrl": "https://lh3.googleusercontent.com/a-/AOh14GibBabKQRHnLEhm4cv-RCGnSCKt3qup_f0552az=s64",
      "userId": "04747149797881926306"
     },
     "user_tz": 420
    },
    "id": "LVrL_qe005sf",
    "outputId": "a62a06fe-503b-4856-d57c-287425588668"
   },
   "outputs": [
    {
     "data": {
      "text/html": [
       "<div>\n",
       "<style scoped>\n",
       "    .dataframe tbody tr th:only-of-type {\n",
       "        vertical-align: middle;\n",
       "    }\n",
       "\n",
       "    .dataframe tbody tr th {\n",
       "        vertical-align: top;\n",
       "    }\n",
       "\n",
       "    .dataframe thead th {\n",
       "        text-align: right;\n",
       "    }\n",
       "</style>\n",
       "<table border=\"1\" class=\"dataframe\">\n",
       "  <thead>\n",
       "    <tr style=\"text-align: right;\">\n",
       "      <th></th>\n",
       "      <th>row</th>\n",
       "      <th>salary_usd</th>\n",
       "      <th>is_male</th>\n",
       "      <th>is_married</th>\n",
       "      <th>is_college</th>\n",
       "      <th>is_professional</th>\n",
       "      <th>is_senior</th>\n",
       "      <th>is_employed</th>\n",
       "      <th>is_single_income</th>\n",
       "      <th>children_present</th>\n",
       "      <th>is_renter</th>\n",
       "      <th>lives_in_house</th>\n",
       "      <th>is_english_primary_language</th>\n",
       "      <th>previously_disney_customer</th>\n",
       "      <th>previous_streaming_service_customer</th>\n",
       "    </tr>\n",
       "    <tr>\n",
       "      <th>transaction</th>\n",
       "      <th></th>\n",
       "      <th></th>\n",
       "      <th></th>\n",
       "      <th></th>\n",
       "      <th></th>\n",
       "      <th></th>\n",
       "      <th></th>\n",
       "      <th></th>\n",
       "      <th></th>\n",
       "      <th></th>\n",
       "      <th></th>\n",
       "      <th></th>\n",
       "      <th></th>\n",
       "      <th></th>\n",
       "      <th></th>\n",
       "    </tr>\n",
       "  </thead>\n",
       "  <tbody>\n",
       "    <tr>\n",
       "      <th>0</th>\n",
       "      <td>338.253041</td>\n",
       "      <td>45625.304136</td>\n",
       "      <td>0.464720</td>\n",
       "      <td>0.274939</td>\n",
       "      <td>0.257908</td>\n",
       "      <td>0.294404</td>\n",
       "      <td>0.068127</td>\n",
       "      <td>0.036496</td>\n",
       "      <td>0.829684</td>\n",
       "      <td>0.36253</td>\n",
       "      <td>0.695864</td>\n",
       "      <td>0.625304</td>\n",
       "      <td>0.883212</td>\n",
       "      <td>0.055961</td>\n",
       "      <td>0.068127</td>\n",
       "    </tr>\n",
       "    <tr>\n",
       "      <th>1</th>\n",
       "      <td>333.808511</td>\n",
       "      <td>113308.510638</td>\n",
       "      <td>0.351064</td>\n",
       "      <td>0.765957</td>\n",
       "      <td>0.531915</td>\n",
       "      <td>0.606383</td>\n",
       "      <td>0.042553</td>\n",
       "      <td>0.000000</td>\n",
       "      <td>0.468085</td>\n",
       "      <td>0.37234</td>\n",
       "      <td>0.212766</td>\n",
       "      <td>0.882979</td>\n",
       "      <td>0.978723</td>\n",
       "      <td>0.159574</td>\n",
       "      <td>0.127660</td>\n",
       "    </tr>\n",
       "  </tbody>\n",
       "</table>\n",
       "</div>"
      ],
      "text/plain": [
       "                    row  ...  previous_streaming_service_customer\n",
       "transaction              ...                                     \n",
       "0            338.253041  ...                             0.068127\n",
       "1            333.808511  ...                             0.127660\n",
       "\n",
       "[2 rows x 15 columns]"
      ]
     },
     "execution_count": 114,
     "metadata": {
      "tags": []
     },
     "output_type": "execute_result"
    }
   ],
   "source": [
    "disney_df.groupby('transaction').mean()"
   ]
  },
  {
   "cell_type": "markdown",
   "metadata": {
    "colab_type": "text",
    "id": "GkFwUUGf0u28"
   },
   "source": [
    "Obeservations:\n",
    "\n",
    "*   There are 411 no's and 94 yes's in the outcome variables.List item\n",
    "*   The average salary of customers who made a transaction is higher than that of the customers who didn't\n",
    "\n",
    "*   In target variable transaction, a status of \"is not male\", \"is married\", \"is college\", \"is professional\", \"is not senior\", \"is not employe\", \"is not single income\", \"is not children present\", \"is not renter\", \"is lives in house\", \"is english primary language\", \"is not previously disney customer\", and \"is previous streaming service customer\" is more likely to make a transaction than the opposite one.\n"
   ]
  },
  {
   "cell_type": "code",
   "execution_count": null,
   "metadata": {
    "colab": {
     "base_uri": "https://localhost:8080/",
     "height": 554
    },
    "colab_type": "code",
    "executionInfo": {
     "elapsed": 15939,
     "status": "ok",
     "timestamp": 1588575496487,
     "user": {
      "displayName": "Yuanying Li",
      "photoUrl": "https://lh3.googleusercontent.com/a-/AOh14GibBabKQRHnLEhm4cv-RCGnSCKt3qup_f0552az=s64",
      "userId": "04747149797881926306"
     },
     "user_tz": 420
    },
    "id": "feOqkwoIArhW",
    "outputId": "37d4bd7b-e887-475e-9462-3e12dc5987b1"
   },
   "outputs": [
    {
     "data": {
      "text/html": [
       "<div>\n",
       "<style scoped>\n",
       "    .dataframe tbody tr th:only-of-type {\n",
       "        vertical-align: middle;\n",
       "    }\n",
       "\n",
       "    .dataframe tbody tr th {\n",
       "        vertical-align: top;\n",
       "    }\n",
       "\n",
       "    .dataframe thead th {\n",
       "        text-align: right;\n",
       "    }\n",
       "</style>\n",
       "<table border=\"1\" class=\"dataframe\">\n",
       "  <thead>\n",
       "    <tr style=\"text-align: right;\">\n",
       "      <th></th>\n",
       "      <th>row</th>\n",
       "      <th>transaction</th>\n",
       "      <th>salary_usd</th>\n",
       "      <th>is_male</th>\n",
       "      <th>is_married</th>\n",
       "      <th>is_college</th>\n",
       "      <th>is_professional</th>\n",
       "      <th>is_senior</th>\n",
       "      <th>is_employed</th>\n",
       "      <th>is_single_income</th>\n",
       "      <th>children_present</th>\n",
       "      <th>is_renter</th>\n",
       "      <th>lives_in_house</th>\n",
       "      <th>is_english_primary_language</th>\n",
       "      <th>previously_disney_customer</th>\n",
       "      <th>previous_streaming_service_customer</th>\n",
       "    </tr>\n",
       "  </thead>\n",
       "  <tbody>\n",
       "    <tr>\n",
       "      <th>row</th>\n",
       "      <td>1.000000</td>\n",
       "      <td>-0.008820</td>\n",
       "      <td>0.009426</td>\n",
       "      <td>0.010479</td>\n",
       "      <td>0.004594</td>\n",
       "      <td>-0.041528</td>\n",
       "      <td>0.015073</td>\n",
       "      <td>-0.012003</td>\n",
       "      <td>-0.035410</td>\n",
       "      <td>0.058334</td>\n",
       "      <td>0.080179</td>\n",
       "      <td>0.000717</td>\n",
       "      <td>0.069129</td>\n",
       "      <td>0.048148</td>\n",
       "      <td>-0.017116</td>\n",
       "      <td>-0.029686</td>\n",
       "    </tr>\n",
       "    <tr>\n",
       "      <th>transaction</th>\n",
       "      <td>-0.008820</td>\n",
       "      <td>1.000000</td>\n",
       "      <td>0.674450</td>\n",
       "      <td>-0.089043</td>\n",
       "      <td>0.396663</td>\n",
       "      <td>0.230819</td>\n",
       "      <td>0.254171</td>\n",
       "      <td>-0.040857</td>\n",
       "      <td>-0.083674</td>\n",
       "      <td>-0.330667</td>\n",
       "      <td>0.007934</td>\n",
       "      <td>-0.384798</td>\n",
       "      <td>0.213833</td>\n",
       "      <td>0.124466</td>\n",
       "      <td>0.152880</td>\n",
       "      <td>0.085800</td>\n",
       "    </tr>\n",
       "    <tr>\n",
       "      <th>salary_usd</th>\n",
       "      <td>0.009426</td>\n",
       "      <td>0.674450</td>\n",
       "      <td>1.000000</td>\n",
       "      <td>0.028663</td>\n",
       "      <td>0.454105</td>\n",
       "      <td>0.336642</td>\n",
       "      <td>0.398918</td>\n",
       "      <td>0.030765</td>\n",
       "      <td>-0.157484</td>\n",
       "      <td>-0.338652</td>\n",
       "      <td>-0.108313</td>\n",
       "      <td>-0.496908</td>\n",
       "      <td>0.204394</td>\n",
       "      <td>0.114267</td>\n",
       "      <td>0.112717</td>\n",
       "      <td>0.090492</td>\n",
       "    </tr>\n",
       "    <tr>\n",
       "      <th>is_male</th>\n",
       "      <td>0.010479</td>\n",
       "      <td>-0.089043</td>\n",
       "      <td>0.028663</td>\n",
       "      <td>1.000000</td>\n",
       "      <td>-0.083220</td>\n",
       "      <td>0.058695</td>\n",
       "      <td>-0.016306</td>\n",
       "      <td>0.013186</td>\n",
       "      <td>0.031615</td>\n",
       "      <td>0.086415</td>\n",
       "      <td>-0.071359</td>\n",
       "      <td>0.100080</td>\n",
       "      <td>-0.040893</td>\n",
       "      <td>-0.077693</td>\n",
       "      <td>-0.043146</td>\n",
       "      <td>0.018558</td>\n",
       "    </tr>\n",
       "    <tr>\n",
       "      <th>is_married</th>\n",
       "      <td>0.004594</td>\n",
       "      <td>0.396663</td>\n",
       "      <td>0.454105</td>\n",
       "      <td>-0.083220</td>\n",
       "      <td>1.000000</td>\n",
       "      <td>0.123212</td>\n",
       "      <td>0.092844</td>\n",
       "      <td>0.089029</td>\n",
       "      <td>-0.084614</td>\n",
       "      <td>-0.637696</td>\n",
       "      <td>0.039234</td>\n",
       "      <td>-0.598008</td>\n",
       "      <td>0.249266</td>\n",
       "      <td>0.031881</td>\n",
       "      <td>0.032395</td>\n",
       "      <td>0.005274</td>\n",
       "    </tr>\n",
       "    <tr>\n",
       "      <th>is_college</th>\n",
       "      <td>-0.041528</td>\n",
       "      <td>0.230819</td>\n",
       "      <td>0.336642</td>\n",
       "      <td>0.058695</td>\n",
       "      <td>0.123212</td>\n",
       "      <td>1.000000</td>\n",
       "      <td>0.412782</td>\n",
       "      <td>0.002020</td>\n",
       "      <td>-0.091731</td>\n",
       "      <td>-0.170479</td>\n",
       "      <td>-0.203397</td>\n",
       "      <td>-0.136179</td>\n",
       "      <td>-0.119061</td>\n",
       "      <td>0.092488</td>\n",
       "      <td>-0.012000</td>\n",
       "      <td>0.089560</td>\n",
       "    </tr>\n",
       "    <tr>\n",
       "      <th>is_professional</th>\n",
       "      <td>0.015073</td>\n",
       "      <td>0.254171</td>\n",
       "      <td>0.398918</td>\n",
       "      <td>-0.016306</td>\n",
       "      <td>0.092844</td>\n",
       "      <td>0.412782</td>\n",
       "      <td>1.000000</td>\n",
       "      <td>-0.191902</td>\n",
       "      <td>-0.129087</td>\n",
       "      <td>-0.162660</td>\n",
       "      <td>-0.205463</td>\n",
       "      <td>-0.168439</td>\n",
       "      <td>-0.060462</td>\n",
       "      <td>0.133555</td>\n",
       "      <td>0.040947</td>\n",
       "      <td>-0.016868</td>\n",
       "    </tr>\n",
       "    <tr>\n",
       "      <th>is_senior</th>\n",
       "      <td>-0.012003</td>\n",
       "      <td>-0.040857</td>\n",
       "      <td>0.030765</td>\n",
       "      <td>0.013186</td>\n",
       "      <td>0.089029</td>\n",
       "      <td>0.002020</td>\n",
       "      <td>-0.191902</td>\n",
       "      <td>1.000000</td>\n",
       "      <td>-0.045508</td>\n",
       "      <td>0.145213</td>\n",
       "      <td>-0.163145</td>\n",
       "      <td>-0.206098</td>\n",
       "      <td>0.007893</td>\n",
       "      <td>0.086223</td>\n",
       "      <td>-0.043382</td>\n",
       "      <td>-0.016092</td>\n",
       "    </tr>\n",
       "    <tr>\n",
       "      <th>is_employed</th>\n",
       "      <td>-0.035410</td>\n",
       "      <td>-0.083674</td>\n",
       "      <td>-0.157484</td>\n",
       "      <td>0.031615</td>\n",
       "      <td>-0.084614</td>\n",
       "      <td>-0.091731</td>\n",
       "      <td>-0.129087</td>\n",
       "      <td>-0.045508</td>\n",
       "      <td>1.000000</td>\n",
       "      <td>0.070276</td>\n",
       "      <td>0.061433</td>\n",
       "      <td>0.045614</td>\n",
       "      <td>0.072146</td>\n",
       "      <td>-0.137266</td>\n",
       "      <td>-0.005691</td>\n",
       "      <td>-0.008125</td>\n",
       "    </tr>\n",
       "    <tr>\n",
       "      <th>is_single_income</th>\n",
       "      <td>0.058334</td>\n",
       "      <td>-0.330667</td>\n",
       "      <td>-0.338652</td>\n",
       "      <td>0.086415</td>\n",
       "      <td>-0.637696</td>\n",
       "      <td>-0.170479</td>\n",
       "      <td>-0.162660</td>\n",
       "      <td>0.145213</td>\n",
       "      <td>0.070276</td>\n",
       "      <td>1.000000</td>\n",
       "      <td>-0.012347</td>\n",
       "      <td>0.330502</td>\n",
       "      <td>-0.081418</td>\n",
       "      <td>-0.060457</td>\n",
       "      <td>-0.017113</td>\n",
       "      <td>-0.060210</td>\n",
       "    </tr>\n",
       "    <tr>\n",
       "      <th>children_present</th>\n",
       "      <td>0.080179</td>\n",
       "      <td>0.007934</td>\n",
       "      <td>-0.108313</td>\n",
       "      <td>-0.071359</td>\n",
       "      <td>0.039234</td>\n",
       "      <td>-0.203397</td>\n",
       "      <td>-0.205463</td>\n",
       "      <td>-0.163145</td>\n",
       "      <td>0.061433</td>\n",
       "      <td>-0.012347</td>\n",
       "      <td>1.000000</td>\n",
       "      <td>0.063213</td>\n",
       "      <td>0.299325</td>\n",
       "      <td>-0.134764</td>\n",
       "      <td>0.018008</td>\n",
       "      <td>-0.054458</td>\n",
       "    </tr>\n",
       "    <tr>\n",
       "      <th>is_renter</th>\n",
       "      <td>0.000717</td>\n",
       "      <td>-0.384798</td>\n",
       "      <td>-0.496908</td>\n",
       "      <td>0.100080</td>\n",
       "      <td>-0.598008</td>\n",
       "      <td>-0.136179</td>\n",
       "      <td>-0.168439</td>\n",
       "      <td>-0.206098</td>\n",
       "      <td>0.045614</td>\n",
       "      <td>0.330502</td>\n",
       "      <td>0.063213</td>\n",
       "      <td>1.000000</td>\n",
       "      <td>-0.449460</td>\n",
       "      <td>-0.090945</td>\n",
       "      <td>-0.061844</td>\n",
       "      <td>-0.063587</td>\n",
       "    </tr>\n",
       "    <tr>\n",
       "      <th>lives_in_house</th>\n",
       "      <td>0.069129</td>\n",
       "      <td>0.213833</td>\n",
       "      <td>0.204394</td>\n",
       "      <td>-0.040893</td>\n",
       "      <td>0.249266</td>\n",
       "      <td>-0.119061</td>\n",
       "      <td>-0.060462</td>\n",
       "      <td>0.007893</td>\n",
       "      <td>0.072146</td>\n",
       "      <td>-0.081418</td>\n",
       "      <td>0.299325</td>\n",
       "      <td>-0.449460</td>\n",
       "      <td>1.000000</td>\n",
       "      <td>-0.061302</td>\n",
       "      <td>0.038666</td>\n",
       "      <td>-0.045817</td>\n",
       "    </tr>\n",
       "    <tr>\n",
       "      <th>is_english_primary_language</th>\n",
       "      <td>0.048148</td>\n",
       "      <td>0.124466</td>\n",
       "      <td>0.114267</td>\n",
       "      <td>-0.077693</td>\n",
       "      <td>0.031881</td>\n",
       "      <td>0.092488</td>\n",
       "      <td>0.133555</td>\n",
       "      <td>0.086223</td>\n",
       "      <td>-0.137266</td>\n",
       "      <td>-0.060457</td>\n",
       "      <td>-0.134764</td>\n",
       "      <td>-0.090945</td>\n",
       "      <td>-0.061302</td>\n",
       "      <td>1.000000</td>\n",
       "      <td>0.019161</td>\n",
       "      <td>0.023577</td>\n",
       "    </tr>\n",
       "    <tr>\n",
       "      <th>previously_disney_customer</th>\n",
       "      <td>-0.017116</td>\n",
       "      <td>0.152880</td>\n",
       "      <td>0.112717</td>\n",
       "      <td>-0.043146</td>\n",
       "      <td>0.032395</td>\n",
       "      <td>-0.012000</td>\n",
       "      <td>0.040947</td>\n",
       "      <td>-0.043382</td>\n",
       "      <td>-0.005691</td>\n",
       "      <td>-0.017113</td>\n",
       "      <td>0.018008</td>\n",
       "      <td>-0.061844</td>\n",
       "      <td>0.038666</td>\n",
       "      <td>0.019161</td>\n",
       "      <td>1.000000</td>\n",
       "      <td>-0.028071</td>\n",
       "    </tr>\n",
       "    <tr>\n",
       "      <th>previous_streaming_service_customer</th>\n",
       "      <td>-0.029686</td>\n",
       "      <td>0.085800</td>\n",
       "      <td>0.090492</td>\n",
       "      <td>0.018558</td>\n",
       "      <td>0.005274</td>\n",
       "      <td>0.089560</td>\n",
       "      <td>-0.016868</td>\n",
       "      <td>-0.016092</td>\n",
       "      <td>-0.008125</td>\n",
       "      <td>-0.060210</td>\n",
       "      <td>-0.054458</td>\n",
       "      <td>-0.063587</td>\n",
       "      <td>-0.045817</td>\n",
       "      <td>0.023577</td>\n",
       "      <td>-0.028071</td>\n",
       "      <td>1.000000</td>\n",
       "    </tr>\n",
       "  </tbody>\n",
       "</table>\n",
       "</div>"
      ],
      "text/plain": [
       "                                          row  ...  previous_streaming_service_customer\n",
       "row                                  1.000000  ...                            -0.029686\n",
       "transaction                         -0.008820  ...                             0.085800\n",
       "salary_usd                           0.009426  ...                             0.090492\n",
       "is_male                              0.010479  ...                             0.018558\n",
       "is_married                           0.004594  ...                             0.005274\n",
       "is_college                          -0.041528  ...                             0.089560\n",
       "is_professional                      0.015073  ...                            -0.016868\n",
       "is_senior                           -0.012003  ...                            -0.016092\n",
       "is_employed                         -0.035410  ...                            -0.008125\n",
       "is_single_income                     0.058334  ...                            -0.060210\n",
       "children_present                     0.080179  ...                            -0.054458\n",
       "is_renter                            0.000717  ...                            -0.063587\n",
       "lives_in_house                       0.069129  ...                            -0.045817\n",
       "is_english_primary_language          0.048148  ...                             0.023577\n",
       "previously_disney_customer          -0.017116  ...                            -0.028071\n",
       "previous_streaming_service_customer -0.029686  ...                             1.000000\n",
       "\n",
       "[16 rows x 16 columns]"
      ]
     },
     "execution_count": 115,
     "metadata": {
      "tags": []
     },
     "output_type": "execute_result"
    }
   ],
   "source": [
    "#Correlation Matrix\n",
    "disney_df.corr()"
   ]
  },
  {
   "cell_type": "code",
   "execution_count": null,
   "metadata": {
    "colab": {
     "base_uri": "https://localhost:8080/",
     "height": 782
    },
    "colab_type": "code",
    "executionInfo": {
     "elapsed": 16797,
     "status": "ok",
     "timestamp": 1588575497351,
     "user": {
      "displayName": "Yuanying Li",
      "photoUrl": "https://lh3.googleusercontent.com/a-/AOh14GibBabKQRHnLEhm4cv-RCGnSCKt3qup_f0552az=s64",
      "userId": "04747149797881926306"
     },
     "user_tz": 420
    },
    "id": "HUmueLjkAGQa",
    "outputId": "c9f0e8f7-552f-4c31-ec38-0ae09a78812d"
   },
   "outputs": [
    {
     "data": {
      "text/plain": [
       "<matplotlib.axes._subplots.AxesSubplot at 0x7f6c1936e160>"
      ]
     },
     "execution_count": 116,
     "metadata": {
      "tags": []
     },
     "output_type": "execute_result"
    },
    {
     "data": {
      "image/png": "[encoded data removed]",
      "text/plain": [
       "<Figure size 1656x576 with 2 Axes>"
      ]
     },
     "metadata": {
      "tags": []
     },
     "output_type": "display_data"
    }
   ],
   "source": [
    "#Visualizing data prior to processing\n",
    "sns.heatmap(disney_df.corr())"
   ]
  },
  {
   "cell_type": "markdown",
   "metadata": {
    "colab_type": "text",
    "id": "vkHNwcX5A-Hp"
   },
   "source": [
    "## Positively Correlated Features:\n",
    "\n",
    "*   transaction vs salary_usd ：0.674450, it is a highest relation with transaction\n",
    "*   transaction vs is_married ：0.396663\n"
   ]
  },
  {
   "cell_type": "markdown",
   "metadata": {
    "colab_type": "text",
    "id": "1XMK0kt8dqwZ"
   },
   "source": [
    "## 2.2 Use RFE(Recursive Feature Elimination) Feature Selection method, GridSearch"
   ]
  },
  {
   "cell_type": "code",
   "execution_count": null,
   "metadata": {
    "colab": {},
    "colab_type": "code",
    "id": "NwTDOyV-f6b4"
   },
   "outputs": [],
   "source": [
    "data_final_vars=disney_df.columns.values.tolist()\n",
    "y1=['transaction']\n",
    "X1=[j for j in data_final_vars if j not in y1]"
   ]
  },
  {
   "cell_type": "code",
   "execution_count": null,
   "metadata": {
    "colab": {
     "base_uri": "https://localhost:8080/",
     "height": 126
    },
    "colab_type": "code",
    "executionInfo": {
     "elapsed": 16791,
     "status": "ok",
     "timestamp": 1588575497354,
     "user": {
      "displayName": "Yuanying Li",
      "photoUrl": "https://lh3.googleusercontent.com/a-/AOh14GibBabKQRHnLEhm4cv-RCGnSCKt3qup_f0552az=s64",
      "userId": "04747149797881926306"
     },
     "user_tz": 420
    },
    "id": "Pr0pPwCJd6JR",
    "outputId": "212423a9-b3e0-4277-fee4-2e53f21be14a"
   },
   "outputs": [
    {
     "name": "stdout",
     "output_type": "stream",
     "text": [
      "[ True  True False False False False False False  True False  True False\n",
      "  True False False]\n",
      "[ 1  1  2  9  7  5  6  8  1  4  1  3  1 11 10]\n"
     ]
    },
    {
     "name": "stderr",
     "output_type": "stream",
     "text": [
      "/usr/local/lib/python3.6/dist-packages/sklearn/utils/validation.py:760: DataConversionWarning: A column-vector y was passed when a 1d array was expected. Please change the shape of y to (n_samples, ), for example using ravel().\n",
      "  y = column_or_1d(y, warn=True)\n"
     ]
    }
   ],
   "source": [
    "from sklearn import datasets\n",
    "from sklearn.feature_selection import RFE\n",
    "from sklearn.linear_model import LogisticRegression\n",
    "\n",
    "logreg = LogisticRegression()\n",
    "\n",
    "rfe = RFE(logreg, 5)\n",
    "rfe = rfe.fit(disney_df[X1], disney_df[y1] )\n",
    "print(rfe.support_)\n",
    "print(rfe.ranking_)"
   ]
  },
  {
   "cell_type": "code",
   "execution_count": null,
   "metadata": {
    "colab": {
     "base_uri": "https://localhost:8080/",
     "height": 90
    },
    "colab_type": "code",
    "executionInfo": {
     "elapsed": 16785,
     "status": "ok",
     "timestamp": 1588575497355,
     "user": {
      "displayName": "Yuanying Li",
      "photoUrl": "https://lh3.googleusercontent.com/a-/AOh14GibBabKQRHnLEhm4cv-RCGnSCKt3qup_f0552az=s64",
      "userId": "04747149797881926306"
     },
     "user_tz": 420
    },
    "id": "j9q4krQ3gS1q",
    "outputId": "c1bbbc0f-479e-439b-e946-6abb5b4c9210"
   },
   "outputs": [
    {
     "name": "stdout",
     "output_type": "stream",
     "text": [
      "Test Accuracy:0.900990099009901\n"
     ]
    },
    {
     "name": "stderr",
     "output_type": "stream",
     "text": [
      "/usr/local/lib/python3.6/dist-packages/sklearn/utils/validation.py:760: DataConversionWarning: A column-vector y was passed when a 1d array was expected. Please change the shape of y to (n_samples, ), for example using ravel().\n",
      "  y = column_or_1d(y, warn=True)\n"
     ]
    }
   ],
   "source": [
    "# select training columns and testing columns\n",
    "selected_colums = [c for c in disney_df.columns if c != \"transaction\"]\n",
    "selected_target = [\"transaction\"]\n",
    "train_data = disney_df[selected_colums]\n",
    "target_data = disney_df[selected_target]\n",
    "\n",
    "\n",
    "X_train_lgt, X_test_lgt ,y_train_lgt ,y_test_lgt = train_test_split(train_data, target_data, test_size=0.2, random_state=1)\n",
    "\n",
    "# Using direct Normalization and Logistics Regression combining model\n",
    "\n",
    "pipe_lr = Pipeline([('scl',StandardScaler()),('clf',LogisticRegression(random_state=1, max_iter=10000))])\n",
    "pipe_lr.fit(X_train_lgt,y_train_lgt)\n",
    "score = pipe_lr.score(X_test_lgt,y_test_lgt)\n",
    "print(\"Test Accuracy:{}\".format(score))"
   ]
  },
  {
   "cell_type": "code",
   "execution_count": null,
   "metadata": {
    "colab": {
     "base_uri": "https://localhost:8080/",
     "height": 108
    },
    "colab_type": "code",
    "executionInfo": {
     "elapsed": 19091,
     "status": "ok",
     "timestamp": 1588575499667,
     "user": {
      "displayName": "Yuanying Li",
      "photoUrl": "https://lh3.googleusercontent.com/a-/AOh14GibBabKQRHnLEhm4cv-RCGnSCKt3qup_f0552az=s64",
      "userId": "04747149797881926306"
     },
     "user_tz": 420
    },
    "id": "xkUWsTvbloYM",
    "outputId": "d11b58b6-26e1-45d9-b84f-4216da412298"
   },
   "outputs": [
    {
     "name": "stdout",
     "output_type": "stream",
     "text": [
      "0.9209756097560977\n",
      "{'clf__C': 10, 'clf__penalty': 'l2'}\n"
     ]
    },
    {
     "name": "stderr",
     "output_type": "stream",
     "text": [
      "/usr/local/lib/python3.6/dist-packages/sklearn/utils/validation.py:760: DataConversionWarning: A column-vector y was passed when a 1d array was expected. Please change the shape of y to (n_samples, ), for example using ravel().\n",
      "  y = column_or_1d(y, warn=True)\n"
     ]
    }
   ],
   "source": [
    "# Using direct normalization and Logistics Regression combining model, and Grid Search \n",
    "pipe_lr = Pipeline([('scl',StandardScaler()),('clf',LogisticRegression(random_state=0))])\n",
    "param_range=[0.0001,0.001,0.01,0.1,1,10,100,1000]\n",
    "param_penalty=['l1','l2']\n",
    "param_grid=[{'clf__C':param_range,'clf__penalty':param_penalty}]\n",
    "gs = GridSearchCV(estimator=pipe_lr,\n",
    "                 param_grid=param_grid,\n",
    "                 scoring='accuracy',\n",
    "                 cv=10,\n",
    "                 n_jobs=-1)\n",
    "gs = gs.fit(X_train_lgt,y_train_lgt)\n",
    "print(gs.best_score_)\n",
    "print(gs.best_params_)"
   ]
  },
  {
   "cell_type": "code",
   "execution_count": null,
   "metadata": {
    "colab": {
     "base_uri": "https://localhost:8080/",
     "height": 1000
    },
    "colab_type": "code",
    "executionInfo": {
     "elapsed": 19965,
     "status": "ok",
     "timestamp": 1588575500549,
     "user": {
      "displayName": "Yuanying Li",
      "photoUrl": "https://lh3.googleusercontent.com/a-/AOh14GibBabKQRHnLEhm4cv-RCGnSCKt3qup_f0552az=s64",
      "userId": "04747149797881926306"
     },
     "user_tz": 420
    },
    "id": "bDam7UlFjKyF",
    "outputId": "d3b77d0a-7752-44e8-87d3-d988713bac5c"
   },
   "outputs": [
    {
     "name": "stderr",
     "output_type": "stream",
     "text": [
      "/usr/local/lib/python3.6/dist-packages/sklearn/utils/validation.py:760: DataConversionWarning: A column-vector y was passed when a 1d array was expected. Please change the shape of y to (n_samples, ), for example using ravel().\n",
      "  y = column_or_1d(y, warn=True)\n",
      "/usr/local/lib/python3.6/dist-packages/sklearn/utils/validation.py:760: DataConversionWarning: A column-vector y was passed when a 1d array was expected. Please change the shape of y to (n_samples, ), for example using ravel().\n",
      "  y = column_or_1d(y, warn=True)\n",
      "/usr/local/lib/python3.6/dist-packages/sklearn/utils/validation.py:760: DataConversionWarning: A column-vector y was passed when a 1d array was expected. Please change the shape of y to (n_samples, ), for example using ravel().\n",
      "  y = column_or_1d(y, warn=True)\n",
      "/usr/local/lib/python3.6/dist-packages/sklearn/utils/validation.py:760: DataConversionWarning: A column-vector y was passed when a 1d array was expected. Please change the shape of y to (n_samples, ), for example using ravel().\n",
      "  y = column_or_1d(y, warn=True)\n",
      "/usr/local/lib/python3.6/dist-packages/sklearn/utils/validation.py:760: DataConversionWarning: A column-vector y was passed when a 1d array was expected. Please change the shape of y to (n_samples, ), for example using ravel().\n",
      "  y = column_or_1d(y, warn=True)\n",
      "/usr/local/lib/python3.6/dist-packages/sklearn/utils/validation.py:760: DataConversionWarning: A column-vector y was passed when a 1d array was expected. Please change the shape of y to (n_samples, ), for example using ravel().\n",
      "  y = column_or_1d(y, warn=True)\n",
      "/usr/local/lib/python3.6/dist-packages/sklearn/utils/validation.py:760: DataConversionWarning: A column-vector y was passed when a 1d array was expected. Please change the shape of y to (n_samples, ), for example using ravel().\n",
      "  y = column_or_1d(y, warn=True)\n",
      "/usr/local/lib/python3.6/dist-packages/sklearn/utils/validation.py:760: DataConversionWarning: A column-vector y was passed when a 1d array was expected. Please change the shape of y to (n_samples, ), for example using ravel().\n",
      "  y = column_or_1d(y, warn=True)\n",
      "/usr/local/lib/python3.6/dist-packages/sklearn/utils/validation.py:760: DataConversionWarning: A column-vector y was passed when a 1d array was expected. Please change the shape of y to (n_samples, ), for example using ravel().\n",
      "  y = column_or_1d(y, warn=True)\n",
      "/usr/local/lib/python3.6/dist-packages/sklearn/utils/validation.py:760: DataConversionWarning: A column-vector y was passed when a 1d array was expected. Please change the shape of y to (n_samples, ), for example using ravel().\n",
      "  y = column_or_1d(y, warn=True)\n",
      "/usr/local/lib/python3.6/dist-packages/sklearn/utils/validation.py:760: DataConversionWarning: A column-vector y was passed when a 1d array was expected. Please change the shape of y to (n_samples, ), for example using ravel().\n",
      "  y = column_or_1d(y, warn=True)\n",
      "/usr/local/lib/python3.6/dist-packages/sklearn/utils/validation.py:760: DataConversionWarning: A column-vector y was passed when a 1d array was expected. Please change the shape of y to (n_samples, ), for example using ravel().\n",
      "  y = column_or_1d(y, warn=True)\n",
      "/usr/local/lib/python3.6/dist-packages/sklearn/utils/validation.py:760: DataConversionWarning: A column-vector y was passed when a 1d array was expected. Please change the shape of y to (n_samples, ), for example using ravel().\n",
      "  y = column_or_1d(y, warn=True)\n",
      "/usr/local/lib/python3.6/dist-packages/sklearn/utils/validation.py:760: DataConversionWarning: A column-vector y was passed when a 1d array was expected. Please change the shape of y to (n_samples, ), for example using ravel().\n",
      "  y = column_or_1d(y, warn=True)\n",
      "/usr/local/lib/python3.6/dist-packages/sklearn/utils/validation.py:760: DataConversionWarning: A column-vector y was passed when a 1d array was expected. Please change the shape of y to (n_samples, ), for example using ravel().\n",
      "  y = column_or_1d(y, warn=True)\n",
      "/usr/local/lib/python3.6/dist-packages/sklearn/utils/validation.py:760: DataConversionWarning: A column-vector y was passed when a 1d array was expected. Please change the shape of y to (n_samples, ), for example using ravel().\n",
      "  y = column_or_1d(y, warn=True)\n",
      "/usr/local/lib/python3.6/dist-packages/sklearn/utils/validation.py:760: DataConversionWarning: A column-vector y was passed when a 1d array was expected. Please change the shape of y to (n_samples, ), for example using ravel().\n",
      "  y = column_or_1d(y, warn=True)\n",
      "/usr/local/lib/python3.6/dist-packages/sklearn/utils/validation.py:760: DataConversionWarning: A column-vector y was passed when a 1d array was expected. Please change the shape of y to (n_samples, ), for example using ravel().\n",
      "  y = column_or_1d(y, warn=True)\n",
      "/usr/local/lib/python3.6/dist-packages/sklearn/utils/validation.py:760: DataConversionWarning: A column-vector y was passed when a 1d array was expected. Please change the shape of y to (n_samples, ), for example using ravel().\n",
      "  y = column_or_1d(y, warn=True)\n",
      "/usr/local/lib/python3.6/dist-packages/sklearn/utils/validation.py:760: DataConversionWarning: A column-vector y was passed when a 1d array was expected. Please change the shape of y to (n_samples, ), for example using ravel().\n",
      "  y = column_or_1d(y, warn=True)\n",
      "/usr/local/lib/python3.6/dist-packages/sklearn/utils/validation.py:760: DataConversionWarning: A column-vector y was passed when a 1d array was expected. Please change the shape of y to (n_samples, ), for example using ravel().\n",
      "  y = column_or_1d(y, warn=True)\n",
      "/usr/local/lib/python3.6/dist-packages/sklearn/utils/validation.py:760: DataConversionWarning: A column-vector y was passed when a 1d array was expected. Please change the shape of y to (n_samples, ), for example using ravel().\n",
      "  y = column_or_1d(y, warn=True)\n",
      "/usr/local/lib/python3.6/dist-packages/sklearn/utils/validation.py:760: DataConversionWarning: A column-vector y was passed when a 1d array was expected. Please change the shape of y to (n_samples, ), for example using ravel().\n",
      "  y = column_or_1d(y, warn=True)\n",
      "/usr/local/lib/python3.6/dist-packages/sklearn/utils/validation.py:760: DataConversionWarning: A column-vector y was passed when a 1d array was expected. Please change the shape of y to (n_samples, ), for example using ravel().\n",
      "  y = column_or_1d(y, warn=True)\n",
      "/usr/local/lib/python3.6/dist-packages/sklearn/utils/validation.py:760: DataConversionWarning: A column-vector y was passed when a 1d array was expected. Please change the shape of y to (n_samples, ), for example using ravel().\n",
      "  y = column_or_1d(y, warn=True)\n",
      "/usr/local/lib/python3.6/dist-packages/sklearn/utils/validation.py:760: DataConversionWarning: A column-vector y was passed when a 1d array was expected. Please change the shape of y to (n_samples, ), for example using ravel().\n",
      "  y = column_or_1d(y, warn=True)\n",
      "/usr/local/lib/python3.6/dist-packages/sklearn/utils/validation.py:760: DataConversionWarning: A column-vector y was passed when a 1d array was expected. Please change the shape of y to (n_samples, ), for example using ravel().\n",
      "  y = column_or_1d(y, warn=True)\n",
      "/usr/local/lib/python3.6/dist-packages/sklearn/utils/validation.py:760: DataConversionWarning: A column-vector y was passed when a 1d array was expected. Please change the shape of y to (n_samples, ), for example using ravel().\n",
      "  y = column_or_1d(y, warn=True)\n",
      "/usr/local/lib/python3.6/dist-packages/sklearn/utils/validation.py:760: DataConversionWarning: A column-vector y was passed when a 1d array was expected. Please change the shape of y to (n_samples, ), for example using ravel().\n",
      "  y = column_or_1d(y, warn=True)\n",
      "/usr/local/lib/python3.6/dist-packages/sklearn/utils/validation.py:760: DataConversionWarning: A column-vector y was passed when a 1d array was expected. Please change the shape of y to (n_samples, ), for example using ravel().\n",
      "  y = column_or_1d(y, warn=True)\n"
     ]
    }
   ],
   "source": [
    "# Feature selection, uses RFE(Recursive Feature Elimination) method and tests on different subsets of features\n",
    "scores = []\n",
    "for i in range(1, len(disney_df[X1].columns) + 1):\n",
    "  scaler = StandardScaler()\n",
    "  rfe = RFE(LogisticRegression(), i)\n",
    "  rfe.fit(scaler.fit_transform(disney_df[X1]), disney_df[y1] )\n",
    "  selected_colums = disney_df[X1].columns[rfe.support_]\n",
    "  #selected_colums = [c for c in disney_df.columns if c != \"transaction\"]\n",
    "  selected_target = [\"transaction\"]\n",
    "  train_data = disney_df[selected_colums]\n",
    "  target_data = disney_df[selected_target]\n",
    "\n",
    "\n",
    "  X_train_lgt, X_test_lgt ,y_train_lgt ,y_test_lgt = train_test_split(train_data, target_data, test_size=0.2, random_state=1)\n",
    "\n",
    "\n",
    "  pipe_lr = Pipeline([('scl',StandardScaler()),('clf',LogisticRegression(random_state=1, max_iter=10000))])\n",
    "  pipe_lr.fit(X_train_lgt,y_train_lgt)\n",
    "  score = pipe_lr.score(X_test_lgt,y_test_lgt)\n",
    "  scores.append((score, i))\n"
   ]
  },
  {
   "cell_type": "code",
   "execution_count": null,
   "metadata": {
    "colab": {
     "base_uri": "https://localhost:8080/",
     "height": 284
    },
    "colab_type": "code",
    "executionInfo": {
     "elapsed": 19961,
     "status": "ok",
     "timestamp": 1588575500551,
     "user": {
      "displayName": "Yuanying Li",
      "photoUrl": "https://lh3.googleusercontent.com/a-/AOh14GibBabKQRHnLEhm4cv-RCGnSCKt3qup_f0552az=s64",
      "userId": "04747149797881926306"
     },
     "user_tz": 420
    },
    "id": "txlh3DRirkTJ",
    "outputId": "573e0b90-48ed-488c-c73e-d9e54fa45c3e"
   },
   "outputs": [
    {
     "name": "stdout",
     "output_type": "stream",
     "text": [
      "1 features, score: 0.9108910891089109\n",
      "2 features, score: 0.9207920792079208\n",
      "3 features, score: 0.9306930693069307\n",
      "4 features, score: 0.9306930693069307\n",
      "5 features, score: 0.9306930693069307\n",
      "6 features, score: 0.9306930693069307\n",
      "7 features, score: 0.9306930693069307\n",
      "8 features, score: 0.9306930693069307\n",
      "9 features, score: 0.9306930693069307\n",
      "10 features, score: 0.9108910891089109\n",
      "11 features, score: 0.9108910891089109\n",
      "12 features, score: 0.900990099009901\n",
      "13 features, score: 0.900990099009901\n",
      "14 features, score: 0.900990099009901\n",
      "15 features, score: 0.900990099009901\n"
     ]
    }
   ],
   "source": [
    "for score in scores:\n",
    "  print(\"{} features, score: {}\".format(score[1], score[0]))"
   ]
  },
  {
   "cell_type": "markdown",
   "metadata": {
    "colab_type": "text",
    "id": "rF3ArMC6OzlF"
   },
   "source": [
    "## 2. Generate 5 sample predictions for input values"
   ]
  },
  {
   "cell_type": "code",
   "execution_count": null,
   "metadata": {
    "colab": {},
    "colab_type": "code",
    "id": "zkg65jH6MlXp"
   },
   "outputs": [],
   "source": [
    "generate_df = {'row':[12,36,44,24,174],'transaction':[0,0,0,1,0],'salary_usd':[400000,34000,210000,150000,80000],'is_male':[1,1,0,1,1],'is_married':[0,0,0,1,1],'is_professional':[0,0,0,1,0],'is_senior':[0,0,0,0,1],'is_employed':[0,0,0,0,1],'is_single_income':[0,0,0,0,1],'children_present':[0,0,0,0,1],'is_rener':[0,0,0,0,1],'lives_in_house':[1,1,0,0,1],'is_english_primary_language':[1,1,0,0,1],'previously_disney_customer':[1,0,0,0,1],'previous_streaming_service_customer':[1,1,0,0,1]}"
   ]
  },
  {
   "cell_type": "code",
   "execution_count": null,
   "metadata": {
    "colab": {
     "base_uri": "https://localhost:8080/",
     "height": 220
    },
    "colab_type": "code",
    "executionInfo": {
     "elapsed": 20141,
     "status": "ok",
     "timestamp": 1588575500740,
     "user": {
      "displayName": "Yuanying Li",
      "photoUrl": "https://lh3.googleusercontent.com/a-/AOh14GibBabKQRHnLEhm4cv-RCGnSCKt3qup_f0552az=s64",
      "userId": "04747149797881926306"
     },
     "user_tz": 420
    },
    "id": "uuL2Op4tOsEB",
    "outputId": "0e8db6d8-64a4-4060-bc60-697f4dce9c35"
   },
   "outputs": [
    {
     "data": {
      "text/html": [
       "<div>\n",
       "<style scoped>\n",
       "    .dataframe tbody tr th:only-of-type {\n",
       "        vertical-align: middle;\n",
       "    }\n",
       "\n",
       "    .dataframe tbody tr th {\n",
       "        vertical-align: top;\n",
       "    }\n",
       "\n",
       "    .dataframe thead th {\n",
       "        text-align: right;\n",
       "    }\n",
       "</style>\n",
       "<table border=\"1\" class=\"dataframe\">\n",
       "  <thead>\n",
       "    <tr style=\"text-align: right;\">\n",
       "      <th></th>\n",
       "      <th>row</th>\n",
       "      <th>transaction</th>\n",
       "      <th>salary_usd</th>\n",
       "      <th>is_male</th>\n",
       "      <th>is_married</th>\n",
       "      <th>is_professional</th>\n",
       "      <th>is_senior</th>\n",
       "      <th>is_employed</th>\n",
       "      <th>is_single_income</th>\n",
       "      <th>children_present</th>\n",
       "      <th>is_rener</th>\n",
       "      <th>lives_in_house</th>\n",
       "      <th>is_english_primary_language</th>\n",
       "      <th>previously_disney_customer</th>\n",
       "      <th>previous_streaming_service_customer</th>\n",
       "      <th>Prediction</th>\n",
       "    </tr>\n",
       "  </thead>\n",
       "  <tbody>\n",
       "    <tr>\n",
       "      <th>0</th>\n",
       "      <td>12</td>\n",
       "      <td>0</td>\n",
       "      <td>400000</td>\n",
       "      <td>1</td>\n",
       "      <td>0</td>\n",
       "      <td>0</td>\n",
       "      <td>0</td>\n",
       "      <td>0</td>\n",
       "      <td>0</td>\n",
       "      <td>0</td>\n",
       "      <td>0</td>\n",
       "      <td>1</td>\n",
       "      <td>1</td>\n",
       "      <td>1</td>\n",
       "      <td>1</td>\n",
       "      <td>0</td>\n",
       "    </tr>\n",
       "    <tr>\n",
       "      <th>1</th>\n",
       "      <td>36</td>\n",
       "      <td>0</td>\n",
       "      <td>34000</td>\n",
       "      <td>1</td>\n",
       "      <td>0</td>\n",
       "      <td>0</td>\n",
       "      <td>0</td>\n",
       "      <td>0</td>\n",
       "      <td>0</td>\n",
       "      <td>0</td>\n",
       "      <td>0</td>\n",
       "      <td>1</td>\n",
       "      <td>1</td>\n",
       "      <td>0</td>\n",
       "      <td>1</td>\n",
       "      <td>0</td>\n",
       "    </tr>\n",
       "    <tr>\n",
       "      <th>2</th>\n",
       "      <td>44</td>\n",
       "      <td>0</td>\n",
       "      <td>210000</td>\n",
       "      <td>0</td>\n",
       "      <td>0</td>\n",
       "      <td>0</td>\n",
       "      <td>0</td>\n",
       "      <td>0</td>\n",
       "      <td>0</td>\n",
       "      <td>0</td>\n",
       "      <td>0</td>\n",
       "      <td>0</td>\n",
       "      <td>0</td>\n",
       "      <td>0</td>\n",
       "      <td>0</td>\n",
       "      <td>0</td>\n",
       "    </tr>\n",
       "    <tr>\n",
       "      <th>3</th>\n",
       "      <td>24</td>\n",
       "      <td>1</td>\n",
       "      <td>150000</td>\n",
       "      <td>1</td>\n",
       "      <td>1</td>\n",
       "      <td>1</td>\n",
       "      <td>0</td>\n",
       "      <td>0</td>\n",
       "      <td>0</td>\n",
       "      <td>0</td>\n",
       "      <td>0</td>\n",
       "      <td>0</td>\n",
       "      <td>0</td>\n",
       "      <td>0</td>\n",
       "      <td>0</td>\n",
       "      <td>0</td>\n",
       "    </tr>\n",
       "    <tr>\n",
       "      <th>4</th>\n",
       "      <td>174</td>\n",
       "      <td>0</td>\n",
       "      <td>80000</td>\n",
       "      <td>1</td>\n",
       "      <td>1</td>\n",
       "      <td>0</td>\n",
       "      <td>1</td>\n",
       "      <td>1</td>\n",
       "      <td>1</td>\n",
       "      <td>1</td>\n",
       "      <td>1</td>\n",
       "      <td>1</td>\n",
       "      <td>1</td>\n",
       "      <td>1</td>\n",
       "      <td>1</td>\n",
       "      <td>0</td>\n",
       "    </tr>\n",
       "  </tbody>\n",
       "</table>\n",
       "</div>"
      ],
      "text/plain": [
       "   row  transaction  ...  previous_streaming_service_customer  Prediction\n",
       "0   12            0  ...                                    1           0\n",
       "1   36            0  ...                                    1           0\n",
       "2   44            0  ...                                    0           0\n",
       "3   24            1  ...                                    0           0\n",
       "4  174            0  ...                                    1           0\n",
       "\n",
       "[5 rows x 16 columns]"
      ]
     },
     "execution_count": 124,
     "metadata": {
      "tags": []
     },
     "output_type": "execute_result"
    }
   ],
   "source": [
    "arbitrary_values2 = pd.DataFrame(data = generate_df)\n",
    "arbitrary_values2.join(pd.DataFrame(pipe_lr.predict(arbitrary_values2), columns = {'Prediction'}).set_index([pd.Index(arbitrary_values2.index)]))"
   ]
  },
  {
   "cell_type": "markdown",
   "metadata": {
    "colab_type": "text",
    "id": "9frWRB8NrNC9"
   },
   "source": [
    "# Part 3 - Use regularization to predict salaries for a sports player\n",
    "\n",
    "## 3.1 Data Acquisition & Rudimentary Analysis"
   ]
  },
  {
   "cell_type": "code",
   "execution_count": null,
   "metadata": {
    "colab": {
     "base_uri": "https://localhost:8080/",
     "height": 35
    },
    "colab_type": "code",
    "executionInfo": {
     "elapsed": 20672,
     "status": "ok",
     "timestamp": 1588575501277,
     "user": {
      "displayName": "Yuanying Li",
      "photoUrl": "https://lh3.googleusercontent.com/a-/AOh14GibBabKQRHnLEhm4cv-RCGnSCKt3qup_f0552az=s64",
      "userId": "04747149797881926306"
     },
     "user_tz": 420
    },
    "id": "YMZmkQmstWrb",
    "outputId": "b380abb1-547a-42fa-b91f-a1d66987a224"
   },
   "outputs": [
    {
     "name": "stdout",
     "output_type": "stream",
     "text": [
      "Shape of dataframe is: (243, 20)\n"
     ]
    }
   ],
   "source": [
    "import pandas as pd\n",
    "#Read data from Google Sheet\n",
    "bb_df=pd.read_csv('https://docs.google.com/spreadsheets/d/e/2PACX-1vSGoxSrcq8KGsuqFqTv9iGOi8TkspixXiFL4sk6BJ_izi7Dzs8PEnoSE7fNeitJhNQwW7mXsNqeOO_K/pub?output=csv')\n",
    "print(\"Shape of dataframe is: {}\".format(bb_df.shape))"
   ]
  },
  {
   "cell_type": "code",
   "execution_count": null,
   "metadata": {
    "colab": {
     "base_uri": "https://localhost:8080/",
     "height": 220
    },
    "colab_type": "code",
    "executionInfo": {
     "elapsed": 20666,
     "status": "ok",
     "timestamp": 1588575501279,
     "user": {
      "displayName": "Yuanying Li",
      "photoUrl": "https://lh3.googleusercontent.com/a-/AOh14GibBabKQRHnLEhm4cv-RCGnSCKt3qup_f0552az=s64",
      "userId": "04747149797881926306"
     },
     "user_tz": 420
    },
    "id": "TQ_FKAgzt0vH",
    "outputId": "305ee6bb-d49c-4dcc-f451-3db3ee7ca696"
   },
   "outputs": [
    {
     "data": {
      "text/html": [
       "<div>\n",
       "<style scoped>\n",
       "    .dataframe tbody tr th:only-of-type {\n",
       "        vertical-align: middle;\n",
       "    }\n",
       "\n",
       "    .dataframe tbody tr th {\n",
       "        vertical-align: top;\n",
       "    }\n",
       "\n",
       "    .dataframe thead th {\n",
       "        text-align: right;\n",
       "    }\n",
       "</style>\n",
       "<table border=\"1\" class=\"dataframe\">\n",
       "  <thead>\n",
       "    <tr style=\"text-align: right;\">\n",
       "      <th></th>\n",
       "      <th>Salary</th>\n",
       "      <th>count_at_bats</th>\n",
       "      <th>count_hits</th>\n",
       "      <th>count_home_runs</th>\n",
       "      <th>count_runs</th>\n",
       "      <th>RBI</th>\n",
       "      <th>count_walks</th>\n",
       "      <th>years_experience</th>\n",
       "      <th>cumulative_at_bats</th>\n",
       "      <th>cumulative_hits</th>\n",
       "      <th>cumulative_home_runs</th>\n",
       "      <th>cumulative_runs</th>\n",
       "      <th>cumulative_RBI</th>\n",
       "      <th>cumulative_walks</th>\n",
       "      <th>League</th>\n",
       "      <th>Division</th>\n",
       "      <th>PutOuts</th>\n",
       "      <th>Assists</th>\n",
       "      <th>Errors</th>\n",
       "      <th>NewLeague</th>\n",
       "    </tr>\n",
       "  </thead>\n",
       "  <tbody>\n",
       "    <tr>\n",
       "      <th>0</th>\n",
       "      <td>875000</td>\n",
       "      <td>457</td>\n",
       "      <td>101</td>\n",
       "      <td>14</td>\n",
       "      <td>42</td>\n",
       "      <td>63</td>\n",
       "      <td>22</td>\n",
       "      <td>17</td>\n",
       "      <td>6521</td>\n",
       "      <td>1767</td>\n",
       "      <td>281</td>\n",
       "      <td>1003</td>\n",
       "      <td>977</td>\n",
       "      <td>619</td>\n",
       "      <td>A</td>\n",
       "      <td>W</td>\n",
       "      <td>389</td>\n",
       "      <td>39</td>\n",
       "      <td>4</td>\n",
       "      <td>A</td>\n",
       "    </tr>\n",
       "    <tr>\n",
       "      <th>1</th>\n",
       "      <td>1300000</td>\n",
       "      <td>441</td>\n",
       "      <td>118</td>\n",
       "      <td>28</td>\n",
       "      <td>84</td>\n",
       "      <td>86</td>\n",
       "      <td>68</td>\n",
       "      <td>8</td>\n",
       "      <td>2723</td>\n",
       "      <td>750</td>\n",
       "      <td>126</td>\n",
       "      <td>433</td>\n",
       "      <td>420</td>\n",
       "      <td>309</td>\n",
       "      <td>A</td>\n",
       "      <td>E</td>\n",
       "      <td>190</td>\n",
       "      <td>2</td>\n",
       "      <td>2</td>\n",
       "      <td>A</td>\n",
       "    </tr>\n",
       "    <tr>\n",
       "      <th>2</th>\n",
       "      <td>940000</td>\n",
       "      <td>593</td>\n",
       "      <td>152</td>\n",
       "      <td>23</td>\n",
       "      <td>69</td>\n",
       "      <td>75</td>\n",
       "      <td>53</td>\n",
       "      <td>6</td>\n",
       "      <td>2765</td>\n",
       "      <td>686</td>\n",
       "      <td>133</td>\n",
       "      <td>369</td>\n",
       "      <td>384</td>\n",
       "      <td>321</td>\n",
       "      <td>A</td>\n",
       "      <td>W</td>\n",
       "      <td>315</td>\n",
       "      <td>10</td>\n",
       "      <td>6</td>\n",
       "      <td>A</td>\n",
       "    </tr>\n",
       "    <tr>\n",
       "      <th>3</th>\n",
       "      <td>70000</td>\n",
       "      <td>312</td>\n",
       "      <td>68</td>\n",
       "      <td>2</td>\n",
       "      <td>32</td>\n",
       "      <td>22</td>\n",
       "      <td>24</td>\n",
       "      <td>1</td>\n",
       "      <td>312</td>\n",
       "      <td>68</td>\n",
       "      <td>2</td>\n",
       "      <td>32</td>\n",
       "      <td>22</td>\n",
       "      <td>24</td>\n",
       "      <td>A</td>\n",
       "      <td>E</td>\n",
       "      <td>86</td>\n",
       "      <td>150</td>\n",
       "      <td>15</td>\n",
       "      <td>A</td>\n",
       "    </tr>\n",
       "    <tr>\n",
       "      <th>4</th>\n",
       "      <td>815000</td>\n",
       "      <td>526</td>\n",
       "      <td>146</td>\n",
       "      <td>13</td>\n",
       "      <td>71</td>\n",
       "      <td>70</td>\n",
       "      <td>84</td>\n",
       "      <td>6</td>\n",
       "      <td>2648</td>\n",
       "      <td>715</td>\n",
       "      <td>77</td>\n",
       "      <td>352</td>\n",
       "      <td>342</td>\n",
       "      <td>289</td>\n",
       "      <td>N</td>\n",
       "      <td>W</td>\n",
       "      <td>303</td>\n",
       "      <td>9</td>\n",
       "      <td>9</td>\n",
       "      <td>N</td>\n",
       "    </tr>\n",
       "  </tbody>\n",
       "</table>\n",
       "</div>"
      ],
      "text/plain": [
       "    Salary  count_at_bats  count_hits  ...  Assists  Errors  NewLeague\n",
       "0   875000            457         101  ...       39       4          A\n",
       "1  1300000            441         118  ...        2       2          A\n",
       "2   940000            593         152  ...       10       6          A\n",
       "3    70000            312          68  ...      150      15          A\n",
       "4   815000            526         146  ...        9       9          N\n",
       "\n",
       "[5 rows x 20 columns]"
      ]
     },
     "execution_count": 126,
     "metadata": {
      "tags": []
     },
     "output_type": "execute_result"
    }
   ],
   "source": [
    "bb_df.head()"
   ]
  },
  {
   "cell_type": "code",
   "execution_count": null,
   "metadata": {
    "colab": {
     "base_uri": "https://localhost:8080/",
     "height": 497
    },
    "colab_type": "code",
    "executionInfo": {
     "elapsed": 20662,
     "status": "ok",
     "timestamp": 1588575501281,
     "user": {
      "displayName": "Yuanying Li",
      "photoUrl": "https://lh3.googleusercontent.com/a-/AOh14GibBabKQRHnLEhm4cv-RCGnSCKt3qup_f0552az=s64",
      "userId": "04747149797881926306"
     },
     "user_tz": 420
    },
    "id": "jCj1kv4xtwWm",
    "outputId": "e2eeb91e-bf41-4723-ea61-3df5e7687b67"
   },
   "outputs": [
    {
     "name": "stdout",
     "output_type": "stream",
     "text": [
      "<class 'pandas.core.frame.DataFrame'>\n",
      "RangeIndex: 243 entries, 0 to 242\n",
      "Data columns (total 20 columns):\n",
      " #   Column                Non-Null Count  Dtype \n",
      "---  ------                --------------  ----- \n",
      " 0   Salary                243 non-null    int64 \n",
      " 1   count_at_bats         243 non-null    int64 \n",
      " 2   count_hits            243 non-null    int64 \n",
      " 3   count_home_runs       243 non-null    int64 \n",
      " 4   count_runs            243 non-null    int64 \n",
      " 5   RBI                   243 non-null    int64 \n",
      " 6   count_walks           243 non-null    int64 \n",
      " 7   years_experience      243 non-null    int64 \n",
      " 8   cumulative_at_bats    243 non-null    int64 \n",
      " 9   cumulative_hits       243 non-null    int64 \n",
      " 10  cumulative_home_runs  243 non-null    int64 \n",
      " 11  cumulative_runs       243 non-null    int64 \n",
      " 12  cumulative_RBI        243 non-null    int64 \n",
      " 13  cumulative_walks      243 non-null    int64 \n",
      " 14  League                243 non-null    object\n",
      " 15  Division              243 non-null    object\n",
      " 16  PutOuts               243 non-null    int64 \n",
      " 17  Assists               243 non-null    int64 \n",
      " 18  Errors                243 non-null    int64 \n",
      " 19  NewLeague             243 non-null    object\n",
      "dtypes: int64(17), object(3)\n",
      "memory usage: 38.1+ KB\n"
     ]
    }
   ],
   "source": [
    "bb_df.info()"
   ]
  },
  {
   "cell_type": "code",
   "execution_count": null,
   "metadata": {
    "colab": {
     "base_uri": "https://localhost:8080/",
     "height": 311
    },
    "colab_type": "code",
    "executionInfo": {
     "elapsed": 20657,
     "status": "ok",
     "timestamp": 1588575501283,
     "user": {
      "displayName": "Yuanying Li",
      "photoUrl": "https://lh3.googleusercontent.com/a-/AOh14GibBabKQRHnLEhm4cv-RCGnSCKt3qup_f0552az=s64",
      "userId": "04747149797881926306"
     },
     "user_tz": 420
    },
    "id": "wnPyaefNt6SL",
    "outputId": "d97544c5-f5ae-41be-efff-90d3519af85b"
   },
   "outputs": [
    {
     "data": {
      "text/html": [
       "<div>\n",
       "<style scoped>\n",
       "    .dataframe tbody tr th:only-of-type {\n",
       "        vertical-align: middle;\n",
       "    }\n",
       "\n",
       "    .dataframe tbody tr th {\n",
       "        vertical-align: top;\n",
       "    }\n",
       "\n",
       "    .dataframe thead th {\n",
       "        text-align: right;\n",
       "    }\n",
       "</style>\n",
       "<table border=\"1\" class=\"dataframe\">\n",
       "  <thead>\n",
       "    <tr style=\"text-align: right;\">\n",
       "      <th></th>\n",
       "      <th>Salary</th>\n",
       "      <th>count_at_bats</th>\n",
       "      <th>count_hits</th>\n",
       "      <th>count_home_runs</th>\n",
       "      <th>count_runs</th>\n",
       "      <th>RBI</th>\n",
       "      <th>count_walks</th>\n",
       "      <th>years_experience</th>\n",
       "      <th>cumulative_at_bats</th>\n",
       "      <th>cumulative_hits</th>\n",
       "      <th>cumulative_home_runs</th>\n",
       "      <th>cumulative_runs</th>\n",
       "      <th>cumulative_RBI</th>\n",
       "      <th>cumulative_walks</th>\n",
       "      <th>PutOuts</th>\n",
       "      <th>Assists</th>\n",
       "      <th>Errors</th>\n",
       "    </tr>\n",
       "  </thead>\n",
       "  <tbody>\n",
       "    <tr>\n",
       "      <th>count</th>\n",
       "      <td>2.430000e+02</td>\n",
       "      <td>243.000000</td>\n",
       "      <td>243.000000</td>\n",
       "      <td>243.000000</td>\n",
       "      <td>243.000000</td>\n",
       "      <td>243.000000</td>\n",
       "      <td>243.000000</td>\n",
       "      <td>243.000000</td>\n",
       "      <td>243.000000</td>\n",
       "      <td>243.000000</td>\n",
       "      <td>243.000000</td>\n",
       "      <td>243.000000</td>\n",
       "      <td>243.000000</td>\n",
       "      <td>243.000000</td>\n",
       "      <td>243.000000</td>\n",
       "      <td>243.000000</td>\n",
       "      <td>243.000000</td>\n",
       "    </tr>\n",
       "    <tr>\n",
       "      <th>mean</th>\n",
       "      <td>3.964856e+05</td>\n",
       "      <td>377.621399</td>\n",
       "      <td>99.975309</td>\n",
       "      <td>10.666667</td>\n",
       "      <td>50.123457</td>\n",
       "      <td>47.362140</td>\n",
       "      <td>38.115226</td>\n",
       "      <td>7.473251</td>\n",
       "      <td>2654.497942</td>\n",
       "      <td>717.703704</td>\n",
       "      <td>71.831276</td>\n",
       "      <td>362.061728</td>\n",
       "      <td>332.069959</td>\n",
       "      <td>263.711934</td>\n",
       "      <td>284.263374</td>\n",
       "      <td>102.781893</td>\n",
       "      <td>7.629630</td>\n",
       "    </tr>\n",
       "    <tr>\n",
       "      <th>std</th>\n",
       "      <td>4.205241e+05</td>\n",
       "      <td>151.221516</td>\n",
       "      <td>45.997478</td>\n",
       "      <td>8.449656</td>\n",
       "      <td>25.186109</td>\n",
       "      <td>25.642821</td>\n",
       "      <td>21.239171</td>\n",
       "      <td>5.018386</td>\n",
       "      <td>2344.518332</td>\n",
       "      <td>657.431235</td>\n",
       "      <td>88.616130</td>\n",
       "      <td>337.841166</td>\n",
       "      <td>333.997166</td>\n",
       "      <td>277.955388</td>\n",
       "      <td>275.126756</td>\n",
       "      <td>134.263086</td>\n",
       "      <td>6.244557</td>\n",
       "    </tr>\n",
       "    <tr>\n",
       "      <th>min</th>\n",
       "      <td>0.000000e+00</td>\n",
       "      <td>16.000000</td>\n",
       "      <td>2.000000</td>\n",
       "      <td>0.000000</td>\n",
       "      <td>1.000000</td>\n",
       "      <td>0.000000</td>\n",
       "      <td>0.000000</td>\n",
       "      <td>1.000000</td>\n",
       "      <td>19.000000</td>\n",
       "      <td>4.000000</td>\n",
       "      <td>0.000000</td>\n",
       "      <td>1.000000</td>\n",
       "      <td>0.000000</td>\n",
       "      <td>0.000000</td>\n",
       "      <td>0.000000</td>\n",
       "      <td>0.000000</td>\n",
       "      <td>0.000000</td>\n",
       "    </tr>\n",
       "    <tr>\n",
       "      <th>25%</th>\n",
       "      <td>7.000000e+04</td>\n",
       "      <td>255.500000</td>\n",
       "      <td>64.000000</td>\n",
       "      <td>4.000000</td>\n",
       "      <td>31.000000</td>\n",
       "      <td>29.000000</td>\n",
       "      <td>22.000000</td>\n",
       "      <td>4.000000</td>\n",
       "      <td>826.500000</td>\n",
       "      <td>209.500000</td>\n",
       "      <td>14.000000</td>\n",
       "      <td>100.500000</td>\n",
       "      <td>91.500000</td>\n",
       "      <td>66.500000</td>\n",
       "      <td>113.500000</td>\n",
       "      <td>6.500000</td>\n",
       "      <td>3.000000</td>\n",
       "    </tr>\n",
       "    <tr>\n",
       "      <th>50%</th>\n",
       "      <td>2.500000e+05</td>\n",
       "      <td>360.000000</td>\n",
       "      <td>95.000000</td>\n",
       "      <td>8.000000</td>\n",
       "      <td>48.000000</td>\n",
       "      <td>44.000000</td>\n",
       "      <td>34.000000</td>\n",
       "      <td>6.000000</td>\n",
       "      <td>1931.000000</td>\n",
       "      <td>510.000000</td>\n",
       "      <td>39.000000</td>\n",
       "      <td>258.000000</td>\n",
       "      <td>230.000000</td>\n",
       "      <td>174.000000</td>\n",
       "      <td>211.000000</td>\n",
       "      <td>33.000000</td>\n",
       "      <td>6.000000</td>\n",
       "    </tr>\n",
       "    <tr>\n",
       "      <th>75%</th>\n",
       "      <td>6.665000e+05</td>\n",
       "      <td>511.000000</td>\n",
       "      <td>136.000000</td>\n",
       "      <td>16.000000</td>\n",
       "      <td>68.500000</td>\n",
       "      <td>63.500000</td>\n",
       "      <td>52.000000</td>\n",
       "      <td>11.000000</td>\n",
       "      <td>3890.500000</td>\n",
       "      <td>1037.500000</td>\n",
       "      <td>93.000000</td>\n",
       "      <td>523.500000</td>\n",
       "      <td>424.500000</td>\n",
       "      <td>329.500000</td>\n",
       "      <td>322.500000</td>\n",
       "      <td>151.500000</td>\n",
       "      <td>10.000000</td>\n",
       "    </tr>\n",
       "    <tr>\n",
       "      <th>max</th>\n",
       "      <td>1.975000e+06</td>\n",
       "      <td>687.000000</td>\n",
       "      <td>238.000000</td>\n",
       "      <td>40.000000</td>\n",
       "      <td>117.000000</td>\n",
       "      <td>121.000000</td>\n",
       "      <td>105.000000</td>\n",
       "      <td>24.000000</td>\n",
       "      <td>14053.000000</td>\n",
       "      <td>4256.000000</td>\n",
       "      <td>548.000000</td>\n",
       "      <td>2165.000000</td>\n",
       "      <td>1659.000000</td>\n",
       "      <td>1566.000000</td>\n",
       "      <td>1378.000000</td>\n",
       "      <td>492.000000</td>\n",
       "      <td>32.000000</td>\n",
       "    </tr>\n",
       "  </tbody>\n",
       "</table>\n",
       "</div>"
      ],
      "text/plain": [
       "             Salary  count_at_bats  ...     Assists      Errors\n",
       "count  2.430000e+02     243.000000  ...  243.000000  243.000000\n",
       "mean   3.964856e+05     377.621399  ...  102.781893    7.629630\n",
       "std    4.205241e+05     151.221516  ...  134.263086    6.244557\n",
       "min    0.000000e+00      16.000000  ...    0.000000    0.000000\n",
       "25%    7.000000e+04     255.500000  ...    6.500000    3.000000\n",
       "50%    2.500000e+05     360.000000  ...   33.000000    6.000000\n",
       "75%    6.665000e+05     511.000000  ...  151.500000   10.000000\n",
       "max    1.975000e+06     687.000000  ...  492.000000   32.000000\n",
       "\n",
       "[8 rows x 17 columns]"
      ]
     },
     "execution_count": 128,
     "metadata": {
      "tags": []
     },
     "output_type": "execute_result"
    }
   ],
   "source": [
    "bb_df.describe()"
   ]
  },
  {
   "cell_type": "code",
   "execution_count": null,
   "metadata": {
    "colab": {},
    "colab_type": "code",
    "id": "W3qmQY1VRvDM"
   },
   "outputs": [],
   "source": [
    "# Drop some rows if salary equals to 0\n",
    "bb_df = bb_df.drop(bb_df[bb_df.Salary == 0].index)"
   ]
  },
  {
   "cell_type": "code",
   "execution_count": null,
   "metadata": {
    "colab": {
     "base_uri": "https://localhost:8080/",
     "height": 431
    },
    "colab_type": "code",
    "executionInfo": {
     "elapsed": 20651,
     "status": "ok",
     "timestamp": 1588575501286,
     "user": {
      "displayName": "Yuanying Li",
      "photoUrl": "https://lh3.googleusercontent.com/a-/AOh14GibBabKQRHnLEhm4cv-RCGnSCKt3qup_f0552az=s64",
      "userId": "04747149797881926306"
     },
     "user_tz": 420
    },
    "id": "1d4h_P-z9Yqi",
    "outputId": "df332a50-177f-48b7-ff59-6a2ae8f44774"
   },
   "outputs": [
    {
     "data": {
      "text/html": [
       "<div>\n",
       "<style scoped>\n",
       "    .dataframe tbody tr th:only-of-type {\n",
       "        vertical-align: middle;\n",
       "    }\n",
       "\n",
       "    .dataframe tbody tr th {\n",
       "        vertical-align: top;\n",
       "    }\n",
       "\n",
       "    .dataframe thead th {\n",
       "        text-align: right;\n",
       "    }\n",
       "</style>\n",
       "<table border=\"1\" class=\"dataframe\">\n",
       "  <thead>\n",
       "    <tr style=\"text-align: right;\">\n",
       "      <th></th>\n",
       "      <th>Salary</th>\n",
       "      <th>count_at_bats</th>\n",
       "      <th>count_hits</th>\n",
       "      <th>count_home_runs</th>\n",
       "      <th>count_runs</th>\n",
       "      <th>RBI</th>\n",
       "      <th>count_walks</th>\n",
       "      <th>years_experience</th>\n",
       "      <th>cumulative_at_bats</th>\n",
       "      <th>cumulative_hits</th>\n",
       "      <th>cumulative_home_runs</th>\n",
       "      <th>cumulative_runs</th>\n",
       "      <th>cumulative_RBI</th>\n",
       "      <th>cumulative_walks</th>\n",
       "      <th>League</th>\n",
       "      <th>Division</th>\n",
       "      <th>PutOuts</th>\n",
       "      <th>Assists</th>\n",
       "      <th>Errors</th>\n",
       "      <th>NewLeague</th>\n",
       "    </tr>\n",
       "  </thead>\n",
       "  <tbody>\n",
       "    <tr>\n",
       "      <th>0</th>\n",
       "      <td>875000</td>\n",
       "      <td>457</td>\n",
       "      <td>101</td>\n",
       "      <td>14</td>\n",
       "      <td>42</td>\n",
       "      <td>63</td>\n",
       "      <td>22</td>\n",
       "      <td>17</td>\n",
       "      <td>6521</td>\n",
       "      <td>1767</td>\n",
       "      <td>281</td>\n",
       "      <td>1003</td>\n",
       "      <td>977</td>\n",
       "      <td>619</td>\n",
       "      <td>0</td>\n",
       "      <td>1</td>\n",
       "      <td>389</td>\n",
       "      <td>39</td>\n",
       "      <td>4</td>\n",
       "      <td>0</td>\n",
       "    </tr>\n",
       "    <tr>\n",
       "      <th>1</th>\n",
       "      <td>1300000</td>\n",
       "      <td>441</td>\n",
       "      <td>118</td>\n",
       "      <td>28</td>\n",
       "      <td>84</td>\n",
       "      <td>86</td>\n",
       "      <td>68</td>\n",
       "      <td>8</td>\n",
       "      <td>2723</td>\n",
       "      <td>750</td>\n",
       "      <td>126</td>\n",
       "      <td>433</td>\n",
       "      <td>420</td>\n",
       "      <td>309</td>\n",
       "      <td>0</td>\n",
       "      <td>0</td>\n",
       "      <td>190</td>\n",
       "      <td>2</td>\n",
       "      <td>2</td>\n",
       "      <td>0</td>\n",
       "    </tr>\n",
       "    <tr>\n",
       "      <th>2</th>\n",
       "      <td>940000</td>\n",
       "      <td>593</td>\n",
       "      <td>152</td>\n",
       "      <td>23</td>\n",
       "      <td>69</td>\n",
       "      <td>75</td>\n",
       "      <td>53</td>\n",
       "      <td>6</td>\n",
       "      <td>2765</td>\n",
       "      <td>686</td>\n",
       "      <td>133</td>\n",
       "      <td>369</td>\n",
       "      <td>384</td>\n",
       "      <td>321</td>\n",
       "      <td>0</td>\n",
       "      <td>1</td>\n",
       "      <td>315</td>\n",
       "      <td>10</td>\n",
       "      <td>6</td>\n",
       "      <td>0</td>\n",
       "    </tr>\n",
       "    <tr>\n",
       "      <th>3</th>\n",
       "      <td>70000</td>\n",
       "      <td>312</td>\n",
       "      <td>68</td>\n",
       "      <td>2</td>\n",
       "      <td>32</td>\n",
       "      <td>22</td>\n",
       "      <td>24</td>\n",
       "      <td>1</td>\n",
       "      <td>312</td>\n",
       "      <td>68</td>\n",
       "      <td>2</td>\n",
       "      <td>32</td>\n",
       "      <td>22</td>\n",
       "      <td>24</td>\n",
       "      <td>0</td>\n",
       "      <td>0</td>\n",
       "      <td>86</td>\n",
       "      <td>150</td>\n",
       "      <td>15</td>\n",
       "      <td>0</td>\n",
       "    </tr>\n",
       "    <tr>\n",
       "      <th>4</th>\n",
       "      <td>815000</td>\n",
       "      <td>526</td>\n",
       "      <td>146</td>\n",
       "      <td>13</td>\n",
       "      <td>71</td>\n",
       "      <td>70</td>\n",
       "      <td>84</td>\n",
       "      <td>6</td>\n",
       "      <td>2648</td>\n",
       "      <td>715</td>\n",
       "      <td>77</td>\n",
       "      <td>352</td>\n",
       "      <td>342</td>\n",
       "      <td>289</td>\n",
       "      <td>1</td>\n",
       "      <td>1</td>\n",
       "      <td>303</td>\n",
       "      <td>9</td>\n",
       "      <td>9</td>\n",
       "      <td>1</td>\n",
       "    </tr>\n",
       "    <tr>\n",
       "      <th>...</th>\n",
       "      <td>...</td>\n",
       "      <td>...</td>\n",
       "      <td>...</td>\n",
       "      <td>...</td>\n",
       "      <td>...</td>\n",
       "      <td>...</td>\n",
       "      <td>...</td>\n",
       "      <td>...</td>\n",
       "      <td>...</td>\n",
       "      <td>...</td>\n",
       "      <td>...</td>\n",
       "      <td>...</td>\n",
       "      <td>...</td>\n",
       "      <td>...</td>\n",
       "      <td>...</td>\n",
       "      <td>...</td>\n",
       "      <td>...</td>\n",
       "      <td>...</td>\n",
       "      <td>...</td>\n",
       "      <td>...</td>\n",
       "    </tr>\n",
       "    <tr>\n",
       "      <th>179</th>\n",
       "      <td>517000</td>\n",
       "      <td>574</td>\n",
       "      <td>159</td>\n",
       "      <td>21</td>\n",
       "      <td>107</td>\n",
       "      <td>75</td>\n",
       "      <td>59</td>\n",
       "      <td>10</td>\n",
       "      <td>4631</td>\n",
       "      <td>1300</td>\n",
       "      <td>90</td>\n",
       "      <td>702</td>\n",
       "      <td>504</td>\n",
       "      <td>488</td>\n",
       "      <td>0</td>\n",
       "      <td>0</td>\n",
       "      <td>238</td>\n",
       "      <td>445</td>\n",
       "      <td>22</td>\n",
       "      <td>0</td>\n",
       "    </tr>\n",
       "    <tr>\n",
       "      <th>180</th>\n",
       "      <td>250000</td>\n",
       "      <td>257</td>\n",
       "      <td>66</td>\n",
       "      <td>5</td>\n",
       "      <td>31</td>\n",
       "      <td>26</td>\n",
       "      <td>32</td>\n",
       "      <td>14</td>\n",
       "      <td>3910</td>\n",
       "      <td>979</td>\n",
       "      <td>33</td>\n",
       "      <td>518</td>\n",
       "      <td>324</td>\n",
       "      <td>382</td>\n",
       "      <td>1</td>\n",
       "      <td>1</td>\n",
       "      <td>87</td>\n",
       "      <td>166</td>\n",
       "      <td>14</td>\n",
       "      <td>0</td>\n",
       "    </tr>\n",
       "    <tr>\n",
       "      <th>181</th>\n",
       "      <td>300000</td>\n",
       "      <td>204</td>\n",
       "      <td>49</td>\n",
       "      <td>6</td>\n",
       "      <td>23</td>\n",
       "      <td>25</td>\n",
       "      <td>12</td>\n",
       "      <td>7</td>\n",
       "      <td>1309</td>\n",
       "      <td>308</td>\n",
       "      <td>27</td>\n",
       "      <td>126</td>\n",
       "      <td>132</td>\n",
       "      <td>66</td>\n",
       "      <td>0</td>\n",
       "      <td>1</td>\n",
       "      <td>419</td>\n",
       "      <td>46</td>\n",
       "      <td>5</td>\n",
       "      <td>0</td>\n",
       "    </tr>\n",
       "    <tr>\n",
       "      <th>182</th>\n",
       "      <td>700000</td>\n",
       "      <td>283</td>\n",
       "      <td>77</td>\n",
       "      <td>14</td>\n",
       "      <td>45</td>\n",
       "      <td>47</td>\n",
       "      <td>26</td>\n",
       "      <td>16</td>\n",
       "      <td>6840</td>\n",
       "      <td>1910</td>\n",
       "      <td>259</td>\n",
       "      <td>915</td>\n",
       "      <td>1067</td>\n",
       "      <td>546</td>\n",
       "      <td>0</td>\n",
       "      <td>1</td>\n",
       "      <td>144</td>\n",
       "      <td>6</td>\n",
       "      <td>5</td>\n",
       "      <td>0</td>\n",
       "    </tr>\n",
       "    <tr>\n",
       "      <th>183</th>\n",
       "      <td>1350000</td>\n",
       "      <td>627</td>\n",
       "      <td>177</td>\n",
       "      <td>25</td>\n",
       "      <td>98</td>\n",
       "      <td>81</td>\n",
       "      <td>70</td>\n",
       "      <td>6</td>\n",
       "      <td>3210</td>\n",
       "      <td>927</td>\n",
       "      <td>133</td>\n",
       "      <td>529</td>\n",
       "      <td>472</td>\n",
       "      <td>313</td>\n",
       "      <td>0</td>\n",
       "      <td>0</td>\n",
       "      <td>240</td>\n",
       "      <td>482</td>\n",
       "      <td>13</td>\n",
       "      <td>0</td>\n",
       "    </tr>\n",
       "  </tbody>\n",
       "</table>\n",
       "<p>184 rows × 20 columns</p>\n",
       "</div>"
      ],
      "text/plain": [
       "      Salary  count_at_bats  count_hits  ...  Assists  Errors  NewLeague\n",
       "0     875000            457         101  ...       39       4          0\n",
       "1    1300000            441         118  ...        2       2          0\n",
       "2     940000            593         152  ...       10       6          0\n",
       "3      70000            312          68  ...      150      15          0\n",
       "4     815000            526         146  ...        9       9          1\n",
       "..       ...            ...         ...  ...      ...     ...        ...\n",
       "179   517000            574         159  ...      445      22          0\n",
       "180   250000            257          66  ...      166      14          0\n",
       "181   300000            204          49  ...       46       5          0\n",
       "182   700000            283          77  ...        6       5          0\n",
       "183  1350000            627         177  ...      482      13          0\n",
       "\n",
       "[184 rows x 20 columns]"
      ]
     },
     "metadata": {
      "tags": []
     },
     "output_type": "display_data"
    }
   ],
   "source": [
    "# Convert non-numeric columns to numeric columns\n",
    "\n",
    "le = LabelEncoder()\n",
    "\n",
    "for column in bb_df.columns:\n",
    "  if not pd.api.types.is_numeric_dtype(bb_df[column]):\n",
    "    bb_df[column] = le.fit_transform(bb_df[column])\n",
    "display(bb_df)"
   ]
  },
  {
   "cell_type": "markdown",
   "metadata": {
    "colab_type": "text",
    "id": "uPYR85GxYHR7"
   },
   "source": [
    "## 3.2 Splitting the data for training\n"
   ]
  },
  {
   "cell_type": "code",
   "execution_count": null,
   "metadata": {
    "colab": {},
    "colab_type": "code",
    "id": "ztS8ISco9uEA"
   },
   "outputs": [],
   "source": [
    "X_bb = bb_df[[x for x in bb_df.columns if x != 'Salary']]\n",
    "y_bb = bb_df['Salary']\n",
    "X_bb_train, X_bb_test, y_bb_train, y_bb_test = train_test_split(X_bb, y_bb,test_size = 0.3, random_state=1)"
   ]
  },
  {
   "cell_type": "markdown",
   "metadata": {
    "colab_type": "text",
    "id": "JavYGvT7x-kR"
   },
   "source": [
    "## 3.3 Use Linear Regression"
   ]
  },
  {
   "cell_type": "code",
   "execution_count": null,
   "metadata": {
    "colab": {
     "base_uri": "https://localhost:8080/",
     "height": 124
    },
    "colab_type": "code",
    "executionInfo": {
     "elapsed": 20864,
     "status": "ok",
     "timestamp": 1588575501507,
     "user": {
      "displayName": "Yuanying Li",
      "photoUrl": "https://lh3.googleusercontent.com/a-/AOh14GibBabKQRHnLEhm4cv-RCGnSCKt3qup_f0552az=s64",
      "userId": "04747149797881926306"
     },
     "user_tz": 420
    },
    "id": "nvTitQHYXyKm",
    "outputId": "f25b0882-6f4d-4cdb-e8f2-2e71d7a9f338"
   },
   "outputs": [
    {
     "name": "stdout",
     "output_type": "stream",
     "text": [
      "Intercept:  -19473.08557459875\n",
      "Co-efficient:  [  -1334.71994582    7066.28866084   10594.31732315   -4062.00793543\n",
      "   -2346.78342034    8669.8119759    27037.51346706    -349.22894258\n",
      "     459.38581886   -2003.89655222    1199.02269322    1589.64219671\n",
      "    -897.82041509  157223.45508899 -126123.85802726     195.57938953\n",
      "     362.93286803   -6836.72431818 -110544.02221516]\n"
     ]
    }
   ],
   "source": [
    "# build a linear regression model\n",
    "linreg = LinearRegression()\n",
    "linreg.fit(X_bb_train, y_bb_train)\n",
    "y_bb_linear_pred = linreg.predict(X_bb_test)\n",
    "\n",
    "LinearRegression(copy_X=True, fit_intercept=True, n_jobs=None, normalize=False)\n",
    "\n",
    "print (\"Intercept: \",linreg.intercept_)\n",
    "print (\"Co-efficient: \",linreg.coef_)\n",
    "\n",
    "#Borrow from: https://medium.com/@harishreddyp98/regularization-in-python-699cfbad8622"
   ]
  },
  {
   "cell_type": "code",
   "execution_count": null,
   "metadata": {
    "colab": {
     "base_uri": "https://localhost:8080/",
     "height": 195
    },
    "colab_type": "code",
    "executionInfo": {
     "elapsed": 20858,
     "status": "ok",
     "timestamp": 1588575501508,
     "user": {
      "displayName": "Yuanying Li",
      "photoUrl": "https://lh3.googleusercontent.com/a-/AOh14GibBabKQRHnLEhm4cv-RCGnSCKt3qup_f0552az=s64",
      "userId": "04747149797881926306"
     },
     "user_tz": 420
    },
    "id": "mmfo9bhCzZec",
    "outputId": "73002ac1-a32b-4e30-c568-b189cb35e11c"
   },
   "outputs": [
    {
     "name": "stdout",
     "output_type": "stream",
     "text": [
      "R-Square Value 0.34784428906428466\n",
      "\n",
      "\n",
      "mean_absolute_error : 231087.51139864273\n",
      "\n",
      "\n",
      "mean_squared_error :  89497771924.00388\n",
      "\n",
      "\n",
      "root_mean_squared_error :  299161.78219151567\n"
     ]
    }
   ],
   "source": [
    "# Calculate R^2 value, MAE, MSE, RMSE\n",
    "print(\"R-Square Value\",r2_score(y_bb_test,y_bb_linear_pred))\n",
    "print(\"\\n\")\n",
    "print (\"mean_absolute_error :\",metrics.mean_absolute_error(y_bb_test, y_bb_linear_pred))\n",
    "print(\"\\n\")\n",
    "print (\"mean_squared_error : \",metrics.mean_squared_error(y_bb_test, y_bb_linear_pred))\n",
    "print(\"\\n\")\n",
    "print (\"root_mean_squared_error : \",np.sqrt(metrics.mean_squared_error(y_bb_test, y_bb_linear_pred)))"
   ]
  },
  {
   "cell_type": "markdown",
   "metadata": {
    "colab_type": "text",
    "id": "nf3ZNKxs1MHD"
   },
   "source": [
    "## 3.4 Use Lasso regression to minimizes overfitting"
   ]
  },
  {
   "cell_type": "code",
   "execution_count": null,
   "metadata": {
    "colab": {
     "base_uri": "https://localhost:8080/",
     "height": 730
    },
    "colab_type": "code",
    "executionInfo": {
     "elapsed": 20852,
     "status": "ok",
     "timestamp": 1588575501509,
     "user": {
      "displayName": "Yuanying Li",
      "photoUrl": "https://lh3.googleusercontent.com/a-/AOh14GibBabKQRHnLEhm4cv-RCGnSCKt3qup_f0552az=s64",
      "userId": "04747149797881926306"
     },
     "user_tz": 420
    },
    "id": "TBo--NLiCMhf",
    "outputId": "db9fbf74-3c85-4a27-f58b-ef3c9881e49c"
   },
   "outputs": [
    {
     "name": "stdout",
     "output_type": "stream",
     "text": [
      "[  -1533.09560314    6527.68138651    5263.75859144   -1738.55171184\n",
      "    -696.25220854    7958.177424     12412.4024363     -151.79997106\n",
      "     376.62126346    -600.10830134     480.21797452     853.85548178\n",
      "    -749.17732888  129356.76629195 -128966.16391055     216.63894888\n",
      "     286.69514623   -6466.38647944  -89111.71383691]\n",
      "\n",
      "\n",
      "count_at_bats            -1533.095603\n",
      "count_hits                6527.681387\n",
      "count_home_runs           5263.758591\n",
      "count_runs               -1738.551712\n",
      "RBI                       -696.252209\n",
      "count_walks               7958.177424\n",
      "years_experience         12412.402436\n",
      "cumulative_at_bats        -151.799971\n",
      "cumulative_hits            376.621263\n",
      "cumulative_home_runs      -600.108301\n",
      "cumulative_runs            480.217975\n",
      "cumulative_RBI             853.855482\n",
      "cumulative_walks          -749.177329\n",
      "League                  129356.766292\n",
      "Division               -128966.163911\n",
      "PutOuts                    216.638949\n",
      "Assists                    286.695146\n",
      "Errors                   -6466.386479\n",
      "NewLeague               -89111.713837\n",
      "dtype: float64\n",
      "R-Square Value 0.3882554795145736\n",
      "\n",
      "\n",
      "mean_absolute_error : 218136.03655523606\n",
      "\n",
      "\n",
      "mean_squared_error :  83951992832.52254\n",
      "\n",
      "\n",
      "root_mean_squared_error :  289744.7028549833\n"
     ]
    },
    {
     "name": "stderr",
     "output_type": "stream",
     "text": [
      "/usr/local/lib/python3.6/dist-packages/sklearn/linear_model/_coordinate_descent.py:476: ConvergenceWarning: Objective did not converge. You might want to increase the number of iterations. Duality gap: 7762925095.375, tolerance: 2265066299.21875\n",
      "  positive)\n"
     ]
    }
   ],
   "source": [
    "# try alpha=100 and exmaine coefficient\n",
    "\n",
    "lassoreg = Lasso(alpha=100, normalize=True)\n",
    "lassoreg.fit(X_bb_train, y_bb_train)\n",
    "print(lassoreg.coef_)\n",
    "print(\"\\n\")\n",
    "print(pd.Series(lassoreg.coef_, index=X_bb_train.columns))\n",
    "y_bb_lasso_pred = lassoreg.predict(X_bb_test)\n",
    "\n",
    "\n",
    "# Calculate R^2 value, MAE, MSE, RMSE\n",
    "print(\"R-Square Value\",r2_score(y_bb_test,y_bb_lasso_pred))\n",
    "print(\"\\n\")\n",
    "print (\"mean_absolute_error :\",metrics.mean_absolute_error(y_bb_test, y_bb_lasso_pred))\n",
    "print(\"\\n\")\n",
    "print (\"mean_squared_error : \",metrics.mean_squared_error(y_bb_test, y_bb_lasso_pred))\n",
    "print(\"\\n\")\n",
    "print (\"root_mean_squared_error : \",np.sqrt(metrics.mean_squared_error(y_bb_test, y_bb_lasso_pred)))"
   ]
  },
  {
   "cell_type": "markdown",
   "metadata": {
    "colab_type": "text",
    "id": "RVorG-XS8xDd"
   },
   "source": [
    "## 3.5 LassoCV: lasso regression with built-in cross-validation of the alpha parameter"
   ]
  },
  {
   "cell_type": "code",
   "execution_count": null,
   "metadata": {
    "colab": {
     "base_uri": "https://localhost:8080/",
     "height": 695
    },
    "colab_type": "code",
    "executionInfo": {
     "elapsed": 20847,
     "status": "ok",
     "timestamp": 1588575501511,
     "user": {
      "displayName": "Yuanying Li",
      "photoUrl": "https://lh3.googleusercontent.com/a-/AOh14GibBabKQRHnLEhm4cv-RCGnSCKt3qup_f0552az=s64",
      "userId": "04747149797881926306"
     },
     "user_tz": 420
    },
    "id": "Z6op0Tqq86IB",
    "outputId": "f37152de-6b17-4cf4-e71c-1b3101cdd1c9"
   },
   "outputs": [
    {
     "name": "stdout",
     "output_type": "stream",
     "text": [
      "alpha :  528558.377746582\n",
      "\n",
      "\n",
      "count_at_bats             -0.000000\n",
      "count_hits              1947.983455\n",
      "count_home_runs            0.000000\n",
      "count_runs                 0.000000\n",
      "RBI                        0.000000\n",
      "count_walks             3216.974128\n",
      "years_experience           0.000000\n",
      "cumulative_at_bats      -350.778947\n",
      "cumulative_hits         1202.484496\n",
      "cumulative_home_runs      -0.000000\n",
      "cumulative_runs            0.000000\n",
      "cumulative_RBI           730.219252\n",
      "cumulative_walks        -104.547688\n",
      "League                     0.000000\n",
      "Division                  -0.000000\n",
      "PutOuts                  186.967227\n",
      "Assists                   -0.000000\n",
      "Errors                    -0.000000\n",
      "NewLeague                 -0.000000\n",
      "dtype: float64\n",
      "\n",
      "\n",
      "R-Square Value 0.45056116829275283\n",
      "\n",
      "\n",
      "mean_absolute_error : 196620.85833178114\n",
      "\n",
      "\n",
      "mean_squared_error :  75401549693.97104\n",
      "\n",
      "\n",
      "root_mean_squared_error :  274593.4261667075\n"
     ]
    },
    {
     "name": "stderr",
     "output_type": "stream",
     "text": [
      "/usr/local/lib/python3.6/dist-packages/sklearn/linear_model/_coordinate_descent.py:476: ConvergenceWarning: Objective did not converge. You might want to increase the number of iterations. Duality gap: 13734931442.38086, tolerance: 2265066299.21875\n",
      "  positive)\n"
     ]
    }
   ],
   "source": [
    "# Select the best alpha with LassoCV\n",
    "lassoregcv = LassoCV()\n",
    "lassoregcv.fit(X_bb_train, y_bb_train)\n",
    "y_bb_lasso_cv_pred = lassoregcv.predict(X_bb_test)\n",
    "print('alpha : ',lassoregcv.alpha_)\n",
    "print(\"\\n\")\n",
    "\n",
    "# Examine the coefficients\n",
    "print(pd.Series(lassoregcv.coef_, index=X_bb_train.columns))\n",
    "print(\"\\n\")\n",
    "\n",
    "# Calculate R^2 value, MAE, MSE, RMSE\n",
    "print(\"R-Square Value\",r2_score(y_bb_test,y_bb_lasso_cv_pred))\n",
    "print(\"\\n\")\n",
    "print (\"mean_absolute_error :\",metrics.mean_absolute_error(y_bb_test, y_bb_lasso_cv_pred))\n",
    "print(\"\\n\")\n",
    "print (\"mean_squared_error : \",metrics.mean_squared_error(y_bb_test, y_bb_lasso_cv_pred))\n",
    "print(\"\\n\")\n",
    "print (\"root_mean_squared_error : \",np.sqrt(metrics.mean_squared_error(y_bb_test, y_bb_lasso_cv_pred)))"
   ]
  },
  {
   "cell_type": "markdown",
   "metadata": {
    "colab_type": "text",
    "id": "7lf411-hQmrl"
   },
   "source": [
    "## Obeservation:\n",
    "###  Regularization is a method for constraining or regularizing the size of the coefficientsIn this part, we focus on regularization using Lasso Regression and Lasso Regression with built-in cross-validation of the alpha parameter.\n",
    "\n",
    "1.   In linear regression model, the R square equals to 0.3478, with using Lasso Regression, some features coefficient shrink, and R square increases. \n",
    "2.    In Lasso Regression and Lasso Regression with built-in cross-validation of the alpha parameter model, which is a way to find best alpha, the best alpha value is 502582.  In this situation, some features coefficients shrink to zero, thus remove them from model to fit the model better. The R square increases to 0.48. If alpha is getting bigger, some irrelevant features will be reomove, and features coefficient shrink to zero.\n",
    "\n"
   ]
  },
  {
   "cell_type": "markdown",
   "metadata": {
    "colab_type": "text",
    "id": "TuSOGZwffgxW"
   },
   "source": [
    "## 3.6 Use Ridge Regression with built-in cross-validation of the alpha parameter"
   ]
  },
  {
   "cell_type": "code",
   "execution_count": null,
   "metadata": {
    "colab": {
     "base_uri": "https://localhost:8080/",
     "height": 604
    },
    "colab_type": "code",
    "executionInfo": {
     "elapsed": 21252,
     "status": "ok",
     "timestamp": 1588575501923,
     "user": {
      "displayName": "Yuanying Li",
      "photoUrl": "https://lh3.googleusercontent.com/a-/AOh14GibBabKQRHnLEhm4cv-RCGnSCKt3qup_f0552az=s64",
      "userId": "04747149797881926306"
     },
     "user_tz": 420
    },
    "id": "xT6Ks1qdfjqk",
    "outputId": "c6d379c5-5fbb-4cb2-a4dd-3ab065564053"
   },
   "outputs": [
    {
     "name": "stdout",
     "output_type": "stream",
     "text": [
      "alpha :  1.0\n",
      "count_at_bats            -1350.500927\n",
      "count_hits                7077.131662\n",
      "count_home_runs          10939.884982\n",
      "count_runs               -3912.720785\n",
      "RBI                      -2511.176611\n",
      "count_walks               8616.186419\n",
      "years_experience         26949.417187\n",
      "cumulative_at_bats        -343.429282\n",
      "cumulative_hits            422.625719\n",
      "cumulative_home_runs     -2085.786846\n",
      "cumulative_runs           1226.095312\n",
      "cumulative_RBI            1620.205592\n",
      "cumulative_walks          -900.953869\n",
      "League                  129847.441519\n",
      "Division               -121814.889503\n",
      "PutOuts                    194.643554\n",
      "Assists                    351.572384\n",
      "Errors                   -6507.339296\n",
      "NewLeague               -83545.937817\n",
      "dtype: float64\n",
      "\n",
      "\n",
      "R-Square Value 0.35427611199111275\n",
      "\n",
      "\n",
      "mean_absolute_error : 228586.96543568978\n",
      "\n",
      "\n",
      "mean_squared_error :  88615108762.87796\n",
      "\n",
      "\n",
      "root_mean_squared_error :  297682.89968165447\n"
     ]
    }
   ],
   "source": [
    "# select the best alpha with RidgeCV\n",
    "\n",
    "ridgeregcv = RidgeCV()\n",
    "ridgeregcv.fit(X_bb_train, y_bb_train)\n",
    "y_bb_ridge_cv_pred = ridgeregcv.predict(X_bb_test)\n",
    "print('alpha : ',ridgeregcv.alpha_)\n",
    "print(pd.Series(ridgeregcv.coef_, index=X_bb_train.columns))\n",
    "print(\"\\n\")\n",
    "\n",
    "\n",
    "# Calculate R^2 value, MAE, MSE, RMSE\n",
    "print(\"R-Square Value\",r2_score(y_bb_test,y_bb_ridge_cv_pred))\n",
    "print(\"\\n\")\n",
    "print (\"mean_absolute_error :\",metrics.mean_absolute_error(y_bb_test, y_bb_ridge_cv_pred))\n",
    "print(\"\\n\")\n",
    "print (\"mean_squared_error : \",metrics.mean_squared_error(y_bb_test, y_bb_ridge_cv_pred))\n",
    "print(\"\\n\")\n",
    "print (\"root_mean_squared_error : \",np.sqrt(metrics.mean_squared_error(y_bb_test, y_bb_ridge_cv_pred)))\n"
   ]
  },
  {
   "cell_type": "markdown",
   "metadata": {
    "colab_type": "text",
    "id": "86mtee0QZMBG"
   },
   "source": [
    "## 3.7 Use Elasticnet regression"
   ]
  },
  {
   "cell_type": "code",
   "execution_count": null,
   "metadata": {
    "colab": {
     "base_uri": "https://localhost:8080/",
     "height": 250
    },
    "colab_type": "code",
    "executionInfo": {
     "elapsed": 21246,
     "status": "ok",
     "timestamp": 1588575501924,
     "user": {
      "displayName": "Yuanying Li",
      "photoUrl": "https://lh3.googleusercontent.com/a-/AOh14GibBabKQRHnLEhm4cv-RCGnSCKt3qup_f0552az=s64",
      "userId": "04747149797881926306"
     },
     "user_tz": 420
    },
    "id": "gpAzKlt_3b4Y",
    "outputId": "64047452-8700-45ee-8dc3-b3c88509bf0c"
   },
   "outputs": [
    {
     "name": "stdout",
     "output_type": "stream",
     "text": [
      "R-Square Value 0.4592669472855877\n",
      "\n",
      "\n",
      "mean_absolute_error : 194555.42338473405\n",
      "\n",
      "\n",
      "mean_squared_error :  74206823021.0978\n",
      "\n",
      "\n",
      "root_mean_squared_error :  272409.2931988514\n"
     ]
    },
    {
     "name": "stderr",
     "output_type": "stream",
     "text": [
      "/usr/local/lib/python3.6/dist-packages/sklearn/linear_model/_coordinate_descent.py:476: ConvergenceWarning: Objective did not converge. You might want to increase the number of iterations. Duality gap: 4365885537373.3735, tolerance: 2265066299.21875\n",
      "  positive)\n"
     ]
    }
   ],
   "source": [
    "#use Elasticnet regression\n",
    "#l1_ratio = 0 equeals laaso(L1) regression\n",
    "elastic_net = ElasticNet(alpha=1000, l1_ratio=0.5)\n",
    "elastic_net.fit(X_bb_train, y_bb_train)\n",
    "elastic_net_predict = elastic_net.predict(X_bb_test)\n",
    "\n",
    "# calculate R^2 value, MAE, MSE, RMSE\n",
    "\n",
    "print(\"R-Square Value\",r2_score(y_bb_test,elastic_net_predict))\n",
    "print(\"\\n\")\n",
    "print (\"mean_absolute_error :\",metrics.mean_absolute_error(y_bb_test, elastic_net_predict))\n",
    "print(\"\\n\")\n",
    "print (\"mean_squared_error : \",metrics.mean_squared_error(y_bb_test, elastic_net_predict))\n",
    "print(\"\\n\")\n",
    "print (\"root_mean_squared_error : \",np.sqrt(metrics.mean_squared_error(y_bb_test, elastic_net_predict)))"
   ]
  },
  {
   "cell_type": "markdown",
   "metadata": {
    "colab_type": "text",
    "id": "2vP4HUM6ZmRG"
   },
   "source": [
    "Reference:\n",
    "\n",
    "1.Regularization in Python\n",
    "https://medium.com/@harishreddyp98/regularization-in-python-699cfbad8622\n",
    "\n",
    "2.A Simple Example of Pipeline in Machine Learning with Scikit-learn\n",
    "https://towardsdatascience.com/a-simple-example-of-pipeline-in-machine-learning-with-scikit-learn-e726ffbb6976\n",
    "\n",
    "3.Ridge and Lasso Regression: L1 and L2 Regularization\n",
    "https://towardsdatascience.com/ridge-and-lasso-regression-a-complete-guide-with-python-scikit-learn-e20e34bcbf0b"
   ]
  }
 ],
 "metadata": {
  "colab": {
   "authorship_tag": "ABX9TyMti5JjDbsM1Tevy7dsxPE8",
   "collapsed_sections": [],
   "name": "ALY 6015 - SpringA 2020 -Yuanying Li #HW3.ipynb.ipynb",
   "provenance": []
  },
  "kernelspec": {
   "display_name": "Python 3",
   "language": "python",
   "name": "python3"
  },
  "language_info": {
   "codemirror_mode": {
    "name": "ipython",
    "version": 3
   },
   "file_extension": ".py",
   "mimetype": "text/x-python",
   "name": "python",
   "nbconvert_exporter": "python",
   "pygments_lexer": "ipython3",
   "version": "3.7.4"
  }
 },
 "nbformat": 4,
 "nbformat_minor": 1
}
